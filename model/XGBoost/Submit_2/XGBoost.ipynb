{
 "cells": [
  {
   "cell_type": "code",
   "execution_count": 1,
   "id": "09b4023d",
   "metadata": {},
   "outputs": [],
   "source": [
    "import lightgbm as lgb\n",
    "import pandas as pd\n",
    "import numpy as np\n",
    "import sklearn\n",
    "from sklearn.model_selection import train_test_split\n",
    "from sklearn.preprocessing import StandardScaler\n",
    "\n",
    "import xgboost\n",
    "import matplotlib.pyplot as plt\n",
    "from sklearn.metrics import explained_variance_score"
   ]
  },
  {
   "cell_type": "code",
   "execution_count": 2,
   "id": "72800f6e",
   "metadata": {},
   "outputs": [],
   "source": [
    "x_train_data_path = (\"./colab_workspace/colab_workspace/space_data/train_data/train_1h_max.csv\")\n",
    "y_train_data_path = (\"./colab_workspace/colab_workspace/space_data/predict_data/predict_1h_max.csv\")\n",
    "\n",
    "X = pd.read_csv(x_train_data_path).drop([\"kp\"], axis = 1)\n",
    "y = pd.read_csv(x_train_data_path).loc[:, [\"kp\"]]"
   ]
  },
  {
   "cell_type": "code",
   "execution_count": 3,
   "id": "867ce4eb",
   "metadata": {},
   "outputs": [],
   "source": [
    "new_df = pd.concat([X,y], axis=1).dropna()\n",
    "y = new_df.pop(\"kp\")\n",
    "X = new_df"
   ]
  },
  {
   "cell_type": "code",
   "execution_count": 4,
   "id": "f1ed5eef",
   "metadata": {},
   "outputs": [
    {
     "data": {
      "text/html": [
       "<div>\n",
       "<style scoped>\n",
       "    .dataframe tbody tr th:only-of-type {\n",
       "        vertical-align: middle;\n",
       "    }\n",
       "\n",
       "    .dataframe tbody tr th {\n",
       "        vertical-align: top;\n",
       "    }\n",
       "\n",
       "    .dataframe thead th {\n",
       "        text-align: right;\n",
       "    }\n",
       "</style>\n",
       "<table border=\"1\" class=\"dataframe\">\n",
       "  <thead>\n",
       "    <tr style=\"text-align: right;\">\n",
       "      <th></th>\n",
       "      <th>proton_density</th>\n",
       "      <th>proton_temperature</th>\n",
       "      <th>proton_speed</th>\n",
       "      <th>bx_gsm</th>\n",
       "      <th>by_gsm</th>\n",
       "      <th>bz_gsm</th>\n",
       "      <th>bt</th>\n",
       "      <th>ich_x</th>\n",
       "      <th>ich_y</th>\n",
       "      <th>ich_z</th>\n",
       "      <th>jj_x</th>\n",
       "      <th>jj_y</th>\n",
       "      <th>jj_z</th>\n",
       "      <th>gn_x</th>\n",
       "      <th>gn_y</th>\n",
       "      <th>gn_z</th>\n",
       "    </tr>\n",
       "  </thead>\n",
       "  <tbody>\n",
       "    <tr>\n",
       "      <th>0</th>\n",
       "      <td>6.241279</td>\n",
       "      <td>76577.37</td>\n",
       "      <td>387.36032</td>\n",
       "      <td>1.365373</td>\n",
       "      <td>5.672788</td>\n",
       "      <td>0.600567</td>\n",
       "      <td>5.763508</td>\n",
       "      <td>29779.13</td>\n",
       "      <td>-4278.25</td>\n",
       "      <td>40694.08</td>\n",
       "      <td>33230.181102</td>\n",
       "      <td>-286.159383</td>\n",
       "      <td>31625.37</td>\n",
       "      <td>29648.872476</td>\n",
       "      <td>-108.229278</td>\n",
       "      <td>41083.53</td>\n",
       "    </tr>\n",
       "    <tr>\n",
       "      <th>3</th>\n",
       "      <td>6.813561</td>\n",
       "      <td>67664.01</td>\n",
       "      <td>378.40260</td>\n",
       "      <td>-0.581965</td>\n",
       "      <td>6.174460</td>\n",
       "      <td>-1.593402</td>\n",
       "      <td>6.897248</td>\n",
       "      <td>29756.05</td>\n",
       "      <td>-4288.25</td>\n",
       "      <td>40682.30</td>\n",
       "      <td>33210.391417</td>\n",
       "      <td>-293.578526</td>\n",
       "      <td>31612.36</td>\n",
       "      <td>29629.344341</td>\n",
       "      <td>-122.948941</td>\n",
       "      <td>41075.97</td>\n",
       "    </tr>\n",
       "    <tr>\n",
       "      <th>6</th>\n",
       "      <td>6.917184</td>\n",
       "      <td>79429.81</td>\n",
       "      <td>384.22640</td>\n",
       "      <td>-0.686914</td>\n",
       "      <td>6.641247</td>\n",
       "      <td>6.944213</td>\n",
       "      <td>8.015132</td>\n",
       "      <td>29760.81</td>\n",
       "      <td>-4305.17</td>\n",
       "      <td>40687.11</td>\n",
       "      <td>33212.001472</td>\n",
       "      <td>-310.976367</td>\n",
       "      <td>31621.27</td>\n",
       "      <td>29634.529857</td>\n",
       "      <td>-136.638547</td>\n",
       "      <td>41080.17</td>\n",
       "    </tr>\n",
       "    <tr>\n",
       "      <th>9</th>\n",
       "      <td>6.566628</td>\n",
       "      <td>110697.47</td>\n",
       "      <td>393.20218</td>\n",
       "      <td>3.735692</td>\n",
       "      <td>10.023702</td>\n",
       "      <td>1.690962</td>\n",
       "      <td>10.598715</td>\n",
       "      <td>29771.09</td>\n",
       "      <td>-4296.02</td>\n",
       "      <td>40688.76</td>\n",
       "      <td>33220.962782</td>\n",
       "      <td>-303.387349</td>\n",
       "      <td>31624.04</td>\n",
       "      <td>29643.270732</td>\n",
       "      <td>-125.978862</td>\n",
       "      <td>41081.21</td>\n",
       "    </tr>\n",
       "    <tr>\n",
       "      <th>12</th>\n",
       "      <td>6.216072</td>\n",
       "      <td>200632.03</td>\n",
       "      <td>460.29530</td>\n",
       "      <td>8.882007</td>\n",
       "      <td>9.846230</td>\n",
       "      <td>9.389044</td>\n",
       "      <td>17.023562</td>\n",
       "      <td>29738.60</td>\n",
       "      <td>-4288.57</td>\n",
       "      <td>40691.35</td>\n",
       "      <td>33188.173336</td>\n",
       "      <td>-303.197334</td>\n",
       "      <td>31622.28</td>\n",
       "      <td>29610.383454</td>\n",
       "      <td>-124.738893</td>\n",
       "      <td>41081.84</td>\n",
       "    </tr>\n",
       "    <tr>\n",
       "      <th>...</th>\n",
       "      <td>...</td>\n",
       "      <td>...</td>\n",
       "      <td>...</td>\n",
       "      <td>...</td>\n",
       "      <td>...</td>\n",
       "      <td>...</td>\n",
       "      <td>...</td>\n",
       "      <td>...</td>\n",
       "      <td>...</td>\n",
       "      <td>...</td>\n",
       "      <td>...</td>\n",
       "      <td>...</td>\n",
       "      <td>...</td>\n",
       "      <td>...</td>\n",
       "      <td>...</td>\n",
       "      <td>...</td>\n",
       "    </tr>\n",
       "    <tr>\n",
       "      <th>70113</th>\n",
       "      <td>10.770000</td>\n",
       "      <td>256008.00</td>\n",
       "      <td>458.40000</td>\n",
       "      <td>2.450000</td>\n",
       "      <td>3.650000</td>\n",
       "      <td>3.200000</td>\n",
       "      <td>4.070000</td>\n",
       "      <td>29767.41</td>\n",
       "      <td>-4150.96</td>\n",
       "      <td>41045.77</td>\n",
       "      <td>33215.171285</td>\n",
       "      <td>-651.444718</td>\n",
       "      <td>31964.67</td>\n",
       "      <td>29628.571043</td>\n",
       "      <td>-456.985646</td>\n",
       "      <td>41413.89</td>\n",
       "    </tr>\n",
       "    <tr>\n",
       "      <th>70116</th>\n",
       "      <td>6.740000</td>\n",
       "      <td>129209.00</td>\n",
       "      <td>431.30000</td>\n",
       "      <td>2.410000</td>\n",
       "      <td>4.420000</td>\n",
       "      <td>-0.430000</td>\n",
       "      <td>4.870000</td>\n",
       "      <td>29770.47</td>\n",
       "      <td>-4152.61</td>\n",
       "      <td>41045.63</td>\n",
       "      <td>33218.757847</td>\n",
       "      <td>-652.474145</td>\n",
       "      <td>31964.66</td>\n",
       "      <td>29631.557913</td>\n",
       "      <td>-458.455128</td>\n",
       "      <td>41413.30</td>\n",
       "    </tr>\n",
       "    <tr>\n",
       "      <th>70119</th>\n",
       "      <td>7.860000</td>\n",
       "      <td>91233.00</td>\n",
       "      <td>435.40000</td>\n",
       "      <td>1.450000</td>\n",
       "      <td>4.920000</td>\n",
       "      <td>3.350000</td>\n",
       "      <td>5.240000</td>\n",
       "      <td>29775.79</td>\n",
       "      <td>-4142.71</td>\n",
       "      <td>41046.29</td>\n",
       "      <td>33222.570160</td>\n",
       "      <td>-645.198276</td>\n",
       "      <td>31966.89</td>\n",
       "      <td>29637.027073</td>\n",
       "      <td>-449.078408</td>\n",
       "      <td>41416.61</td>\n",
       "    </tr>\n",
       "    <tr>\n",
       "      <th>70122</th>\n",
       "      <td>10.090000</td>\n",
       "      <td>93252.00</td>\n",
       "      <td>431.50000</td>\n",
       "      <td>2.180000</td>\n",
       "      <td>4.150000</td>\n",
       "      <td>5.230000</td>\n",
       "      <td>5.930000</td>\n",
       "      <td>29776.17</td>\n",
       "      <td>-4155.73</td>\n",
       "      <td>41045.82</td>\n",
       "      <td>33224.150389</td>\n",
       "      <td>-655.502417</td>\n",
       "      <td>31967.44</td>\n",
       "      <td>29637.257036</td>\n",
       "      <td>-461.923889</td>\n",
       "      <td>41414.04</td>\n",
       "    </tr>\n",
       "    <tr>\n",
       "      <th>70125</th>\n",
       "      <td>15.090000</td>\n",
       "      <td>255020.00</td>\n",
       "      <td>448.80000</td>\n",
       "      <td>4.360000</td>\n",
       "      <td>4.940000</td>\n",
       "      <td>5.750000</td>\n",
       "      <td>6.270000</td>\n",
       "      <td>29782.69</td>\n",
       "      <td>-4158.93</td>\n",
       "      <td>41046.11</td>\n",
       "      <td>33230.541710</td>\n",
       "      <td>-658.980421</td>\n",
       "      <td>31966.87</td>\n",
       "      <td>29644.081751</td>\n",
       "      <td>-464.742888</td>\n",
       "      <td>41414.21</td>\n",
       "    </tr>\n",
       "  </tbody>\n",
       "</table>\n",
       "<p>23376 rows × 16 columns</p>\n",
       "</div>"
      ],
      "text/plain": [
       "       proton_density  proton_temperature  proton_speed    bx_gsm     by_gsm  \\\n",
       "0            6.241279            76577.37     387.36032  1.365373   5.672788   \n",
       "3            6.813561            67664.01     378.40260 -0.581965   6.174460   \n",
       "6            6.917184            79429.81     384.22640 -0.686914   6.641247   \n",
       "9            6.566628           110697.47     393.20218  3.735692  10.023702   \n",
       "12           6.216072           200632.03     460.29530  8.882007   9.846230   \n",
       "...               ...                 ...           ...       ...        ...   \n",
       "70113       10.770000           256008.00     458.40000  2.450000   3.650000   \n",
       "70116        6.740000           129209.00     431.30000  2.410000   4.420000   \n",
       "70119        7.860000            91233.00     435.40000  1.450000   4.920000   \n",
       "70122       10.090000            93252.00     431.50000  2.180000   4.150000   \n",
       "70125       15.090000           255020.00     448.80000  4.360000   4.940000   \n",
       "\n",
       "         bz_gsm         bt     ich_x    ich_y     ich_z          jj_x  \\\n",
       "0      0.600567   5.763508  29779.13 -4278.25  40694.08  33230.181102   \n",
       "3     -1.593402   6.897248  29756.05 -4288.25  40682.30  33210.391417   \n",
       "6      6.944213   8.015132  29760.81 -4305.17  40687.11  33212.001472   \n",
       "9      1.690962  10.598715  29771.09 -4296.02  40688.76  33220.962782   \n",
       "12     9.389044  17.023562  29738.60 -4288.57  40691.35  33188.173336   \n",
       "...         ...        ...       ...      ...       ...           ...   \n",
       "70113  3.200000   4.070000  29767.41 -4150.96  41045.77  33215.171285   \n",
       "70116 -0.430000   4.870000  29770.47 -4152.61  41045.63  33218.757847   \n",
       "70119  3.350000   5.240000  29775.79 -4142.71  41046.29  33222.570160   \n",
       "70122  5.230000   5.930000  29776.17 -4155.73  41045.82  33224.150389   \n",
       "70125  5.750000   6.270000  29782.69 -4158.93  41046.11  33230.541710   \n",
       "\n",
       "             jj_y      jj_z          gn_x        gn_y      gn_z  \n",
       "0     -286.159383  31625.37  29648.872476 -108.229278  41083.53  \n",
       "3     -293.578526  31612.36  29629.344341 -122.948941  41075.97  \n",
       "6     -310.976367  31621.27  29634.529857 -136.638547  41080.17  \n",
       "9     -303.387349  31624.04  29643.270732 -125.978862  41081.21  \n",
       "12    -303.197334  31622.28  29610.383454 -124.738893  41081.84  \n",
       "...           ...       ...           ...         ...       ...  \n",
       "70113 -651.444718  31964.67  29628.571043 -456.985646  41413.89  \n",
       "70116 -652.474145  31964.66  29631.557913 -458.455128  41413.30  \n",
       "70119 -645.198276  31966.89  29637.027073 -449.078408  41416.61  \n",
       "70122 -655.502417  31967.44  29637.257036 -461.923889  41414.04  \n",
       "70125 -658.980421  31966.87  29644.081751 -464.742888  41414.21  \n",
       "\n",
       "[23376 rows x 16 columns]"
      ]
     },
     "execution_count": 4,
     "metadata": {},
     "output_type": "execute_result"
    }
   ],
   "source": [
    "X = X.drop([\"date\"], axis =1)\n",
    "X"
   ]
  },
  {
   "cell_type": "code",
   "execution_count": 5,
   "id": "42cf7952",
   "metadata": {},
   "outputs": [
    {
     "data": {
      "text/plain": [
       "0        3.0\n",
       "3        3.0\n",
       "6        1.0\n",
       "9        3.0\n",
       "12       4.0\n",
       "        ... \n",
       "70113    1.0\n",
       "70116    2.0\n",
       "70119    3.0\n",
       "70122    1.0\n",
       "70125    2.0\n",
       "Name: kp, Length: 23376, dtype: float64"
      ]
     },
     "execution_count": 5,
     "metadata": {},
     "output_type": "execute_result"
    }
   ],
   "source": [
    "y"
   ]
  },
  {
   "cell_type": "code",
   "execution_count": 6,
   "id": "a054d9c8",
   "metadata": {},
   "outputs": [],
   "source": [
    "X_train, X_test, y_train, y_test = train_test_split(X, y, test_size=0.4, random_state=42)\n",
    "X_test, X_val, y_test, y_val = train_test_split(X_test, y_test, test_size=0.5, random_state=42)"
   ]
  },
  {
   "cell_type": "code",
   "execution_count": 69,
   "id": "ab2ff07a",
   "metadata": {},
   "outputs": [
    {
     "data": {
      "text/plain": [
       "XGBRegressor(base_score=0.5, booster='gbtree', callbacks=None,\n",
       "             colsample_bylevel=1, colsample_bynode=1, colsample_bytree=1,\n",
       "             early_stopping_rounds=None, enable_categorical=False,\n",
       "             eval_metric=None, gamma=3, gpu_id=-1, grow_policy='depthwise',\n",
       "             importance_type=None, interaction_constraints='',\n",
       "             learning_rate=0.08, max_bin=256, max_cat_to_onehot=4,\n",
       "             max_delta_step=0, max_depth=7, max_leaves=0, min_child_weight=1,\n",
       "             missing=nan, monotone_constraints='()', n_estimators=1000,\n",
       "             n_jobs=0, num_parallel_tree=1, predictor='auto', random_state=0,\n",
       "             reg_alpha=0, reg_lambda=1, ...)"
      ]
     },
     "execution_count": 69,
     "metadata": {},
     "output_type": "execute_result"
    }
   ],
   "source": [
    "xgb_model = xgboost.XGBRegressor(n_estimators=1000, learning_rate=0.08, gamma=3, subsample=0.75,\n",
    "                           colsample_bytree=1, max_depth=7)\n",
    "\n",
    "xgb_model.fit(X_train,y_train)"
   ]
  },
  {
   "cell_type": "code",
   "execution_count": 70,
   "id": "caf2eb44",
   "metadata": {},
   "outputs": [
    {
     "data": {
      "text/plain": [
       "<AxesSubplot:title={'center':'Feature importance'}, xlabel='F score', ylabel='Features'>"
      ]
     },
     "execution_count": 70,
     "metadata": {},
     "output_type": "execute_result"
    },
    {
     "data": {
      "image/png": "[encoded data removed]",
      "text/plain": [
       "<Figure size 432x288 with 1 Axes>"
      ]
     },
     "metadata": {
      "needs_background": "light"
     },
     "output_type": "display_data"
    }
   ],
   "source": [
    "xgboost.plot_importance(xgb_model)"
   ]
  },
  {
   "cell_type": "code",
   "execution_count": 71,
   "id": "3034c301",
   "metadata": {
    "scrolled": true
   },
   "outputs": [
    {
     "data": {
      "text/plain": [
       "array([3.6223972, 1.2022824, 3.2435148, ..., 2.7036362, 2.982007 ,\n",
       "       1.6225045], dtype=float32)"
      ]
     },
     "execution_count": 71,
     "metadata": {},
     "output_type": "execute_result"
    }
   ],
   "source": [
    "predictions = xgb_model.predict(X_test)\n",
    "predictions"
   ]
  },
  {
   "cell_type": "code",
   "execution_count": 72,
   "id": "85a1f458",
   "metadata": {},
   "outputs": [
    {
     "name": "stdout",
     "output_type": "stream",
     "text": [
      "0.742579956111719\n"
     ]
    }
   ],
   "source": [
    "r_sq = xgb_model.score(X_train, y_train)\n",
    "print(r_sq)"
   ]
  },
  {
   "cell_type": "code",
   "execution_count": 74,
   "id": "8c880668",
   "metadata": {},
   "outputs": [
    {
     "data": {
      "text/plain": [
       "0.506141378092141"
      ]
     },
     "execution_count": 74,
     "metadata": {},
     "output_type": "execute_result"
    }
   ],
   "source": [
    "y_pred = xgb_model.predict(X_val)\n",
    "y_pred\n",
    "\n",
    "sklearn.metrics.mean_squared_error(y_val, y_pred)"
   ]
  },
  {
   "cell_type": "code",
   "execution_count": 75,
   "id": "e7ac812e",
   "metadata": {},
   "outputs": [],
   "source": [
    "predict_df = pd.read_csv(\"./colab_workspace/colab_workspace/space_data/predict_data/predict_3h_max.csv\")\n",
    "predict_df.drop([\"date\"],axis=1,inplace=True)"
   ]
  },
  {
   "cell_type": "code",
   "execution_count": 76,
   "id": "34a84d04",
   "metadata": {},
   "outputs": [],
   "source": [
    "result = xgb_model.predict(predict_df)[-480:]"
   ]
  },
  {
   "cell_type": "code",
   "execution_count": 77,
   "id": "3fa19d61",
   "metadata": {},
   "outputs": [],
   "source": [
    "save_path = \"lazypredict_colli5.xlsx\"\n",
    "\n",
    "df = pd.read_excel(\"./colab_workspace/colab_workspace/file/quiz.xlsx\")\n",
    "df[\"정답\"] = result\n",
    "df.to_excel(save_path, index=False)"
   ]
  },
  {
   "cell_type": "code",
   "execution_count": 78,
   "id": "21e81c9a",
   "metadata": {},
   "outputs": [],
   "source": [
    "result = np.round(result,0)\n",
    "\n",
    "save_path = \"lazypredict_colli5_round.xlsx\"\n",
    "\n",
    "df = pd.read_excel(\"./colab_workspace/colab_workspace/file/quiz.xlsx\")\n",
    "df[\"정답\"] = result\n",
    "df.to_excel(save_path, index=False)"
   ]
  },
  {
   "cell_type": "code",
   "execution_count": null,
   "id": "eab12fbb",
   "metadata": {},
   "outputs": [],
   "source": []
  }
 ],
 "metadata": {
  "kernelspec": {
   "display_name": "Python 3 (ipykernel)",
   "language": "python",
   "name": "python3"
  },
  "language_info": {
   "codemirror_mode": {
    "name": "ipython",
    "version": 3
   },
   "file_extension": ".py",
   "mimetype": "text/x-python",
   "name": "python",
   "nbconvert_exporter": "python",
   "pygments_lexer": "ipython3",
   "version": "3.9.12"
  }
 },
 "nbformat": 4,
 "nbformat_minor": 5
}
