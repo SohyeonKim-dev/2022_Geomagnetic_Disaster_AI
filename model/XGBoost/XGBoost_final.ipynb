{
 "cells": [
  {
   "cell_type": "code",
   "execution_count": 46,
   "id": "09b4023d",
   "metadata": {},
   "outputs": [],
   "source": [
    "import pandas as pd\n",
    "import numpy as np\n",
    "import matplotlib.pyplot as plt\n",
    "\n",
    "import sklearn\n",
    "from sklearn.preprocessing import StandardScaler\n",
    "from sklearn.metrics import mean_squared_error as MSE\n",
    "from sklearn.metrics import explained_variance_score\n",
    "\n",
    "from sklearn.model_selection import GridSearchCV, RandomizedSearchCV, KFold, StratifiedKFold\n",
    "from sklearn.model_selection import KFold, StratifiedKFold, train_test_split\n",
    "from sklearn.linear_model import LinearRegression, LogisticRegression\n",
    "from sklearn.linear_model import Lasso, Ridge\n",
    "from sklearn.ensemble import RandomForestRegressor, StackingRegressor\n",
    "\n",
    "import xgboost\n",
    "from xgboost import XGBRegressor, XGBRFRegressor\n",
    "\n",
    "# classification은 import X\n",
    "\n",
    "import warnings\n",
    "warnings.filterwarnings('ignore')\n",
    "\n",
    "# 경고 문구 삭제"
   ]
  },
  {
   "cell_type": "code",
   "execution_count": 19,
   "id": "5886bfbc",
   "metadata": {},
   "outputs": [
    {
     "data": {
      "text/plain": [
       "' \\n\\nn_estimators: 트리의 개수 (많을수록 좋지만, 과대적합되지 않도록 주의)\\nlearning rate: 학습률 (적절한 값 잡도록 주의)\\n-> GridCV\\n\\n-> 성능에 가장 큰 영향을 미치는 두 하이퍼파라미터 (그레디언트 부스팅)\\n\\n+ 타겟 8개 밀기 적용하기!\\n\\n+ Decision Tree의 중요한 매개변수는 max_depth \\n\\n'"
      ]
     },
     "execution_count": 19,
     "metadata": {},
     "output_type": "execute_result"
    }
   ],
   "source": [
    "''' \n",
    "\n",
    "n_estimators: 트리의 개수 (많을수록 좋지만, 과대적합되지 않도록 주의)\n",
    "learning rate: 학습률 (적절한 값 잡도록 주의)\n",
    "-> GridCV\n",
    "\n",
    "-> 성능에 가장 큰 영향을 미치는 두 하이퍼파라미터 (그레디언트 부스팅)\n",
    "\n",
    "+ 타겟 8개 밀기 적용하기!\n",
    "\n",
    "+ Decision Tree의 중요한 매개변수는 max_depth \n",
    "\n",
    "'''"
   ]
  },
  {
   "cell_type": "code",
   "execution_count": 47,
   "id": "72800f6e",
   "metadata": {},
   "outputs": [],
   "source": [
    "x_train_data_path = (\"./colab_workspace/colab_workspace/space_data/train_data/train_1h_max.csv\")\n",
    "y_train_data_path = (\"./colab_workspace/colab_workspace/space_data/predict_data/predict_1h_max.csv\")\n",
    "\n",
    "X = pd.read_csv(x_train_data_path).drop([\"kp\"], axis = 1)\n",
    "y = pd.read_csv(x_train_data_path).loc[:, [\"kp\"]]"
   ]
  },
  {
   "cell_type": "code",
   "execution_count": 48,
   "id": "867ce4eb",
   "metadata": {},
   "outputs": [],
   "source": [
    "new_df = pd.concat([X,y], axis=1).dropna()\n",
    "y = new_df.pop(\"kp\")\n",
    "X = new_df"
   ]
  },
  {
   "cell_type": "code",
   "execution_count": 49,
   "id": "f1ed5eef",
   "metadata": {},
   "outputs": [
    {
     "data": {
      "text/html": [
       "<div>\n",
       "<style scoped>\n",
       "    .dataframe tbody tr th:only-of-type {\n",
       "        vertical-align: middle;\n",
       "    }\n",
       "\n",
       "    .dataframe tbody tr th {\n",
       "        vertical-align: top;\n",
       "    }\n",
       "\n",
       "    .dataframe thead th {\n",
       "        text-align: right;\n",
       "    }\n",
       "</style>\n",
       "<table border=\"1\" class=\"dataframe\">\n",
       "  <thead>\n",
       "    <tr style=\"text-align: right;\">\n",
       "      <th></th>\n",
       "      <th>proton_density</th>\n",
       "      <th>proton_temperature</th>\n",
       "      <th>proton_speed</th>\n",
       "      <th>bx_gsm</th>\n",
       "      <th>by_gsm</th>\n",
       "      <th>bz_gsm</th>\n",
       "      <th>bt</th>\n",
       "      <th>ich_x</th>\n",
       "      <th>ich_y</th>\n",
       "      <th>ich_z</th>\n",
       "      <th>jj_x</th>\n",
       "      <th>jj_y</th>\n",
       "      <th>jj_z</th>\n",
       "      <th>gn_x</th>\n",
       "      <th>gn_y</th>\n",
       "      <th>gn_z</th>\n",
       "    </tr>\n",
       "  </thead>\n",
       "  <tbody>\n",
       "    <tr>\n",
       "      <th>0</th>\n",
       "      <td>6.241279</td>\n",
       "      <td>76577.37</td>\n",
       "      <td>387.36032</td>\n",
       "      <td>1.365373</td>\n",
       "      <td>5.672788</td>\n",
       "      <td>0.600567</td>\n",
       "      <td>5.763508</td>\n",
       "      <td>29779.13</td>\n",
       "      <td>-4278.25</td>\n",
       "      <td>40694.08</td>\n",
       "      <td>33230.181102</td>\n",
       "      <td>-286.159383</td>\n",
       "      <td>31625.37</td>\n",
       "      <td>29648.872476</td>\n",
       "      <td>-108.229278</td>\n",
       "      <td>41083.53</td>\n",
       "    </tr>\n",
       "    <tr>\n",
       "      <th>3</th>\n",
       "      <td>6.813561</td>\n",
       "      <td>67664.01</td>\n",
       "      <td>378.40260</td>\n",
       "      <td>-0.581965</td>\n",
       "      <td>6.174460</td>\n",
       "      <td>-1.593402</td>\n",
       "      <td>6.897248</td>\n",
       "      <td>29756.05</td>\n",
       "      <td>-4288.25</td>\n",
       "      <td>40682.30</td>\n",
       "      <td>33210.391417</td>\n",
       "      <td>-293.578526</td>\n",
       "      <td>31612.36</td>\n",
       "      <td>29629.344341</td>\n",
       "      <td>-122.948941</td>\n",
       "      <td>41075.97</td>\n",
       "    </tr>\n",
       "    <tr>\n",
       "      <th>6</th>\n",
       "      <td>6.917184</td>\n",
       "      <td>79429.81</td>\n",
       "      <td>384.22640</td>\n",
       "      <td>-0.686914</td>\n",
       "      <td>6.641247</td>\n",
       "      <td>6.944213</td>\n",
       "      <td>8.015132</td>\n",
       "      <td>29760.81</td>\n",
       "      <td>-4305.17</td>\n",
       "      <td>40687.11</td>\n",
       "      <td>33212.001472</td>\n",
       "      <td>-310.976367</td>\n",
       "      <td>31621.27</td>\n",
       "      <td>29634.529857</td>\n",
       "      <td>-136.638547</td>\n",
       "      <td>41080.17</td>\n",
       "    </tr>\n",
       "    <tr>\n",
       "      <th>9</th>\n",
       "      <td>6.566628</td>\n",
       "      <td>110697.47</td>\n",
       "      <td>393.20218</td>\n",
       "      <td>3.735692</td>\n",
       "      <td>10.023702</td>\n",
       "      <td>1.690962</td>\n",
       "      <td>10.598715</td>\n",
       "      <td>29771.09</td>\n",
       "      <td>-4296.02</td>\n",
       "      <td>40688.76</td>\n",
       "      <td>33220.962782</td>\n",
       "      <td>-303.387349</td>\n",
       "      <td>31624.04</td>\n",
       "      <td>29643.270732</td>\n",
       "      <td>-125.978862</td>\n",
       "      <td>41081.21</td>\n",
       "    </tr>\n",
       "    <tr>\n",
       "      <th>12</th>\n",
       "      <td>6.216072</td>\n",
       "      <td>200632.03</td>\n",
       "      <td>460.29530</td>\n",
       "      <td>8.882007</td>\n",
       "      <td>9.846230</td>\n",
       "      <td>9.389044</td>\n",
       "      <td>17.023562</td>\n",
       "      <td>29738.60</td>\n",
       "      <td>-4288.57</td>\n",
       "      <td>40691.35</td>\n",
       "      <td>33188.173336</td>\n",
       "      <td>-303.197334</td>\n",
       "      <td>31622.28</td>\n",
       "      <td>29610.383454</td>\n",
       "      <td>-124.738893</td>\n",
       "      <td>41081.84</td>\n",
       "    </tr>\n",
       "    <tr>\n",
       "      <th>...</th>\n",
       "      <td>...</td>\n",
       "      <td>...</td>\n",
       "      <td>...</td>\n",
       "      <td>...</td>\n",
       "      <td>...</td>\n",
       "      <td>...</td>\n",
       "      <td>...</td>\n",
       "      <td>...</td>\n",
       "      <td>...</td>\n",
       "      <td>...</td>\n",
       "      <td>...</td>\n",
       "      <td>...</td>\n",
       "      <td>...</td>\n",
       "      <td>...</td>\n",
       "      <td>...</td>\n",
       "      <td>...</td>\n",
       "    </tr>\n",
       "    <tr>\n",
       "      <th>70113</th>\n",
       "      <td>10.770000</td>\n",
       "      <td>256008.00</td>\n",
       "      <td>458.40000</td>\n",
       "      <td>2.450000</td>\n",
       "      <td>3.650000</td>\n",
       "      <td>3.200000</td>\n",
       "      <td>4.070000</td>\n",
       "      <td>29767.41</td>\n",
       "      <td>-4150.96</td>\n",
       "      <td>41045.77</td>\n",
       "      <td>33215.171285</td>\n",
       "      <td>-651.444718</td>\n",
       "      <td>31964.67</td>\n",
       "      <td>29628.571043</td>\n",
       "      <td>-456.985646</td>\n",
       "      <td>41413.89</td>\n",
       "    </tr>\n",
       "    <tr>\n",
       "      <th>70116</th>\n",
       "      <td>6.740000</td>\n",
       "      <td>129209.00</td>\n",
       "      <td>431.30000</td>\n",
       "      <td>2.410000</td>\n",
       "      <td>4.420000</td>\n",
       "      <td>-0.430000</td>\n",
       "      <td>4.870000</td>\n",
       "      <td>29770.47</td>\n",
       "      <td>-4152.61</td>\n",
       "      <td>41045.63</td>\n",
       "      <td>33218.757847</td>\n",
       "      <td>-652.474145</td>\n",
       "      <td>31964.66</td>\n",
       "      <td>29631.557913</td>\n",
       "      <td>-458.455128</td>\n",
       "      <td>41413.30</td>\n",
       "    </tr>\n",
       "    <tr>\n",
       "      <th>70119</th>\n",
       "      <td>7.860000</td>\n",
       "      <td>91233.00</td>\n",
       "      <td>435.40000</td>\n",
       "      <td>1.450000</td>\n",
       "      <td>4.920000</td>\n",
       "      <td>3.350000</td>\n",
       "      <td>5.240000</td>\n",
       "      <td>29775.79</td>\n",
       "      <td>-4142.71</td>\n",
       "      <td>41046.29</td>\n",
       "      <td>33222.570160</td>\n",
       "      <td>-645.198276</td>\n",
       "      <td>31966.89</td>\n",
       "      <td>29637.027073</td>\n",
       "      <td>-449.078408</td>\n",
       "      <td>41416.61</td>\n",
       "    </tr>\n",
       "    <tr>\n",
       "      <th>70122</th>\n",
       "      <td>10.090000</td>\n",
       "      <td>93252.00</td>\n",
       "      <td>431.50000</td>\n",
       "      <td>2.180000</td>\n",
       "      <td>4.150000</td>\n",
       "      <td>5.230000</td>\n",
       "      <td>5.930000</td>\n",
       "      <td>29776.17</td>\n",
       "      <td>-4155.73</td>\n",
       "      <td>41045.82</td>\n",
       "      <td>33224.150389</td>\n",
       "      <td>-655.502417</td>\n",
       "      <td>31967.44</td>\n",
       "      <td>29637.257036</td>\n",
       "      <td>-461.923889</td>\n",
       "      <td>41414.04</td>\n",
       "    </tr>\n",
       "    <tr>\n",
       "      <th>70125</th>\n",
       "      <td>15.090000</td>\n",
       "      <td>255020.00</td>\n",
       "      <td>448.80000</td>\n",
       "      <td>4.360000</td>\n",
       "      <td>4.940000</td>\n",
       "      <td>5.750000</td>\n",
       "      <td>6.270000</td>\n",
       "      <td>29782.69</td>\n",
       "      <td>-4158.93</td>\n",
       "      <td>41046.11</td>\n",
       "      <td>33230.541710</td>\n",
       "      <td>-658.980421</td>\n",
       "      <td>31966.87</td>\n",
       "      <td>29644.081751</td>\n",
       "      <td>-464.742888</td>\n",
       "      <td>41414.21</td>\n",
       "    </tr>\n",
       "  </tbody>\n",
       "</table>\n",
       "<p>23376 rows × 16 columns</p>\n",
       "</div>"
      ],
      "text/plain": [
       "       proton_density  proton_temperature  proton_speed    bx_gsm     by_gsm  \\\n",
       "0            6.241279            76577.37     387.36032  1.365373   5.672788   \n",
       "3            6.813561            67664.01     378.40260 -0.581965   6.174460   \n",
       "6            6.917184            79429.81     384.22640 -0.686914   6.641247   \n",
       "9            6.566628           110697.47     393.20218  3.735692  10.023702   \n",
       "12           6.216072           200632.03     460.29530  8.882007   9.846230   \n",
       "...               ...                 ...           ...       ...        ...   \n",
       "70113       10.770000           256008.00     458.40000  2.450000   3.650000   \n",
       "70116        6.740000           129209.00     431.30000  2.410000   4.420000   \n",
       "70119        7.860000            91233.00     435.40000  1.450000   4.920000   \n",
       "70122       10.090000            93252.00     431.50000  2.180000   4.150000   \n",
       "70125       15.090000           255020.00     448.80000  4.360000   4.940000   \n",
       "\n",
       "         bz_gsm         bt     ich_x    ich_y     ich_z          jj_x  \\\n",
       "0      0.600567   5.763508  29779.13 -4278.25  40694.08  33230.181102   \n",
       "3     -1.593402   6.897248  29756.05 -4288.25  40682.30  33210.391417   \n",
       "6      6.944213   8.015132  29760.81 -4305.17  40687.11  33212.001472   \n",
       "9      1.690962  10.598715  29771.09 -4296.02  40688.76  33220.962782   \n",
       "12     9.389044  17.023562  29738.60 -4288.57  40691.35  33188.173336   \n",
       "...         ...        ...       ...      ...       ...           ...   \n",
       "70113  3.200000   4.070000  29767.41 -4150.96  41045.77  33215.171285   \n",
       "70116 -0.430000   4.870000  29770.47 -4152.61  41045.63  33218.757847   \n",
       "70119  3.350000   5.240000  29775.79 -4142.71  41046.29  33222.570160   \n",
       "70122  5.230000   5.930000  29776.17 -4155.73  41045.82  33224.150389   \n",
       "70125  5.750000   6.270000  29782.69 -4158.93  41046.11  33230.541710   \n",
       "\n",
       "             jj_y      jj_z          gn_x        gn_y      gn_z  \n",
       "0     -286.159383  31625.37  29648.872476 -108.229278  41083.53  \n",
       "3     -293.578526  31612.36  29629.344341 -122.948941  41075.97  \n",
       "6     -310.976367  31621.27  29634.529857 -136.638547  41080.17  \n",
       "9     -303.387349  31624.04  29643.270732 -125.978862  41081.21  \n",
       "12    -303.197334  31622.28  29610.383454 -124.738893  41081.84  \n",
       "...           ...       ...           ...         ...       ...  \n",
       "70113 -651.444718  31964.67  29628.571043 -456.985646  41413.89  \n",
       "70116 -652.474145  31964.66  29631.557913 -458.455128  41413.30  \n",
       "70119 -645.198276  31966.89  29637.027073 -449.078408  41416.61  \n",
       "70122 -655.502417  31967.44  29637.257036 -461.923889  41414.04  \n",
       "70125 -658.980421  31966.87  29644.081751 -464.742888  41414.21  \n",
       "\n",
       "[23376 rows x 16 columns]"
      ]
     },
     "execution_count": 49,
     "metadata": {},
     "output_type": "execute_result"
    }
   ],
   "source": [
    "X = X.drop([\"date\"], axis =1)\n",
    "X"
   ]
  },
  {
   "cell_type": "code",
   "execution_count": null,
   "id": "a279643a",
   "metadata": {},
   "outputs": [],
   "source": []
  },
  {
   "cell_type": "code",
   "execution_count": 50,
   "id": "42cf7952",
   "metadata": {},
   "outputs": [
    {
     "data": {
      "text/plain": [
       "0        3.0\n",
       "3        3.0\n",
       "6        1.0\n",
       "9        3.0\n",
       "12       4.0\n",
       "        ... \n",
       "70113    1.0\n",
       "70116    2.0\n",
       "70119    3.0\n",
       "70122    1.0\n",
       "70125    2.0\n",
       "Name: kp, Length: 23376, dtype: float64"
      ]
     },
     "execution_count": 50,
     "metadata": {},
     "output_type": "execute_result"
    }
   ],
   "source": [
    "y"
   ]
  },
  {
   "cell_type": "code",
   "execution_count": 51,
   "id": "a054d9c8",
   "metadata": {},
   "outputs": [],
   "source": [
    "X_train, X_test, y_train, y_test = train_test_split(X, y, test_size=0.4, random_state=42)\n",
    "X_test, X_val, y_test, y_val = train_test_split(X_test, y_test, test_size=0.5, random_state=42)"
   ]
  },
  {
   "cell_type": "code",
   "execution_count": 52,
   "id": "3487d1b9",
   "metadata": {},
   "outputs": [],
   "source": [
    "from sklearn.model_selection import StratifiedKFold\n",
    "\n",
    "kfold = StratifiedKFold(n_splits=5, shuffle=True, random_state=2)"
   ]
  },
  {
   "cell_type": "code",
   "execution_count": 53,
   "id": "8c9a6cda",
   "metadata": {},
   "outputs": [
    {
     "data": {
      "text/plain": [
       "'\\n\\ndef grid_search(params, random=False): \\n\\n    xgb = xgboost.XGBRegressor(n_estimators=100, learning_rate=0.08, gamma=3, subsample=0.7,\\n                           colsample_bytree=1, max_depth=3)\\n    \\n    kfold = StratifiedKFold(n_splits=5, shuffle=True, random_state=2)\\n    \\n    if random:\\n        grid = RandomizedSearchCV(xgb, params, cv=kfold, n_iter=20, \\n                                  n_jobs=-1, random_state=2)\\n    else:\\n        grid = GridSearchCV(xgb, params, cv=kfold, n_jobs=-1)\\n    \\n    # X와 y에서 하이퍼파라미터 튜닝을 수행합니다.\\n    grid.fit(X, y)\\n\\n    # 최상의 매개변수를 추출합니다.\\n    best_params = grid.best_params_\\n\\n    # 최상의 매개변수를 출력합니다.\\n    print(\"최상의 매개변수:\", best_params)\\n    \\n    # 최상의 점수를 추출합니다.\\n    best_score = grid.best_score_\\n\\n    # 최상의 점수를 출력합니다.\\n    print(\"최상의 점수: {:.5f}\".format(best_score))\\n    \\n\\n'"
      ]
     },
     "execution_count": 53,
     "metadata": {},
     "output_type": "execute_result"
    }
   ],
   "source": [
    "'''\n",
    "\n",
    "def grid_search(params, random=False): \n",
    "\n",
    "    xgb = xgboost.XGBRegressor(n_estimators=100, learning_rate=0.08, gamma=3, subsample=0.7,\n",
    "                           colsample_bytree=1, max_depth=3)\n",
    "    \n",
    "    kfold = StratifiedKFold(n_splits=5, shuffle=True, random_state=2)\n",
    "    \n",
    "    if random:\n",
    "        grid = RandomizedSearchCV(xgb, params, cv=kfold, n_iter=20, \n",
    "                                  n_jobs=-1, random_state=2)\n",
    "    else:\n",
    "        grid = GridSearchCV(xgb, params, cv=kfold, n_jobs=-1)\n",
    "    \n",
    "    # X와 y에서 하이퍼파라미터 튜닝을 수행합니다.\n",
    "    grid.fit(X, y)\n",
    "\n",
    "    # 최상의 매개변수를 추출합니다.\n",
    "    best_params = grid.best_params_\n",
    "\n",
    "    # 최상의 매개변수를 출력합니다.\n",
    "    print(\"최상의 매개변수:\", best_params)\n",
    "    \n",
    "    # 최상의 점수를 추출합니다.\n",
    "    best_score = grid.best_score_\n",
    "\n",
    "    # 최상의 점수를 출력합니다.\n",
    "    print(\"최상의 점수: {:.5f}\".format(best_score))\n",
    "    \n",
    "\n",
    "'''"
   ]
  },
  {
   "cell_type": "code",
   "execution_count": 54,
   "id": "46156310",
   "metadata": {},
   "outputs": [],
   "source": [
    "# 선형 회귀 용 그리드 서치 함수\n",
    "\n",
    "def grid_search(params, reg=XGBRegressor(booster='gbtree')):\n",
    "\n",
    "    # GridSearchCV를 초기화합니다.\n",
    "    grid_reg = GridSearchCV(reg, params, scoring='neg_mean_squared_error', cv=kfold)\n",
    "    \n",
    "    # X_train와 y_train에서 훈련합니다.\n",
    "    grid_reg.fit(X, y)\n",
    "\n",
    "    # 최상의 매개변수를 추출합니다.\n",
    "    best_params = grid_reg.best_params_\n",
    "\n",
    "    # 최상의 매개변수를 출력합니다.\n",
    "    print(\"최상의 매개변수:\", best_params)\n",
    "    \n",
    "    # 최상의 점수를 추출합니다.\n",
    "    best_score = np.sqrt(-grid_reg.best_score_)\n",
    "\n",
    "    # 최상의 점수를 출력합니다.\n",
    "    print(\"최상의 점수:\", best_score)"
   ]
  },
  {
   "cell_type": "code",
   "execution_count": 55,
   "id": "2fb31ee6",
   "metadata": {},
   "outputs": [
    {
     "data": {
      "text/plain": [
       "\"\\n\\n\\n기본 학습기로 드롭아웃 규제를 적용한 dart를 쓸 수도 있다. \\n(gbtree와 유사한 상황에서 활용 가능 -> 꼭 바꾼 뒤, girdCV 해보기)\\n\\nregression_model(XGBRegressor(booster='dart', rate_drop=0.5))\\n\\nXGBRFRegressor -> 랜덤포레스트가 기본 학습기가 된다.\\n-> 앙상블을 기본 학습기로 활용 (이건 RF에 이미 랜덤 포레스트 의미)\\n따라서 \\n가 아니라 n_estimators에서 활용한다. \\n+ 학습률은 1에서 변경하는 것을 권하지 않음 (변경하지 말 것 )\\n\\n\\n\\n\""
      ]
     },
     "execution_count": 55,
     "metadata": {},
     "output_type": "execute_result"
    }
   ],
   "source": [
    "'''\n",
    "\n",
    "\n",
    "기본 학습기로 드롭아웃 규제를 적용한 dart를 쓸 수도 있다. \n",
    "(gbtree와 유사한 상황에서 활용 가능 -> 꼭 바꾼 뒤, girdCV 해보기)\n",
    "\n",
    "regression_model(XGBRegressor(booster='dart', rate_drop=0.5))\n",
    "\n",
    "XGBRFRegressor -> 랜덤포레스트가 기본 학습기가 된다.\n",
    "-> 앙상블을 기본 학습기로 활용 (이건 RF에 이미 랜덤 포레스트 의미)\n",
    "따라서 \n",
    "가 아니라 n_estimators에서 활용한다. \n",
    "+ 학습률은 1에서 변경하는 것을 권하지 않음 (변경하지 말 것 )\n",
    "\n",
    "\n",
    "\n",
    "'''"
   ]
  },
  {
   "cell_type": "code",
   "execution_count": 56,
   "id": "57fdd79e",
   "metadata": {},
   "outputs": [
    {
     "name": "stdout",
     "output_type": "stream",
     "text": [
      "최상의 매개변수: {'n_estimators': 100}\n",
      "최상의 점수: 0.7238685184320743\n"
     ]
    }
   ],
   "source": [
    "grid_search(params={'n_estimators':[100, 200, 400, 800]})"
   ]
  },
  {
   "cell_type": "code",
   "execution_count": null,
   "id": "050a0ec0",
   "metadata": {},
   "outputs": [],
   "source": [
    "grid_search(params={'learning_rate':[0.01, 0.05, 0.1, 0.2, 0.3, 0.4, 0.5]})"
   ]
  },
  {
   "cell_type": "code",
   "execution_count": null,
   "id": "fe3d0729",
   "metadata": {},
   "outputs": [],
   "source": [
    "grid_search(params={'max_depth':[2, 3, 5, 6, 8]})"
   ]
  },
  {
   "cell_type": "code",
   "execution_count": null,
   "id": "4ac26bc1",
   "metadata": {},
   "outputs": [],
   "source": [
    "grid_search(params={'gamma':[0, 0.01, 0.1, 0.5, 1, 2]})"
   ]
  },
  {
   "cell_type": "code",
   "execution_count": null,
   "id": "a0c9a8a9",
   "metadata": {},
   "outputs": [],
   "source": [
    "grid_search(params={'min_child_weight':[1, 2, 3, 4, 5]})"
   ]
  },
  {
   "cell_type": "code",
   "execution_count": null,
   "id": "c2060eca",
   "metadata": {},
   "outputs": [],
   "source": [
    "grid_search(params={'subsample':[0.5, 0.7, 0.8, 0.9, 1]})"
   ]
  },
  {
   "cell_type": "code",
   "execution_count": null,
   "id": "a98f0ff6",
   "metadata": {},
   "outputs": [],
   "source": [
    "grid_search(params={'colsample_bytree':[0.5, 0.7, 0.8, 0.9, 1]})"
   ]
  },
  {
   "cell_type": "code",
   "execution_count": null,
   "id": "7b280833",
   "metadata": {},
   "outputs": [],
   "source": [
    "grid_search(params={'colsample_bylevel':[0.5, 0.7, 0.8, 0.9, 1]})"
   ]
  },
  {
   "cell_type": "code",
   "execution_count": null,
   "id": "84597e2c",
   "metadata": {},
   "outputs": [],
   "source": [
    "grid_search(params={'colsample_bynode':[0.5, 0.7, 0.8, 0.9, 1]})"
   ]
  },
  {
   "cell_type": "code",
   "execution_count": null,
   "id": "9593890d",
   "metadata": {},
   "outputs": [],
   "source": [
    "grid_search(params={'n_estimators':[100, 200, 400, 800],\n",
    "                    'learning_rate':[0.01, 0.05, 0.1, 0.2, 0.3, 0.4, 0.5],\n",
    "                    'max_depth':[2, 3, 5, 6, 8],\n",
    "                    'gamma':[0, 0.01, 0.1, 0.5, 1, 2],\n",
    "                    'min_child_weight':[1, 2, 3, 4, 5],\n",
    "                    'subsample':[0.5, 0.7, 0.8, 0.9, 1],\n",
    "                    'colsample_bytree':[0.5, 0.7, 0.8, 0.9, 1],\n",
    "                    'colsample_bylevel':[0.5, 0.7, 0.8, 0.9, 1],\n",
    "                    'colsample_bynode':[0.5, 0.7, 0.8, 0.9, 1]\n",
    "                   }\n",
    "           )\n",
    "\n",
    "# 시간 너무 많이 걸리는 듯"
   ]
  },
  {
   "cell_type": "code",
   "execution_count": null,
   "id": "b9688d29",
   "metadata": {},
   "outputs": [],
   "source": [
    "grid_search(params={'subsample':[0.5, 0.6, 0.7, 0.8, 0.9, 1], \n",
    "                    'min_child_weight':[1, 2, 3, 4, 5], \n",
    "                    'learning_rate':[0.1, 0.2, 0.3, 0.4, 0.5], \n",
    "                    'max_depth':[1, 2, 3, 4, 5, None], \n",
    "                    'n_estimators':[2, 25, 50, 75, 100]}, random=True)"
   ]
  },
  {
   "cell_type": "code",
   "execution_count": null,
   "id": "fee4a3c2",
   "metadata": {},
   "outputs": [],
   "source": [
    " # xgb_model = xgboost.XGBRegressor(n_estimators=800, learning_rate=0.2, max_depth=8, gamma=0.5, subsample=0.5, \n",
    " #                                   min_child_weight=4, colsample_bytree= 0.9, colsample_bylevel=0.8, colsample_bynode= 0.8)"
   ]
  },
  {
   "cell_type": "code",
   "execution_count": 57,
   "id": "ab2ff07a",
   "metadata": {},
   "outputs": [
    {
     "data": {
      "text/plain": [
       "XGBRegressor(base_score=0.5, booster='gbtree', callbacks=None,\n",
       "             colsample_bylevel=1, colsample_bynode=1, colsample_bytree=1,\n",
       "             early_stopping_rounds=None, enable_categorical=False,\n",
       "             eval_metric=None, gamma=3, gpu_id=-1, grow_policy='depthwise',\n",
       "             importance_type=None, interaction_constraints='',\n",
       "             learning_rate=0.08, max_bin=256, max_cat_to_onehot=4,\n",
       "             max_delta_step=0, max_depth=2, max_leaves=0, min_child_weight=1,\n",
       "             missing=nan, monotone_constraints='()', n_estimators=800, n_jobs=0,\n",
       "             num_parallel_tree=1, predictor='auto', random_state=0, reg_alpha=0,\n",
       "             reg_lambda=1, ...)"
      ]
     },
     "execution_count": 57,
     "metadata": {},
     "output_type": "execute_result"
    }
   ],
   "source": [
    "xgb_model = xgboost.XGBRegressor(n_estimators=800, learning_rate=0.08, gamma=3, subsample=0.7,\n",
    "                           colsample_bytree=1, max_depth=2)\n",
    "\n",
    "xgb_model.fit(X_train,y_train)"
   ]
  },
  {
   "cell_type": "code",
   "execution_count": 58,
   "id": "f3ec751c",
   "metadata": {},
   "outputs": [
    {
     "data": {
      "text/plain": [
       "<AxesSubplot:title={'center':'Feature importance'}, xlabel='F score', ylabel='Features'>"
      ]
     },
     "execution_count": 58,
     "metadata": {},
     "output_type": "execute_result"
    },
    {
     "data": {
      "image/png": "[encoded data removed]",
      "text/plain": [
       "<Figure size 432x288 with 1 Axes>"
      ]
     },
     "metadata": {
      "needs_background": "light"
     },
     "output_type": "display_data"
    }
   ],
   "source": [
    "xgboost.plot_importance(xgb_model)"
   ]
  },
  {
   "cell_type": "code",
   "execution_count": null,
   "id": "c40536c6",
   "metadata": {},
   "outputs": [],
   "source": []
  },
  {
   "cell_type": "markdown",
   "id": "d1011a91",
   "metadata": {},
   "source": [
    "# Correlation"
   ]
  },
  {
   "cell_type": "code",
   "execution_count": 36,
   "id": "5af6e4d4",
   "metadata": {},
   "outputs": [],
   "source": [
    "# 각 모델별 예측을 반환하는 함수 (predict funtc)\n",
    "\n",
    "def y_pred(model):\n",
    "    model.fit(X_train, y_train)\n",
    "    y_pred = model.predict(X_test)\n",
    "    score = sklearn.metrics.mean_squared_error(y_pred, y_test)\n",
    "    print(score)\n",
    "    return y_pred"
   ]
  },
  {
   "cell_type": "code",
   "execution_count": 37,
   "id": "63b748f9",
   "metadata": {},
   "outputs": [],
   "source": [
    "X_train, X_test, y_train, y_test = train_test_split(X, y, random_state=2)"
   ]
  },
  {
   "cell_type": "code",
   "execution_count": 39,
   "id": "f49af582",
   "metadata": {},
   "outputs": [
    {
     "name": "stdout",
     "output_type": "stream",
     "text": [
      "0.5168685767574595\n"
     ]
    }
   ],
   "source": [
    "y_pred_gbtree = y_pred(XGBRegressor())"
   ]
  },
  {
   "cell_type": "code",
   "execution_count": 38,
   "id": "ce204de3",
   "metadata": {},
   "outputs": [
    {
     "name": "stdout",
     "output_type": "stream",
     "text": [
      "0.5117006611374725\n"
     ]
    }
   ],
   "source": [
    "y_pred_dart = y_pred(XGBRegressor(booster='dart', one_drop=True))"
   ]
  },
  {
   "cell_type": "code",
   "execution_count": 40,
   "id": "4a83bc6e",
   "metadata": {},
   "outputs": [
    {
     "name": "stdout",
     "output_type": "stream",
     "text": [
      "0.5433167180013689\n"
     ]
    }
   ],
   "source": [
    "y_pred_forest = y_pred(RandomForestRegressor(random_state=2))"
   ]
  },
  {
   "cell_type": "code",
   "execution_count": 41,
   "id": "e0daf09b",
   "metadata": {},
   "outputs": [
    {
     "name": "stdout",
     "output_type": "stream",
     "text": [
      "0.5265270145070513\n"
     ]
    }
   ],
   "source": [
    "y_pred_xgb = y_pred(XGBRegressor(max_depth=2, n_estimators=500, learning_rate=0.1))"
   ]
  },
  {
   "cell_type": "code",
   "execution_count": 44,
   "id": "bf4e0e1d",
   "metadata": {},
   "outputs": [],
   "source": [
    "# 상관관계를 파악하기 위해, np.c_ (concat)\n",
    "\n",
    "df_pred = pd.DataFrame(data= np.c_[y_pred_gbtree, y_pred_dart, \n",
    "                                   y_pred_forest, y_pred_xgb],\n",
    "                       columns=['gbtree', 'dart', 'forest', 'xgb'])"
   ]
  },
  {
   "cell_type": "code",
   "execution_count": 45,
   "id": "50df892c",
   "metadata": {},
   "outputs": [
    {
     "data": {
      "text/html": [
       "<div>\n",
       "<style scoped>\n",
       "    .dataframe tbody tr th:only-of-type {\n",
       "        vertical-align: middle;\n",
       "    }\n",
       "\n",
       "    .dataframe tbody tr th {\n",
       "        vertical-align: top;\n",
       "    }\n",
       "\n",
       "    .dataframe thead th {\n",
       "        text-align: right;\n",
       "    }\n",
       "</style>\n",
       "<table border=\"1\" class=\"dataframe\">\n",
       "  <thead>\n",
       "    <tr style=\"text-align: right;\">\n",
       "      <th></th>\n",
       "      <th>gbtree</th>\n",
       "      <th>dart</th>\n",
       "      <th>forest</th>\n",
       "      <th>xgb</th>\n",
       "    </tr>\n",
       "  </thead>\n",
       "  <tbody>\n",
       "    <tr>\n",
       "      <th>gbtree</th>\n",
       "      <td>1.000000</td>\n",
       "      <td>0.940858</td>\n",
       "      <td>0.907672</td>\n",
       "      <td>0.921757</td>\n",
       "    </tr>\n",
       "    <tr>\n",
       "      <th>dart</th>\n",
       "      <td>0.940858</td>\n",
       "      <td>1.000000</td>\n",
       "      <td>0.931803</td>\n",
       "      <td>0.946351</td>\n",
       "    </tr>\n",
       "    <tr>\n",
       "      <th>forest</th>\n",
       "      <td>0.907672</td>\n",
       "      <td>0.931803</td>\n",
       "      <td>1.000000</td>\n",
       "      <td>0.938286</td>\n",
       "    </tr>\n",
       "    <tr>\n",
       "      <th>xgb</th>\n",
       "      <td>0.921757</td>\n",
       "      <td>0.946351</td>\n",
       "      <td>0.938286</td>\n",
       "      <td>1.000000</td>\n",
       "    </tr>\n",
       "  </tbody>\n",
       "</table>\n",
       "</div>"
      ],
      "text/plain": [
       "          gbtree      dart    forest       xgb\n",
       "gbtree  1.000000  0.940858  0.907672  0.921757\n",
       "dart    0.940858  1.000000  0.931803  0.946351\n",
       "forest  0.907672  0.931803  1.000000  0.938286\n",
       "xgb     0.921757  0.946351  0.938286  1.000000"
      ]
     },
     "execution_count": 45,
     "metadata": {},
     "output_type": "execute_result"
    }
   ],
   "source": [
    "# 상관관계를 파악 -> Correaltion\n",
    "\n",
    "df_pred.corr()"
   ]
  },
  {
   "cell_type": "markdown",
   "id": "95c325f4",
   "metadata": {},
   "source": [
    "# Stacking"
   ]
  },
  {
   "cell_type": "code",
   "execution_count": null,
   "id": "b4ae4d06",
   "metadata": {},
   "outputs": [],
   "source": [
    "'''\n",
    "\n",
    "StackingClassifier 예시\n",
    "-> 우리는 Regressor\n",
    "\n",
    "\n",
    "\n",
    "# 빈 리스트 생성  (앙상블 모델 제작 과정과 유사)\n",
    "base_models = []\n",
    "\n",
    "# 세 모델을 어펜드 ('이름', 모델) 튜플 형식으로 추가\n",
    "base_models.append(('lr', LogisticRegression()))\n",
    "base_models.append(('xgb', XGBClassifier()))\n",
    "base_models.append(('rf', RandomForestClassifier(random_state=2)))\n",
    "\n",
    "# 메타 모델을 정의합니다. (상위 모델로 간단한 모델을 활용하는 것이 좋다. )\n",
    "meta_model = LogisticRegression()\n",
    "\n",
    "# 스태킹 앙상블을 만듭니다.\n",
    "clf = StackingClassifier(estimators=base_models, final_estimator=meta_model)\n",
    "scores = cross_val_score(clf, X, y, cv=kfold)\n",
    "print(scores.mean())\n",
    "\n",
    "# 난 StackingRegressor을 활용하면 됨\n",
    "\n",
    "'''"
   ]
  },
  {
   "cell_type": "code",
   "execution_count": null,
   "id": "f7ee4eb4",
   "metadata": {},
   "outputs": [],
   "source": [
    "base_models = []\n",
    "\n",
    "## base_models.append(('lr', LogisticRegression()))\n",
    "base_models.append(('gbtree', XGBRegressor()))\n",
    "base_models.append(('rf', RandomForestRegressor(random_state=2)))\n",
    "base_models.append(('xgb', XGBRegressor(max_depth=2, n_estimators=500, learning_rate=0.1)))\n",
    "\n",
    "# 메타 모델을 정의합니다. (여기도 바뀌어야 함)\n",
    "# regression에 적합한 스태킹 메타 모델 찾아보기\n",
    "meta_model = LogisticRegression()\n",
    "\n",
    "# 스태킹 앙상블을 만듭니다.\n",
    "clf = StackingRegressor(estimators=base_models, final_estimator=meta_model)\n",
    "# 여기에 mse 적용해서 보면 좋겠다.\n",
    "scores = cross_val_score(clf, X, y, cv=kfold)\n",
    "print(scores.mean())"
   ]
  },
  {
   "cell_type": "code",
   "execution_count": null,
   "id": "bd9db31a",
   "metadata": {},
   "outputs": [],
   "source": [
    "# 최종 모델이 그럼 clf?"
   ]
  },
  {
   "cell_type": "code",
   "execution_count": null,
   "id": "1919b6b5",
   "metadata": {},
   "outputs": [],
   "source": []
  },
  {
   "cell_type": "code",
   "execution_count": 59,
   "id": "3034c301",
   "metadata": {
    "scrolled": true
   },
   "outputs": [
    {
     "data": {
      "text/plain": [
       "array([3.4765828, 1.0803941, 3.0056603, ..., 2.9329262, 3.1497574,\n",
       "       1.8071301], dtype=float32)"
      ]
     },
     "execution_count": 59,
     "metadata": {},
     "output_type": "execute_result"
    }
   ],
   "source": [
    "predictions = xgb_model.predict(X_test)\n",
    "predictions"
   ]
  },
  {
   "cell_type": "code",
   "execution_count": 60,
   "id": "85a1f458",
   "metadata": {},
   "outputs": [
    {
     "name": "stdout",
     "output_type": "stream",
     "text": [
      "0.521946838657037\n"
     ]
    }
   ],
   "source": [
    "r_sq = xgb_model.score(X_train, y_train)\n",
    "print(r_sq)"
   ]
  },
  {
   "cell_type": "code",
   "execution_count": 61,
   "id": "d6d99174",
   "metadata": {},
   "outputs": [
    {
     "data": {
      "text/plain": [
       "0.537127521760466"
      ]
     },
     "execution_count": 61,
     "metadata": {},
     "output_type": "execute_result"
    }
   ],
   "source": [
    "y_pred = xgb_model.predict(X_val)\n",
    "y_pred\n",
    "\n",
    "sklearn.metrics.mean_squared_error(y_val, y_pred)"
   ]
  },
  {
   "cell_type": "code",
   "execution_count": 62,
   "id": "e7ac812e",
   "metadata": {},
   "outputs": [],
   "source": [
    "predict_df = pd.read_csv(\"./colab_workspace/colab_workspace/space_data/predict_data/predict_3h_max.csv\")\n",
    "predict_df.drop([\"date\"],axis=1,inplace=True)\n"
   ]
  },
  {
   "cell_type": "code",
   "execution_count": 63,
   "id": "34a84d04",
   "metadata": {},
   "outputs": [],
   "source": [
    "result = xgb_model.predict(predict_df)[-480:]"
   ]
  },
  {
   "cell_type": "code",
   "execution_count": null,
   "id": "3fa19d61",
   "metadata": {},
   "outputs": [],
   "source": [
    "save_path = \"xg3.xlsx\"\n",
    "\n",
    "df = pd.read_excel(\"./colab_workspace/colab_workspace/file/quiz.xlsx\")\n",
    "df[\"정답\"] = result\n",
    "df.to_excel(save_path, index=False)"
   ]
  },
  {
   "cell_type": "code",
   "execution_count": null,
   "id": "21e81c9a",
   "metadata": {},
   "outputs": [],
   "source": [
    "result = np.round(result,0)\n",
    "\n",
    "save_path = \"xg3_round.xlsx\"\n",
    "\n",
    "df = pd.read_excel(\"./colab_workspace/colab_workspace/file/quiz.xlsx\")\n",
    "df[\"정답\"] = result\n",
    "df.to_excel(save_path, index=False)"
   ]
  },
  {
   "cell_type": "code",
   "execution_count": null,
   "id": "eab12fbb",
   "metadata": {},
   "outputs": [],
   "source": [
    "# kp 지수 8칸 밀기 주의 (9?)"
   ]
  },
  {
   "cell_type": "code",
   "execution_count": null,
   "id": "2cc683fa",
   "metadata": {},
   "outputs": [],
   "source": [
    "# gridCV 활용\n",
    "\n",
    "# 모델 앙상블 (Voting or Stacking)"
   ]
  }
 ],
 "metadata": {
  "kernelspec": {
   "display_name": "Python 3 (ipykernel)",
   "language": "python",
   "name": "python3"
  },
  "language_info": {
   "codemirror_mode": {
    "name": "ipython",
    "version": 3
   },
   "file_extension": ".py",
   "mimetype": "text/x-python",
   "name": "python",
   "nbconvert_exporter": "python",
   "pygments_lexer": "ipython3",
   "version": "3.9.12"
  }
 },
 "nbformat": 4,
 "nbformat_minor": 5
}
