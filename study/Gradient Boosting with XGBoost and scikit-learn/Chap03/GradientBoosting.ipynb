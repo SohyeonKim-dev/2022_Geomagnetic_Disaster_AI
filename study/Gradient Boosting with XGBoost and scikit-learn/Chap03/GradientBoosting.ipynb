{
  "cells": [
    {
      "cell_type": "markdown",
      "metadata": {
        "id": "QJEYEQWqy3qW"
      },
      "source": [
        "# 4장. 그레이디언트 부스팅에서 XGBoost까지"
      ]
    },
    {
      "cell_type": "markdown",
      "metadata": {
        "id": "DAKT63KMy3qY"
      },
      "source": [
        "*아래 링크를 통해 이 노트북을 주피터 노트북 뷰어(nbviewer.org)로 보거나 구글 코랩(colab.research.google.com)에서 실행할 수 있습니다.*\n",
        "\n",
        "<table class=\"tfo-notebook-buttons\" align=\"left\">\n",
        "  <td>\n",
        "    <a target=\"_blank\" href=\"https://nbviewer.org/github/rickiepark/handson-gb/blob/main/Chapter04/Gradient_Boosting.ipynb\"><img src=\"https://jupyter.org/assets/share.png\" width=\"60\" />주피터 노트북 뷰어로 보기</a>\n",
        "  </td>\n",
        "  <td>\n",
        "    <a target=\"_blank\" href=\"https://colab.research.google.com/github/rickiepark/handson-gb/blob/main/Chapter04/Gradient_Boosting.ipynb\"><img src=\"https://www.tensorflow.org/images/colab_logo_32px.png\" />구글 코랩(Colab)에서 실행하기</a>\n",
        "  </td>\n",
        "</table>"
      ]
    },
    {
      "cell_type": "code",
      "execution_count": 1,
      "metadata": {
        "colab": {
          "base_uri": "https://localhost:8080/"
        },
        "id": "9V8zh068y3qY",
        "outputId": "c4e12a3d-9362-4bb7-e087-261d30f17759"
      },
      "outputs": [
        {
          "output_type": "stream",
          "name": "stdout",
          "text": [
            "\u001b[K     |████████████████████████████████| 255.9 MB 35 kB/s \n",
            "\u001b[?25hArchive:  exoplanets.csv.zip\n",
            "  inflating: exoplanets.csv          \n"
          ]
        }
      ],
      "source": [
        "# 노트북이 코랩에서 실행 중인지 체크합니다.\n",
        "import sys\n",
        "if 'google.colab' in sys.modules:\n",
        "    !pip install -q --upgrade xgboost\n",
        "    !wget -q https://raw.githubusercontent.com/rickiepark/handson-gb/main/Chapter04/bike_rentals_cleaned.csv\n",
        "    !wget -q https://raw.githubusercontent.com/rickiepark/handson-gb/main/Chapter04/exoplanets.csv.zip\n",
        "\n",
        "!unzip -o exoplanets.csv.zip"
      ]
    },
    {
      "cell_type": "markdown",
      "metadata": {
        "id": "WsewIE48y3qZ"
      },
      "source": [
        "## 그레이디언트 부스팅 작동 방식\n",
        "\n",
        "### 그레이디언트 부스팅 모델 구축 방법 배우기\n",
        "\n",
        "#### 자전거 대여 데이터셋 로드하기"
      ]
    },
    {
      "cell_type": "code",
      "execution_count": 2,
      "metadata": {
        "id": "Pnf4ITRNy3qa"
      },
      "outputs": [],
      "source": [
        "# pandas와 numpy 임포트하기\n",
        "import pandas as pd\n",
        "import numpy as np\n",
        "\n",
        "# 경고 끄기\n",
        "import warnings\n",
        "warnings.filterwarnings('ignore')\n",
        "\n",
        "import xgboost as xgb\n",
        "xgb.set_config(verbosity=0)"
      ]
    },
    {
      "cell_type": "code",
      "execution_count": 3,
      "metadata": {
        "colab": {
          "base_uri": "https://localhost:8080/",
          "height": 221
        },
        "id": "agrz-VYAy3qa",
        "outputId": "c2b840c6-65f0-4239-b2b8-254942111b20"
      },
      "outputs": [
        {
          "output_type": "execute_result",
          "data": {
            "text/plain": [
              "   instant  season   yr  mnth  holiday  weekday  workingday  weathersit  \\\n",
              "0        1     1.0  0.0   1.0      0.0      6.0         0.0           2   \n",
              "1        2     1.0  0.0   1.0      0.0      0.0         0.0           2   \n",
              "2        3     1.0  0.0   1.0      0.0      1.0         1.0           1   \n",
              "3        4     1.0  0.0   1.0      0.0      2.0         1.0           1   \n",
              "4        5     1.0  0.0   1.0      0.0      3.0         1.0           1   \n",
              "\n",
              "       temp     atemp       hum  windspeed   cnt  \n",
              "0  0.344167  0.363625  0.805833   0.160446   985  \n",
              "1  0.363478  0.353739  0.696087   0.248539   801  \n",
              "2  0.196364  0.189405  0.437273   0.248309  1349  \n",
              "3  0.200000  0.212122  0.590435   0.160296  1562  \n",
              "4  0.226957  0.229270  0.436957   0.186900  1600  "
            ],
            "text/html": [
              "\n",
              "  <div id=\"df-d1db0f90-8816-472b-b410-643af1c6ca22\">\n",
              "    <div class=\"colab-df-container\">\n",
              "      <div>\n",
              "<style scoped>\n",
              "    .dataframe tbody tr th:only-of-type {\n",
              "        vertical-align: middle;\n",
              "    }\n",
              "\n",
              "    .dataframe tbody tr th {\n",
              "        vertical-align: top;\n",
              "    }\n",
              "\n",
              "    .dataframe thead th {\n",
              "        text-align: right;\n",
              "    }\n",
              "</style>\n",
              "<table border=\"1\" class=\"dataframe\">\n",
              "  <thead>\n",
              "    <tr style=\"text-align: right;\">\n",
              "      <th></th>\n",
              "      <th>instant</th>\n",
              "      <th>season</th>\n",
              "      <th>yr</th>\n",
              "      <th>mnth</th>\n",
              "      <th>holiday</th>\n",
              "      <th>weekday</th>\n",
              "      <th>workingday</th>\n",
              "      <th>weathersit</th>\n",
              "      <th>temp</th>\n",
              "      <th>atemp</th>\n",
              "      <th>hum</th>\n",
              "      <th>windspeed</th>\n",
              "      <th>cnt</th>\n",
              "    </tr>\n",
              "  </thead>\n",
              "  <tbody>\n",
              "    <tr>\n",
              "      <th>0</th>\n",
              "      <td>1</td>\n",
              "      <td>1.0</td>\n",
              "      <td>0.0</td>\n",
              "      <td>1.0</td>\n",
              "      <td>0.0</td>\n",
              "      <td>6.0</td>\n",
              "      <td>0.0</td>\n",
              "      <td>2</td>\n",
              "      <td>0.344167</td>\n",
              "      <td>0.363625</td>\n",
              "      <td>0.805833</td>\n",
              "      <td>0.160446</td>\n",
              "      <td>985</td>\n",
              "    </tr>\n",
              "    <tr>\n",
              "      <th>1</th>\n",
              "      <td>2</td>\n",
              "      <td>1.0</td>\n",
              "      <td>0.0</td>\n",
              "      <td>1.0</td>\n",
              "      <td>0.0</td>\n",
              "      <td>0.0</td>\n",
              "      <td>0.0</td>\n",
              "      <td>2</td>\n",
              "      <td>0.363478</td>\n",
              "      <td>0.353739</td>\n",
              "      <td>0.696087</td>\n",
              "      <td>0.248539</td>\n",
              "      <td>801</td>\n",
              "    </tr>\n",
              "    <tr>\n",
              "      <th>2</th>\n",
              "      <td>3</td>\n",
              "      <td>1.0</td>\n",
              "      <td>0.0</td>\n",
              "      <td>1.0</td>\n",
              "      <td>0.0</td>\n",
              "      <td>1.0</td>\n",
              "      <td>1.0</td>\n",
              "      <td>1</td>\n",
              "      <td>0.196364</td>\n",
              "      <td>0.189405</td>\n",
              "      <td>0.437273</td>\n",
              "      <td>0.248309</td>\n",
              "      <td>1349</td>\n",
              "    </tr>\n",
              "    <tr>\n",
              "      <th>3</th>\n",
              "      <td>4</td>\n",
              "      <td>1.0</td>\n",
              "      <td>0.0</td>\n",
              "      <td>1.0</td>\n",
              "      <td>0.0</td>\n",
              "      <td>2.0</td>\n",
              "      <td>1.0</td>\n",
              "      <td>1</td>\n",
              "      <td>0.200000</td>\n",
              "      <td>0.212122</td>\n",
              "      <td>0.590435</td>\n",
              "      <td>0.160296</td>\n",
              "      <td>1562</td>\n",
              "    </tr>\n",
              "    <tr>\n",
              "      <th>4</th>\n",
              "      <td>5</td>\n",
              "      <td>1.0</td>\n",
              "      <td>0.0</td>\n",
              "      <td>1.0</td>\n",
              "      <td>0.0</td>\n",
              "      <td>3.0</td>\n",
              "      <td>1.0</td>\n",
              "      <td>1</td>\n",
              "      <td>0.226957</td>\n",
              "      <td>0.229270</td>\n",
              "      <td>0.436957</td>\n",
              "      <td>0.186900</td>\n",
              "      <td>1600</td>\n",
              "    </tr>\n",
              "  </tbody>\n",
              "</table>\n",
              "</div>\n",
              "      <button class=\"colab-df-convert\" onclick=\"convertToInteractive('df-d1db0f90-8816-472b-b410-643af1c6ca22')\"\n",
              "              title=\"Convert this dataframe to an interactive table.\"\n",
              "              style=\"display:none;\">\n",
              "        \n",
              "  <svg xmlns=\"http://www.w3.org/2000/svg\" height=\"24px\"viewBox=\"0 0 24 24\"\n",
              "       width=\"24px\">\n",
              "    <path d=\"M0 0h24v24H0V0z\" fill=\"none\"/>\n",
              "    <path d=\"M18.56 5.44l.94 2.06.94-2.06 2.06-.94-2.06-.94-.94-2.06-.94 2.06-2.06.94zm-11 1L8.5 8.5l.94-2.06 2.06-.94-2.06-.94L8.5 2.5l-.94 2.06-2.06.94zm10 10l.94 2.06.94-2.06 2.06-.94-2.06-.94-.94-2.06-.94 2.06-2.06.94z\"/><path d=\"M17.41 7.96l-1.37-1.37c-.4-.4-.92-.59-1.43-.59-.52 0-1.04.2-1.43.59L10.3 9.45l-7.72 7.72c-.78.78-.78 2.05 0 2.83L4 21.41c.39.39.9.59 1.41.59.51 0 1.02-.2 1.41-.59l7.78-7.78 2.81-2.81c.8-.78.8-2.07 0-2.86zM5.41 20L4 18.59l7.72-7.72 1.47 1.35L5.41 20z\"/>\n",
              "  </svg>\n",
              "      </button>\n",
              "      \n",
              "  <style>\n",
              "    .colab-df-container {\n",
              "      display:flex;\n",
              "      flex-wrap:wrap;\n",
              "      gap: 12px;\n",
              "    }\n",
              "\n",
              "    .colab-df-convert {\n",
              "      background-color: #E8F0FE;\n",
              "      border: none;\n",
              "      border-radius: 50%;\n",
              "      cursor: pointer;\n",
              "      display: none;\n",
              "      fill: #1967D2;\n",
              "      height: 32px;\n",
              "      padding: 0 0 0 0;\n",
              "      width: 32px;\n",
              "    }\n",
              "\n",
              "    .colab-df-convert:hover {\n",
              "      background-color: #E2EBFA;\n",
              "      box-shadow: 0px 1px 2px rgba(60, 64, 67, 0.3), 0px 1px 3px 1px rgba(60, 64, 67, 0.15);\n",
              "      fill: #174EA6;\n",
              "    }\n",
              "\n",
              "    [theme=dark] .colab-df-convert {\n",
              "      background-color: #3B4455;\n",
              "      fill: #D2E3FC;\n",
              "    }\n",
              "\n",
              "    [theme=dark] .colab-df-convert:hover {\n",
              "      background-color: #434B5C;\n",
              "      box-shadow: 0px 1px 3px 1px rgba(0, 0, 0, 0.15);\n",
              "      filter: drop-shadow(0px 1px 2px rgba(0, 0, 0, 0.3));\n",
              "      fill: #FFFFFF;\n",
              "    }\n",
              "  </style>\n",
              "\n",
              "      <script>\n",
              "        const buttonEl =\n",
              "          document.querySelector('#df-d1db0f90-8816-472b-b410-643af1c6ca22 button.colab-df-convert');\n",
              "        buttonEl.style.display =\n",
              "          google.colab.kernel.accessAllowed ? 'block' : 'none';\n",
              "\n",
              "        async function convertToInteractive(key) {\n",
              "          const element = document.querySelector('#df-d1db0f90-8816-472b-b410-643af1c6ca22');\n",
              "          const dataTable =\n",
              "            await google.colab.kernel.invokeFunction('convertToInteractive',\n",
              "                                                     [key], {});\n",
              "          if (!dataTable) return;\n",
              "\n",
              "          const docLinkHtml = 'Like what you see? Visit the ' +\n",
              "            '<a target=\"_blank\" href=https://colab.research.google.com/notebooks/data_table.ipynb>data table notebook</a>'\n",
              "            + ' to learn more about interactive tables.';\n",
              "          element.innerHTML = '';\n",
              "          dataTable['output_type'] = 'display_data';\n",
              "          await google.colab.output.renderOutput(dataTable, element);\n",
              "          const docLink = document.createElement('div');\n",
              "          docLink.innerHTML = docLinkHtml;\n",
              "          element.appendChild(docLink);\n",
              "        }\n",
              "      </script>\n",
              "    </div>\n",
              "  </div>\n",
              "  "
            ]
          },
          "metadata": {},
          "execution_count": 3
        }
      ],
      "source": [
        "df_bikes = pd.read_csv('bike_rentals_cleaned.csv')\n",
        "df_bikes.head()"
      ]
    },
    {
      "cell_type": "code",
      "execution_count": 4,
      "metadata": {
        "id": "JHo9EgFGy3qa"
      },
      "outputs": [],
      "source": [
        "# 데이터를 X와 y로 나눕니다.\n",
        "X_bikes = df_bikes.iloc[:,:-1]\n",
        "y_bikes = df_bikes.iloc[:,-1]\n",
        "\n",
        "# train_test_split를 임포트합니다.\n",
        "from sklearn.model_selection import train_test_split\n",
        "\n",
        "# 데이터를 훈련 세트와 테스트 세트로 나눕니다.\n",
        "X_train, X_test, y_train, y_test = train_test_split(X_bikes, y_bikes, random_state=2)"
      ]
    },
    {
      "cell_type": "markdown",
      "metadata": {
        "id": "rWhk0WOmy3qa"
      },
      "source": [
        "#### 그레이디언트 부스팅 모델 만들기"
      ]
    },
    {
      "cell_type": "code",
      "execution_count": 8,
      "metadata": {
        "colab": {
          "base_uri": "https://localhost:8080/"
        },
        "id": "G-FF5Tm7y3qb",
        "outputId": "2240bcb5-dbae-48d0-a8bb-6964e58e92d8"
      },
      "outputs": [
        {
          "output_type": "execute_result",
          "data": {
            "text/plain": [
              "DecisionTreeRegressor(max_depth=2, random_state=2)"
            ]
          },
          "metadata": {},
          "execution_count": 8
        }
      ],
      "source": [
        "# DecisionTreeRegressor를 임포트합니다.\n",
        "from sklearn.tree import DecisionTreeRegressor\n",
        "\n",
        "# DecisionTreeRegressor를 초기화합니다. -> max_depth 적은 것 같은데,, 아닌가?\n",
        "tree_1 = DecisionTreeRegressor(max_depth=2, random_state=2)\n",
        "\n",
        "# 훈련 세트에 결정 트리를 훈련합니다.\n",
        "tree_1.fit(X_train, y_train)"
      ]
    },
    {
      "cell_type": "code",
      "execution_count": 9,
      "metadata": {
        "id": "TUma6Tnay3qb"
      },
      "outputs": [],
      "source": [
        "# 훈련 세트에 대한 예측을 만듭니다.\n",
        "y_train_pred = tree_1.predict(X_train)"
      ]
    },
    {
      "cell_type": "code",
      "execution_count": 7,
      "metadata": {
        "colab": {
          "base_uri": "https://localhost:8080/"
        },
        "id": "75KwzrXmy3qb",
        "outputId": "82fb7519-34a9-4f35-fe05-6960a499aa39"
      },
      "outputs": [
        {
          "output_type": "execute_result",
          "data": {
            "text/plain": [
              "DecisionTreeRegressor(max_depth=2, random_state=2)"
            ]
          },
          "metadata": {},
          "execution_count": 7
        }
      ],
      "source": [
        "# 잔차를 계산합니다. ------> 잔차 ?????? residual? (걔 맞음)\n",
        "y2_train = y_train - y_train_pred\n",
        "\n",
        "# DecisionTreeRegressor를 초기화합니다.\n",
        "tree_2 = DecisionTreeRegressor(max_depth=2, random_state=2)\n",
        "\n",
        "# 잔차에 모델을 훈련합니다.\n",
        "tree_2.fit(X_train, y2_train)"
      ]
    },
    {
      "cell_type": "code",
      "execution_count": 10,
      "metadata": {
        "colab": {
          "base_uri": "https://localhost:8080/"
        },
        "id": "cSz3NrPty3qb",
        "outputId": "7a19ca8c-83b8-41b1-f6d0-9ed76e5af1b7"
      },
      "outputs": [
        {
          "output_type": "execute_result",
          "data": {
            "text/plain": [
              "DecisionTreeRegressor(max_depth=2, random_state=2)"
            ]
          },
          "metadata": {},
          "execution_count": 10
        }
      ],
      "source": [
        "# 훈련 세트에 대한 예측을 만듭니다.\n",
        "y2_train_pred = tree_2.predict(X_train)\n",
        "\n",
        "# 잔차를 계산합니다.\n",
        "y3_train = y2_train - y2_train_pred      # -> 잔차는 다음 트리의 타겟이 된다 (?)\n",
        "\n",
        "# DecisionTreeRegressor를 초기화합니다.\n",
        "tree_3 = DecisionTreeRegressor(max_depth=2, random_state=2)\n",
        "\n",
        "# 잔차에 모델을 훈련합니다.\n",
        "tree_3.fit(X_train, y3_train)"
      ]
    },
    {
      "cell_type": "code",
      "execution_count": 11,
      "metadata": {
        "colab": {
          "base_uri": "https://localhost:8080/"
        },
        "id": "lXmT8juBy3qc",
        "outputId": "f4cbcf23-6705-49b1-991c-7becdd3197ca"
      },
      "outputs": [
        {
          "output_type": "execute_result",
          "data": {
            "text/plain": [
              "911.0479538776444"
            ]
          },
          "metadata": {},
          "execution_count": 11
        }
      ],
      "source": [
        "y1_pred = tree_1.predict(X_test)\n",
        "\n",
        "y2_pred = tree_2.predict(X_test)\n",
        "\n",
        "y3_pred = tree_3.predict(X_test)\n",
        "\n",
        "y_pred = y1_pred + y2_pred + y3_pred\n",
        "\n",
        "# mean_squared_error를 임포트합니다.\n",
        "from sklearn.metrics import mean_squared_error as MSE\n",
        "\n",
        "# 평균 제곱근 오차를 계산합니다.\n",
        "MSE(y_test, y_pred)**0.5"
      ]
    },
    {
      "cell_type": "markdown",
      "metadata": {
        "id": "1xLgTl4Sy3qc"
      },
      "source": [
        "#### 사이킷런 구현"
      ]
    },
    {
      "cell_type": "code",
      "execution_count": 12,
      "metadata": {
        "id": "pSsn-BIly3qc"
      },
      "outputs": [],
      "source": [
        "res_1 = y_train - np.mean(y_train)"
      ]
    },
    {
      "cell_type": "code",
      "execution_count": 13,
      "metadata": {
        "id": "3BrWnibjy3qc"
      },
      "outputs": [],
      "source": [
        "tree_1.fit(X_train, res_1)\n",
        "pred_1 = tree_1.predict(X_train)\n",
        "res_2 = y_train - pred_1"
      ]
    },
    {
      "cell_type": "code",
      "execution_count": 14,
      "metadata": {
        "id": "eeHGy5TDy3qd"
      },
      "outputs": [],
      "source": [
        "tree_2.fit(X_train, res_2)\n",
        "pred_2 = tree_2.predict(X_train)\n",
        "res_3 = y_train - (pred_1 + pred_2)"
      ]
    },
    {
      "cell_type": "code",
      "execution_count": 15,
      "metadata": {
        "colab": {
          "base_uri": "https://localhost:8080/"
        },
        "id": "-wHhxBlny3qd",
        "outputId": "f2208045-cfe8-449f-93ce-9b4b3380d609"
      },
      "outputs": [
        {
          "output_type": "execute_result",
          "data": {
            "text/plain": [
              "DecisionTreeRegressor(max_depth=2, random_state=2)"
            ]
          },
          "metadata": {},
          "execution_count": 15
        }
      ],
      "source": [
        "tree_3.fit(X_train, res_3)"
      ]
    },
    {
      "cell_type": "code",
      "execution_count": 16,
      "metadata": {
        "colab": {
          "base_uri": "https://localhost:8080/"
        },
        "id": "PY82siNUy3qd",
        "outputId": "aa797f70-f5e5-4511-e955-918149546708"
      },
      "outputs": [
        {
          "output_type": "execute_result",
          "data": {
            "text/plain": [
              "911.0479538776432"
            ]
          },
          "metadata": {},
          "execution_count": 16
        }
      ],
      "source": [
        "from sklearn.metrics import mean_squared_error\n",
        "\n",
        "pred_all = tree_1.predict(X_test) + tree_2.predict(X_test) + tree_3.predict(X_test)\n",
        "mean_squared_error(y_test, pred_all, squared=False)"
      ]
    },
    {
      "cell_type": "markdown",
      "metadata": {
        "id": "PCLXpDs7y3qd"
      },
      "source": [
        "### 사이킷런으로 그레이디언트 부스팅 모델 만들기"
      ]
    },
    {
      "cell_type": "code",
      "execution_count": 17,
      "metadata": {
        "id": "bYjfMXIsy3qd"
      },
      "outputs": [],
      "source": [
        "from sklearn.ensemble import GradientBoostingRegressor"
      ]
    },
    {
      "cell_type": "code",
      "execution_count": 18,
      "metadata": {
        "colab": {
          "base_uri": "https://localhost:8080/"
        },
        "id": "FE_56f0Gy3qe",
        "outputId": "7bf3aeb9-d302-4b03-9526-845c75fc5c19"
      },
      "outputs": [
        {
          "output_type": "execute_result",
          "data": {
            "text/plain": [
              "911.0479538776439"
            ]
          },
          "metadata": {},
          "execution_count": 18
        }
      ],
      "source": [
        "gbr = GradientBoostingRegressor(max_depth=2, n_estimators=3, \n",
        "                                random_state=2, learning_rate=1.0)\n",
        "\n",
        "gbr.fit(X_train, y_train)\n",
        "\n",
        "# 테스트 데이터에 대한 예측을 만듭니다.\n",
        "y_pred = gbr.predict(X_test)\n",
        "\n",
        "# 평균 제곱근 오차를 계산합니다.\n",
        "MSE(y_test, y_pred)**0.5"
      ]
    },
    {
      "cell_type": "code",
      "execution_count": 19,
      "metadata": {
        "colab": {
          "base_uri": "https://localhost:8080/"
        },
        "id": "DUxRnDZYy3qe",
        "outputId": "f9a6f318-a53c-471f-b6c1-7e3234f9324e"
      },
      "outputs": [
        {
          "output_type": "execute_result",
          "data": {
            "text/plain": [
              "857.1072323426944"
            ]
          },
          "metadata": {},
          "execution_count": 19
        }
      ],
      "source": [
        "gbr = GradientBoostingRegressor(max_depth=2, n_estimators=30, \n",
        "                                random_state=2, learning_rate=1.0)\n",
        "gbr.fit(X_train, y_train)\n",
        "y_pred = gbr.predict(X_test)\n",
        "MSE(y_test, y_pred)**0.5"
      ]
    },
    {
      "cell_type": "code",
      "execution_count": 20,
      "metadata": {
        "colab": {
          "base_uri": "https://localhost:8080/"
        },
        "id": "r1RjwkZby3qe",
        "outputId": "7c6577c0-25a3-4177-ca35-88decf469817"
      },
      "outputs": [
        {
          "output_type": "execute_result",
          "data": {
            "text/plain": [
              "936.3617413678853"
            ]
          },
          "metadata": {},
          "execution_count": 20
        }
      ],
      "source": [
        "gbr = GradientBoostingRegressor(max_depth=2, n_estimators=300, \n",
        "                                random_state=2, learning_rate=1.0)\n",
        "gbr.fit(X_train, y_train)\n",
        "y_pred = gbr.predict(X_test)\n",
        "MSE(y_test, y_pred)**0.5"
      ]
    },
    {
      "cell_type": "code",
      "execution_count": 21,
      "metadata": {
        "colab": {
          "base_uri": "https://localhost:8080/"
        },
        "id": "9x9-p-Say3qe",
        "outputId": "6eb8206e-13d5-48cc-9736-07a1f45fc4ac"
      },
      "outputs": [
        {
          "output_type": "execute_result",
          "data": {
            "text/plain": [
              "653.7456840231495"
            ]
          },
          "metadata": {},
          "execution_count": 21
        }
      ],
      "source": [
        "gbr = GradientBoostingRegressor(max_depth=2, n_estimators=300, random_state=2)\n",
        "gbr.fit(X_train, y_train)\n",
        "y_pred = gbr.predict(X_test)\n",
        "MSE(y_test, y_pred)**0.5\n",
        "\n",
        "\n",
        "# 적절한 학습률 주는 것이 (더 작게) 매우 중요하다! (성능에 큰 영향을 미침)"
      ]
    },
    {
      "cell_type": "markdown",
      "metadata": {
        "id": "44IRbxSry3qe"
      },
      "source": [
        "## 그레이디언트 부스팅 매개변수 튜닝\n",
        "\n",
        "### learning_rate"
      ]
    },
    {
      "cell_type": "code",
      "execution_count": 22,
      "metadata": {
        "scrolled": true,
        "colab": {
          "base_uri": "https://localhost:8080/"
        },
        "id": "yDOWXS5wy3qf",
        "outputId": "5796d101-af31-4a76-f27f-6c4d12116544"
      },
      "outputs": [
        {
          "output_type": "stream",
          "name": "stdout",
          "text": [
            "학습률: 0.001 , 점수: 1633.0261400367258\n",
            "학습률: 0.01 , 점수: 831.5430182728547\n",
            "학습률: 0.05 , 점수: 685.0192988749717\n",
            "학습률: 0.1 , 점수: 653.7456840231495\n",
            "학습률: 0.15 , 점수: 687.666134269379\n",
            "학습률: 0.2 , 점수: 664.312804425697\n",
            "학습률: 0.3 , 점수: 689.4190385930236\n",
            "학습률: 0.5 , 점수: 693.8856905068778\n",
            "학습률: 1.0 , 점수: 936.3617413678853\n"
          ]
        }
      ],
      "source": [
        "learning_rate_values = [0.001, 0.01, 0.05, 0.1, 0.15, 0.2, 0.3, 0.5, 1.0]\n",
        "for value in learning_rate_values:\n",
        "    gbr = GradientBoostingRegressor(max_depth=2, n_estimators=300, \n",
        "                                    random_state=2, learning_rate=value)\n",
        "    gbr.fit(X_train, y_train)\n",
        "    y_pred = gbr.predict(X_test)\n",
        "    rmse = MSE(y_test, y_pred)**0.5\n",
        "    print('학습률:', value, ', 점수:', rmse)"
      ]
    },
    {
      "cell_type": "code",
      "execution_count": 23,
      "metadata": {
        "id": "sHZG7yOky3qf"
      },
      "outputs": [],
      "source": [
        "import matplotlib.pyplot as plt\n",
        "import seaborn as sns\n",
        "\n",
        "sns.set()"
      ]
    },
    {
      "cell_type": "code",
      "execution_count": 24,
      "metadata": {
        "colab": {
          "base_uri": "https://localhost:8080/",
          "height": 1000
        },
        "id": "pU0GQLA5y3qf",
        "outputId": "6c202697-2177-4023-d2ea-c7d14e95945e"
      },
      "outputs": [
        {
          "output_type": "display_data",
          "data": {
            "text/plain": [
              "<Figure size 1080x504 with 1 Axes>"
            ],
            "image/png": "[encoded data removed]"
          },
          "metadata": {}
        },
        {
          "output_type": "display_data",
          "data": {
            "text/plain": [
              "<Figure size 1080x504 with 1 Axes>"
            ],
            "image/png": "[encoded data removed]"
          },
          "metadata": {}
        },
        {
          "output_type": "display_data",
          "data": {
            "text/plain": [
              "<Figure size 1080x504 with 1 Axes>"
            ],
            "image/png": "[encoded data removed]"
          },
          "metadata": {}
        }
      ],
      "source": [
        "from sklearn.metrics import mean_squared_error\n",
        "\n",
        "for est in [30, 300, 3000]:\n",
        "    rmse_scores = []\n",
        "    for value in learning_rate_values:\n",
        "        gbr = GradientBoostingRegressor(max_depth=2, n_estimators=est, \n",
        "                                        random_state=2, learning_rate=value)\n",
        "        gbr.fit(X_train, y_train)\n",
        "        y_pred = gbr.predict(X_test)\n",
        "        rmse = mean_squared_error(y_test, y_pred, squared=False)\n",
        "        rmse_scores.append(rmse)\n",
        "    plt.figure(figsize=(15,7))\n",
        "    plt.plot(learning_rate_values, rmse_scores)\n",
        "    plt.xlabel('learning_rate')\n",
        "    plt.ylabel('RMSE')\n",
        "    plt.title('Gradient Boosting learning_rate {} trees'.format(est))\n",
        "    plt.show()"
      ]
    },
    {
      "cell_type": "markdown",
      "metadata": {
        "id": "rkL9U6UTy3qf"
      },
      "source": [
        "### 기본 학습기"
      ]
    },
    {
      "cell_type": "code",
      "execution_count": 25,
      "metadata": {
        "scrolled": true,
        "colab": {
          "base_uri": "https://localhost:8080/"
        },
        "id": "-8jmqZEjy3qf",
        "outputId": "b5fa370b-bc47-45c6-c86a-e54fddaddcc1"
      },
      "outputs": [
        {
          "output_type": "stream",
          "name": "stdout",
          "text": [
            "최대 깊이: None , 점수: 869.2788645118395\n",
            "최대 깊이: 1 , 점수: 707.8261886858736\n",
            "최대 깊이: 2 , 점수: 653.7456840231495\n",
            "최대 깊이: 3 , 점수: 646.4045923317708\n",
            "최대 깊이: 4 , 점수: 663.048387855927\n"
          ]
        }
      ],
      "source": [
        "depths = [None, 1, 2, 3, 4]\n",
        "for depth in depths:\n",
        "    gbr = GradientBoostingRegressor(max_depth=depth, n_estimators=300, \n",
        "                                    random_state=2)\n",
        "    gbr.fit(X_train, y_train)\n",
        "    y_pred = gbr.predict(X_test)\n",
        "    rmse = MSE(y_test, y_pred)**0.5\n",
        "    print('최대 깊이:', depth, ', 점수:', rmse)"
      ]
    },
    {
      "cell_type": "code",
      "execution_count": 26,
      "metadata": {
        "colab": {
          "base_uri": "https://localhost:8080/"
        },
        "id": "oPJdzvRyy3qf",
        "outputId": "f7cee6b3-9a99-4064-dadf-4d9a3fd4ad1d"
      },
      "outputs": [
        {
          "output_type": "execute_result",
          "data": {
            "text/plain": [
              "DummyRegressor()"
            ]
          },
          "metadata": {},
          "execution_count": 26
        }
      ],
      "source": [
        "gbr.init_"
      ]
    },
    {
      "cell_type": "code",
      "execution_count": 27,
      "metadata": {
        "colab": {
          "base_uri": "https://localhost:8080/"
        },
        "id": "8kzo7hDGy3qg",
        "outputId": "f650fd1d-218d-4daf-e2b9-4c94c55d4f6a"
      },
      "outputs": [
        {
          "output_type": "execute_result",
          "data": {
            "text/plain": [
              "300"
            ]
          },
          "metadata": {},
          "execution_count": 27
        }
      ],
      "source": [
        "len(gbr.estimators_)"
      ]
    },
    {
      "cell_type": "code",
      "execution_count": null,
      "metadata": {
        "id": "2DqXv0REy3qg",
        "outputId": "feba650b-355e-4ae9-c7b3-b77e6645c4ec"
      },
      "outputs": [
        {
          "data": {
            "image/png": "[encoded data removed]",
            "text/plain": [
              "<Figure size 1080x504 with 1 Axes>"
            ]
          },
          "metadata": {
            "needs_background": "light"
          },
          "output_type": "display_data"
        }
      ],
      "source": [
        "plt.figure(figsize=(15,7))\n",
        "plt.plot(range(1, 301), gbr.train_score_)\n",
        "plt.xlabel('n_estimators')\n",
        "plt.ylabel('train_score_')\n",
        "plt.title('Train Score')\n",
        "plt.show()"
      ]
    },
    {
      "cell_type": "markdown",
      "metadata": {
        "id": "glA5llbxy3qh"
      },
      "source": [
        "### subsample"
      ]
    },
    {
      "cell_type": "code",
      "execution_count": null,
      "metadata": {
        "scrolled": true,
        "id": "Ok5WTiPJy3qh",
        "outputId": "2499fd3c-fdcc-4f54-ab1b-2de7143ed2fd"
      },
      "outputs": [
        {
          "name": "stdout",
          "output_type": "stream",
          "text": [
            "subsample: 1 , 점수: 645.7159625141953\n",
            "subsample: 0.9 , 점수: 618.7761337173833\n",
            "subsample: 0.8 , 점수: 607.6039158278219\n",
            "subsample: 0.7 , 점수: 594.8115275170404\n",
            "subsample: 0.6 , 점수: 626.3994800707131\n",
            "subsample: 0.5 , 점수: 625.0845597578037\n"
          ]
        }
      ],
      "source": [
        "samples = [1, 0.9, 0.8, 0.7, 0.6, 0.5]      # 학습에 활용할 샘플에 비율을 줌  -> oob 발생 \n",
        "for sample in samples:\n",
        "    gbr = GradientBoostingRegressor(max_depth=3, n_estimators=300, \n",
        "                                    subsample=sample, random_state=2)\n",
        "    gbr.fit(X_train, y_train)\n",
        "    y_pred = gbr.predict(X_test)\n",
        "    rmse = MSE(y_test, y_pred)**0.5\n",
        "    print('subsample:', sample, ', 점수:', rmse)"
      ]
    },
    {
      "cell_type": "code",
      "execution_count": null,
      "metadata": {
        "id": "35w9LHIky3qh",
        "outputId": "243239e3-61b2-479e-c3db-e590f6d53541"
      },
      "outputs": [
        {
          "data": {
            "image/png": "[encoded data removed]",
            "text/plain": [
              "<Figure size 1080x504 with 1 Axes>"
            ]
          },
          "metadata": {
            "needs_background": "light"
          },
          "output_type": "display_data"
        }
      ],
      "source": [
        "plt.figure(figsize=(15,7))\n",
        "plt.plot(range(1, 301), gbr.oob_improvement_)\n",
        "plt.xlabel('n_estimators')\n",
        "plt.ylabel('oob_improvement_')\n",
        "plt.title('OOB Improvement')\n",
        "plt.show()"
      ]
    },
    {
      "cell_type": "markdown",
      "metadata": {
        "id": "h5_Zcl7Cy3qi"
      },
      "source": [
        "### RandomizedSearchCV"
      ]
    },
    {
      "cell_type": "code",
      "execution_count": null,
      "metadata": {
        "id": "Ik0-4-GXy3qi",
        "outputId": "29c5f0ba-e3ee-44c2-b021-369a54388b06"
      },
      "outputs": [
        {
          "name": "stdout",
          "output_type": "stream",
          "text": [
            "최상의 매개변수: {'subsample': 0.75, 'n_estimators': 300, 'learning_rate': 0.1}\n",
            "훈련 점수: 634.913\n",
            "테스트 세트 점수: 632.493\n"
          ]
        }
      ],
      "source": [
        "params = {'subsample':[0.65, 0.7, 0.75],\n",
        "          'n_estimators':[300, 500, 1000],\n",
        "          'learning_rate':[0.05, 0.075, 0.1]}\n",
        "\n",
        "# RandomizedSearchCV를 임포트합니다.\n",
        "from sklearn.model_selection import RandomizedSearchCV  # ---> 그리드 교차 검증 \n",
        "\n",
        "gbr = GradientBoostingRegressor(max_depth=3, random_state=2)\n",
        "\n",
        "\n",
        "# RandomizedSearchCV를 초기화합니다.\n",
        "rand_reg = RandomizedSearchCV(gbr, params, n_iter=10, \n",
        "                              scoring='neg_mean_squared_error', \n",
        "                              cv=5, n_jobs=-1, random_state=2)\n",
        "\n",
        "# X_train와 y_train로 rand_reg를 훈련합니다.\n",
        "rand_reg.fit(X_train, y_train)\n",
        "\n",
        "# 최상의 모델을 추출합니다.\n",
        "best_model = rand_reg.best_estimator_\n",
        "\n",
        "# 최상의 매개변수를 추출합니다.\n",
        "best_params = rand_reg.best_params_\n",
        "\n",
        "# 최상의 매개변수를 출력합니다.\n",
        "print(\"최상의 매개변수:\", best_params)\n",
        "\n",
        "# 최상의 점수를 계산합니다.\n",
        "best_score = np.sqrt(-rand_reg.best_score_)\n",
        "\n",
        "# 최상의 점수를 출력합니다.\n",
        "print(\"훈련 점수: {:.3f}\".format(best_score))\n",
        "\n",
        "# 테스트 세트에 대한 예측을 만듭니다.\n",
        "y_pred = best_model.predict(X_test)\n",
        "\n",
        "# 평균 제곱근 오차를 계산합니다.\n",
        "rmse_test = MSE(y_test, y_pred)**0.5\n",
        "\n",
        "# 평균 제곱근 오차를 출력합니다.\n",
        "print('테스트 세트 점수: {:.3f}'.format(rmse_test))"
      ]
    },
    {
      "cell_type": "code",
      "execution_count": null,
      "metadata": {
        "id": "svsY64W7y3qi",
        "outputId": "2f04f2de-1ac0-43d1-e122-a4c30a908d37"
      },
      "outputs": [
        {
          "data": {
            "text/plain": [
              "598.8715699771932"
            ]
          },
          "execution_count": 30,
          "metadata": {},
          "output_type": "execute_result"
        }
      ],
      "source": [
        "gbr = GradientBoostingRegressor(max_depth=3, n_estimators=1600, \n",
        "                                subsample=0.75, learning_rate=0.02, \n",
        "                                random_state=2)\n",
        "gbr.fit(X_train, y_train)\n",
        "y_pred = gbr.predict(X_test)\n",
        "MSE(y_test, y_pred)**0.5"
      ]
    },
    {
      "cell_type": "markdown",
      "metadata": {
        "id": "8uIakuYby3qi"
      },
      "source": [
        "### XGBoost"
      ]
    },
    {
      "cell_type": "code",
      "execution_count": null,
      "metadata": {
        "id": "4Jp0PokAy3qi",
        "outputId": "0e7ca96a-5222-4857-94f3-efb665308e24"
      },
      "outputs": [
        {
          "data": {
            "text/plain": [
              "584.3395337495713"
            ]
          },
          "execution_count": 31,
          "metadata": {},
          "output_type": "execute_result"
        }
      ],
      "source": [
        "# XGBRegressor를 임포트합니다.       -> 드디어?! \n",
        "from xgboost import XGBRegressor\n",
        "\n",
        "# XGBRegressor를 초기화합니다.\n",
        "xg_reg = XGBRegressor(max_depth=3, n_estimators=1600, eta=0.02, \n",
        "                      subsample=0.75, random_state=2)\n",
        "\n",
        "# 훈련 세트에서 xg_reg를 훈련합니다.\n",
        "xg_reg.fit(X_train, y_train)\n",
        "\n",
        "# 테스트 세트에 대한 예측을 만듭니다.\n",
        "y_pred = xg_reg.predict(X_test)\n",
        "\n",
        "# 평균 제곱근 오차를 계산합니다.\n",
        "MSE(y_test, y_pred)**0.5"
      ]
    },
    {
      "cell_type": "markdown",
      "metadata": {
        "id": "xJviG2Owy3qj"
      },
      "source": [
        "## 빅 데이터 다루기 - 그레이디언트 부스팅 vs XGBoost\n",
        "\n",
        "### 외계 행성 데이터셋 전처리"
      ]
    },
    {
      "cell_type": "code",
      "execution_count": null,
      "metadata": {
        "id": "PODT-xZ3y3qj",
        "outputId": "5d2f00a6-f04a-4756-a16a-f40858bcbcfc"
      },
      "outputs": [
        {
          "data": {
            "text/html": [
              "<div>\n",
              "<style scoped>\n",
              "    .dataframe tbody tr th:only-of-type {\n",
              "        vertical-align: middle;\n",
              "    }\n",
              "\n",
              "    .dataframe tbody tr th {\n",
              "        vertical-align: top;\n",
              "    }\n",
              "\n",
              "    .dataframe thead th {\n",
              "        text-align: right;\n",
              "    }\n",
              "</style>\n",
              "<table border=\"1\" class=\"dataframe\">\n",
              "  <thead>\n",
              "    <tr style=\"text-align: right;\">\n",
              "      <th></th>\n",
              "      <th>LABEL</th>\n",
              "      <th>FLUX.1</th>\n",
              "      <th>FLUX.2</th>\n",
              "      <th>FLUX.3</th>\n",
              "      <th>FLUX.4</th>\n",
              "      <th>FLUX.5</th>\n",
              "      <th>FLUX.6</th>\n",
              "      <th>FLUX.7</th>\n",
              "      <th>FLUX.8</th>\n",
              "      <th>FLUX.9</th>\n",
              "      <th>...</th>\n",
              "      <th>FLUX.3188</th>\n",
              "      <th>FLUX.3189</th>\n",
              "      <th>FLUX.3190</th>\n",
              "      <th>FLUX.3191</th>\n",
              "      <th>FLUX.3192</th>\n",
              "      <th>FLUX.3193</th>\n",
              "      <th>FLUX.3194</th>\n",
              "      <th>FLUX.3195</th>\n",
              "      <th>FLUX.3196</th>\n",
              "      <th>FLUX.3197</th>\n",
              "    </tr>\n",
              "  </thead>\n",
              "  <tbody>\n",
              "    <tr>\n",
              "      <th>0</th>\n",
              "      <td>2</td>\n",
              "      <td>93.85</td>\n",
              "      <td>83.81</td>\n",
              "      <td>20.10</td>\n",
              "      <td>-26.98</td>\n",
              "      <td>-39.56</td>\n",
              "      <td>-124.71</td>\n",
              "      <td>-135.18</td>\n",
              "      <td>-96.27</td>\n",
              "      <td>-79.89</td>\n",
              "      <td>...</td>\n",
              "      <td>-78.07</td>\n",
              "      <td>-102.15</td>\n",
              "      <td>-102.15</td>\n",
              "      <td>25.13</td>\n",
              "      <td>48.57</td>\n",
              "      <td>92.54</td>\n",
              "      <td>39.32</td>\n",
              "      <td>61.42</td>\n",
              "      <td>5.08</td>\n",
              "      <td>-39.54</td>\n",
              "    </tr>\n",
              "    <tr>\n",
              "      <th>1</th>\n",
              "      <td>2</td>\n",
              "      <td>-38.88</td>\n",
              "      <td>-33.83</td>\n",
              "      <td>-58.54</td>\n",
              "      <td>-40.09</td>\n",
              "      <td>-79.31</td>\n",
              "      <td>-72.81</td>\n",
              "      <td>-86.55</td>\n",
              "      <td>-85.33</td>\n",
              "      <td>-83.97</td>\n",
              "      <td>...</td>\n",
              "      <td>-3.28</td>\n",
              "      <td>-32.21</td>\n",
              "      <td>-32.21</td>\n",
              "      <td>-24.89</td>\n",
              "      <td>-4.86</td>\n",
              "      <td>0.76</td>\n",
              "      <td>-11.70</td>\n",
              "      <td>6.46</td>\n",
              "      <td>16.00</td>\n",
              "      <td>19.93</td>\n",
              "    </tr>\n",
              "    <tr>\n",
              "      <th>2</th>\n",
              "      <td>2</td>\n",
              "      <td>532.64</td>\n",
              "      <td>535.92</td>\n",
              "      <td>513.73</td>\n",
              "      <td>496.92</td>\n",
              "      <td>456.45</td>\n",
              "      <td>466.00</td>\n",
              "      <td>464.50</td>\n",
              "      <td>486.39</td>\n",
              "      <td>436.56</td>\n",
              "      <td>...</td>\n",
              "      <td>-71.69</td>\n",
              "      <td>13.31</td>\n",
              "      <td>13.31</td>\n",
              "      <td>-29.89</td>\n",
              "      <td>-20.88</td>\n",
              "      <td>5.06</td>\n",
              "      <td>-11.80</td>\n",
              "      <td>-28.91</td>\n",
              "      <td>-70.02</td>\n",
              "      <td>-96.67</td>\n",
              "    </tr>\n",
              "    <tr>\n",
              "      <th>3</th>\n",
              "      <td>2</td>\n",
              "      <td>326.52</td>\n",
              "      <td>347.39</td>\n",
              "      <td>302.35</td>\n",
              "      <td>298.13</td>\n",
              "      <td>317.74</td>\n",
              "      <td>312.70</td>\n",
              "      <td>322.33</td>\n",
              "      <td>311.31</td>\n",
              "      <td>312.42</td>\n",
              "      <td>...</td>\n",
              "      <td>5.71</td>\n",
              "      <td>-3.73</td>\n",
              "      <td>-3.73</td>\n",
              "      <td>30.05</td>\n",
              "      <td>20.03</td>\n",
              "      <td>-12.67</td>\n",
              "      <td>-8.77</td>\n",
              "      <td>-17.31</td>\n",
              "      <td>-17.35</td>\n",
              "      <td>13.98</td>\n",
              "    </tr>\n",
              "    <tr>\n",
              "      <th>4</th>\n",
              "      <td>2</td>\n",
              "      <td>-1107.21</td>\n",
              "      <td>-1112.59</td>\n",
              "      <td>-1118.95</td>\n",
              "      <td>-1095.10</td>\n",
              "      <td>-1057.55</td>\n",
              "      <td>-1034.48</td>\n",
              "      <td>-998.34</td>\n",
              "      <td>-1022.71</td>\n",
              "      <td>-989.57</td>\n",
              "      <td>...</td>\n",
              "      <td>-594.37</td>\n",
              "      <td>-401.66</td>\n",
              "      <td>-401.66</td>\n",
              "      <td>-357.24</td>\n",
              "      <td>-443.76</td>\n",
              "      <td>-438.54</td>\n",
              "      <td>-399.71</td>\n",
              "      <td>-384.65</td>\n",
              "      <td>-411.79</td>\n",
              "      <td>-510.54</td>\n",
              "    </tr>\n",
              "  </tbody>\n",
              "</table>\n",
              "<p>5 rows × 3198 columns</p>\n",
              "</div>"
            ],
            "text/plain": [
              "   LABEL   FLUX.1   FLUX.2   FLUX.3   FLUX.4   FLUX.5   FLUX.6  FLUX.7  \\\n",
              "0      2    93.85    83.81    20.10   -26.98   -39.56  -124.71 -135.18   \n",
              "1      2   -38.88   -33.83   -58.54   -40.09   -79.31   -72.81  -86.55   \n",
              "2      2   532.64   535.92   513.73   496.92   456.45   466.00  464.50   \n",
              "3      2   326.52   347.39   302.35   298.13   317.74   312.70  322.33   \n",
              "4      2 -1107.21 -1112.59 -1118.95 -1095.10 -1057.55 -1034.48 -998.34   \n",
              "\n",
              "    FLUX.8  FLUX.9  ...  FLUX.3188  FLUX.3189  FLUX.3190  FLUX.3191  \\\n",
              "0   -96.27  -79.89  ...     -78.07    -102.15    -102.15      25.13   \n",
              "1   -85.33  -83.97  ...      -3.28     -32.21     -32.21     -24.89   \n",
              "2   486.39  436.56  ...     -71.69      13.31      13.31     -29.89   \n",
              "3   311.31  312.42  ...       5.71      -3.73      -3.73      30.05   \n",
              "4 -1022.71 -989.57  ...    -594.37    -401.66    -401.66    -357.24   \n",
              "\n",
              "   FLUX.3192  FLUX.3193  FLUX.3194  FLUX.3195  FLUX.3196  FLUX.3197  \n",
              "0      48.57      92.54      39.32      61.42       5.08     -39.54  \n",
              "1      -4.86       0.76     -11.70       6.46      16.00      19.93  \n",
              "2     -20.88       5.06     -11.80     -28.91     -70.02     -96.67  \n",
              "3      20.03     -12.67      -8.77     -17.31     -17.35      13.98  \n",
              "4    -443.76    -438.54    -399.71    -384.65    -411.79    -510.54  \n",
              "\n",
              "[5 rows x 3198 columns]"
            ]
          },
          "execution_count": 32,
          "metadata": {},
          "output_type": "execute_result"
        }
      ],
      "source": [
        "df = pd.read_csv('exoplanets.csv')\n",
        "df.head()"
      ]
    },
    {
      "cell_type": "code",
      "execution_count": null,
      "metadata": {
        "id": "pkjtsGeiy3qk",
        "outputId": "372ab26b-0a64-4116-e83d-938be673b3d7"
      },
      "outputs": [
        {
          "name": "stdout",
          "output_type": "stream",
          "text": [
            "<class 'pandas.core.frame.DataFrame'>\n",
            "RangeIndex: 5087 entries, 0 to 5086\n",
            "Columns: 3198 entries, LABEL to FLUX.3197\n",
            "dtypes: float64(3197), int64(1)\n",
            "memory usage: 124.1 MB\n"
          ]
        }
      ],
      "source": [
        "df.info()"
      ]
    },
    {
      "cell_type": "code",
      "execution_count": null,
      "metadata": {
        "id": "lhA6r3JEy3qk",
        "outputId": "010db9c4-11c0-4950-aba8-57434530a877"
      },
      "outputs": [
        {
          "data": {
            "text/plain": [
              "0"
            ]
          },
          "execution_count": 34,
          "metadata": {},
          "output_type": "execute_result"
        }
      ],
      "source": [
        "df.isnull().sum().sum()"
      ]
    },
    {
      "cell_type": "code",
      "execution_count": null,
      "metadata": {
        "id": "cjet_nN8y3qk"
      },
      "outputs": [],
      "source": [
        "# 데이터를 X와 y로 나눕니다.\n",
        "X = df.iloc[:,1:]\n",
        "y = df.iloc[:,0] - 1\n",
        "\n",
        "# 훈련 세트와 테스트 세트로 나눕니다.\n",
        "X_train, X_test, y_train, y_test = train_test_split(X, y, random_state=2)"
      ]
    },
    {
      "cell_type": "markdown",
      "metadata": {
        "tags": [],
        "id": "cP8zXbv1y3qk"
      },
      "source": [
        "### 그레이디언트 부스팅 분류 모델 만들기"
      ]
    },
    {
      "cell_type": "code",
      "execution_count": 28,
      "metadata": {
        "id": "-BThq5Yay3qk"
      },
      "outputs": [],
      "source": [
        "from sklearn.ensemble import GradientBoostingClassifier\n",
        "# XGBRegressor를 임포트합니다.\n",
        "from xgboost import XGBClassifier\n",
        "\n",
        "# accuracy_score를 임포트합니다.\n",
        "from sklearn.metrics import accuracy_score"
      ]
    },
    {
      "cell_type": "markdown",
      "metadata": {
        "id": "4unoyhG6y3qk"
      },
      "source": [
        "### 시간 측정"
      ]
    },
    {
      "cell_type": "code",
      "execution_count": null,
      "metadata": {
        "id": "VgxYfK_Ay3qk",
        "outputId": "a10cc9f4-890a-46b6-ef03-3ad508013b50"
      },
      "outputs": [
        {
          "name": "stdout",
          "output_type": "stream",
          "text": [
            "<class 'pandas.core.frame.DataFrame'>\n",
            "RangeIndex: 5087 entries, 0 to 5086\n",
            "Columns: 3198 entries, LABEL to FLUX.3197\n",
            "dtypes: float64(3197), int64(1)\n",
            "memory usage: 124.1 MB\n",
            "\n",
            "실행 시간: 0.02323293685913086 초\n"
          ]
        }
      ],
      "source": [
        "import time\n",
        "start = time.time()\n",
        "\n",
        "df.info()\n",
        "\n",
        "end = time.time()\n",
        "elapsed = end - start\n",
        "\n",
        "print('\\n실행 시간: ' + str(elapsed) + ' 초')"
      ]
    },
    {
      "cell_type": "code",
      "execution_count": null,
      "metadata": {
        "id": "yU-8ZWC2y3ql",
        "outputId": "f33aa8e2-987b-4a6a-c70c-23e3afc28a14"
      },
      "outputs": [
        {
          "name": "stdout",
          "output_type": "stream",
          "text": [
            "1.55 ms ± 32 µs per loop (mean ± std. dev. of 3 runs, 100 loops each)\n"
          ]
        }
      ],
      "source": [
        "%timeit -n 100 -r 3 sum(np.square(range(10000)))"
      ]
    },
    {
      "cell_type": "code",
      "execution_count": null,
      "metadata": {
        "id": "q5AEtlTqy3ql",
        "outputId": "21b16fad-67fb-4e00-9de5-51315bf56dff"
      },
      "outputs": [
        {
          "name": "stdout",
          "output_type": "stream",
          "text": [
            "3.32 ms ± 195 µs per loop (mean ± std. dev. of 3 runs, 100 loops each)\n"
          ]
        }
      ],
      "source": [
        "%%timeit -n 100 -r 3 \n",
        "summing = 0\n",
        "for i in range(10000):\n",
        "    summing += i**2"
      ]
    },
    {
      "cell_type": "markdown",
      "metadata": {
        "id": "N9wZKCpKy3ql"
      },
      "source": [
        "### 속도 비교"
      ]
    },
    {
      "cell_type": "code",
      "execution_count": null,
      "metadata": {
        "scrolled": true,
        "id": "pxvOl631y3ql",
        "outputId": "8422bb3e-7999-4169-a492-eafb401b0fde"
      },
      "outputs": [
        {
          "name": "stdout",
          "output_type": "stream",
          "text": [
            "점수: 0.9874213836477987\n",
            "실행 시간: 279.4085681438446 초\n"
          ]
        }
      ],
      "source": [
        "start = time.time()\n",
        "\n",
        "gbr = GradientBoostingClassifier(n_estimators=100, \n",
        "                                 max_depth=2, random_state=2)\n",
        "gbr.fit(X_train, y_train)\n",
        "y_pred = gbr.predict(X_test)\n",
        "score = accuracy_score(y_pred, y_test)\n",
        "print('점수: ' + str(score))\n",
        "\n",
        "end = time.time()\n",
        "elapsed = end - start\n",
        "\n",
        "print('실행 시간: ' + str(elapsed) + ' 초')"
      ]
    },
    {
      "cell_type": "code",
      "execution_count": null,
      "metadata": {
        "id": "jVcKdkyMy3ql",
        "outputId": "fc1d4d5d-a7cd-4ad4-90ca-a4e8369246d2"
      },
      "outputs": [
        {
          "name": "stdout",
          "output_type": "stream",
          "text": [
            "점수: 0.9913522012578616\n",
            "실행 시간: 52.75507712364197 초\n"
          ]
        }
      ],
      "source": [
        "start = time.time()\n",
        "\n",
        "# XGBRegressor를 초기화합니다.\n",
        "xg_reg = XGBClassifier(n_estimators=100, max_depth=2)\n",
        "\n",
        "# 훈련 세트에서 xg_reg를 훈련합니다.\n",
        "xg_reg.fit(X_train, y_train)\n",
        "\n",
        "# 테스트 세트에 대한 예측을 만듭니다.\n",
        "y_pred = xg_reg.predict(X_test)\n",
        "\n",
        "score = accuracy_score(y_pred, y_test)\n",
        "\n",
        "print('점수: ' + str(score))\n",
        "\n",
        "end = time.time()\n",
        "elapsed = end - start\n",
        "\n",
        "print('실행 시간: ' + str(elapsed) + ' 초')"
      ]
    }
  ],
  "metadata": {
    "kernelspec": {
      "display_name": "default:Python",
      "language": "python",
      "name": "conda-env-default-py"
    },
    "language_info": {
      "codemirror_mode": {
        "name": "ipython",
        "version": 3
      },
      "file_extension": ".py",
      "mimetype": "text/x-python",
      "name": "python",
      "nbconvert_exporter": "python",
      "pygments_lexer": "ipython3",
      "version": "3.9.12"
    },
    "colab": {
      "provenance": [],
      "collapsed_sections": []
    }
  },
  "nbformat": 4,
  "nbformat_minor": 0
}