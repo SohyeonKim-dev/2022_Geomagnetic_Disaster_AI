{
  "cells": [
    {
      "cell_type": "markdown",
      "metadata": {
        "id": "9UzuU46e_aIF"
      },
      "source": [
        "# 5장. XGBoost 소개"
      ]
    },
    {
      "cell_type": "markdown",
      "metadata": {
        "id": "FD5JgTEy_aIG"
      },
      "source": [
        "*아래 링크를 통해 이 노트북을 주피터 노트북 뷰어(nbviewer.org)로 보거나 구글 코랩(colab.research.google.com)에서 실행할 수 있습니다.*\n",
        "\n",
        "<table class=\"tfo-notebook-buttons\" align=\"left\">\n",
        "  <td>\n",
        "    <a target=\"_blank\" href=\"https://nbviewer.org/github/rickiepark/handson-gb/blob/main/Chapter05/Advanced_XGBoost_Unveiled.ipynb\"><img src=\"https://jupyter.org/assets/share.png\" width=\"60\" />주피터 노트북 뷰어로 보기</a>\n",
        "  </td>\n",
        "  <td>\n",
        "    <a target=\"_blank\" href=\"https://colab.research.google.com/github/rickiepark/handson-gb/blob/main/Chapter05/Advanced_XGBoost_Unveiled.ipynb\"><img src=\"https://www.tensorflow.org/images/colab_logo_32px.png\" />구글 코랩(Colab)에서 실행하기</a>\n",
        "  </td>\n",
        "</table>"
      ]
    },
    {
      "cell_type": "code",
      "execution_count": null,
      "metadata": {
        "colab": {
          "base_uri": "https://localhost:8080/"
        },
        "id": "jppkR_z2_aIH",
        "outputId": "c51e060b-7907-4912-dad2-11c5f0e6e508"
      },
      "outputs": [
        {
          "output_type": "stream",
          "name": "stdout",
          "text": [
            "\u001b[K     |████████████████████████████████| 255.9 MB 35 kB/s \n",
            "\u001b[?25h"
          ]
        }
      ],
      "source": [
        "# 노트북이 코랩에서 실행 중인지 체크합니다.\n",
        "import sys\n",
        "if 'google.colab' in sys.modules:\n",
        "    !pip install -q --upgrade xgboost\n",
        "    !wget -q https://raw.githubusercontent.com/rickiepark/handson-gb/main/Chapter05/atlas-higgs-challenge-2014-v2.csv.gz"
      ]
    },
    {
      "cell_type": "code",
      "execution_count": 13,
      "metadata": {
        "id": "moc07guV_aII"
      },
      "outputs": [],
      "source": [
        "# 경고 끄기\n",
        "import warnings\n",
        "warnings.filterwarnings('ignore')\n",
        "\n",
        "import xgboost as xgb\n",
        "xgb.set_config(verbosity=0)"
      ]
    },
    {
      "cell_type": "markdown",
      "metadata": {
        "id": "btkR-GTt_aII"
      },
      "source": [
        "## XGBoost 모델 만들기\n",
        "\n",
        "### 붓꽃 데이터셋"
      ]
    },
    {
      "cell_type": "code",
      "execution_count": 14,
      "metadata": {
        "id": "XAENbZk3_aII"
      },
      "outputs": [],
      "source": [
        "import pandas as pd\n",
        "import numpy as np\n",
        "from sklearn import datasets\n",
        "iris = datasets.load_iris()"
      ]
    },
    {
      "cell_type": "code",
      "execution_count": 15,
      "metadata": {
        "id": "s3Xubnfk_aII"
      },
      "outputs": [],
      "source": [
        "df = pd.DataFrame(data=np.c_[iris['data'], iris['target']],\n",
        "                  columns=iris['feature_names'] + ['target'])\n",
        "\n",
        "# np.c_ --> concatenate (합친다는) 의미"
      ]
    },
    {
      "cell_type": "markdown",
      "source": [],
      "metadata": {
        "id": "-imAZJDEhxeq"
      }
    },
    {
      "cell_type": "code",
      "execution_count": 16,
      "metadata": {
        "scrolled": true,
        "colab": {
          "base_uri": "https://localhost:8080/",
          "height": 221
        },
        "id": "5381_I6g_aII",
        "outputId": "b142c180-7d19-41d3-a8bf-68ed3d6d68d7"
      },
      "outputs": [
        {
          "output_type": "execute_result",
          "data": {
            "text/plain": [
              "   sepal length (cm)  sepal width (cm)  petal length (cm)  petal width (cm)  \\\n",
              "0                5.1               3.5                1.4               0.2   \n",
              "1                4.9               3.0                1.4               0.2   \n",
              "2                4.7               3.2                1.3               0.2   \n",
              "3                4.6               3.1                1.5               0.2   \n",
              "4                5.0               3.6                1.4               0.2   \n",
              "\n",
              "   target  \n",
              "0     0.0  \n",
              "1     0.0  \n",
              "2     0.0  \n",
              "3     0.0  \n",
              "4     0.0  "
            ],
            "text/html": [
              "\n",
              "  <div id=\"df-45ad9d06-b078-4b67-8d3a-b50d4320a2e6\">\n",
              "    <div class=\"colab-df-container\">\n",
              "      <div>\n",
              "<style scoped>\n",
              "    .dataframe tbody tr th:only-of-type {\n",
              "        vertical-align: middle;\n",
              "    }\n",
              "\n",
              "    .dataframe tbody tr th {\n",
              "        vertical-align: top;\n",
              "    }\n",
              "\n",
              "    .dataframe thead th {\n",
              "        text-align: right;\n",
              "    }\n",
              "</style>\n",
              "<table border=\"1\" class=\"dataframe\">\n",
              "  <thead>\n",
              "    <tr style=\"text-align: right;\">\n",
              "      <th></th>\n",
              "      <th>sepal length (cm)</th>\n",
              "      <th>sepal width (cm)</th>\n",
              "      <th>petal length (cm)</th>\n",
              "      <th>petal width (cm)</th>\n",
              "      <th>target</th>\n",
              "    </tr>\n",
              "  </thead>\n",
              "  <tbody>\n",
              "    <tr>\n",
              "      <th>0</th>\n",
              "      <td>5.1</td>\n",
              "      <td>3.5</td>\n",
              "      <td>1.4</td>\n",
              "      <td>0.2</td>\n",
              "      <td>0.0</td>\n",
              "    </tr>\n",
              "    <tr>\n",
              "      <th>1</th>\n",
              "      <td>4.9</td>\n",
              "      <td>3.0</td>\n",
              "      <td>1.4</td>\n",
              "      <td>0.2</td>\n",
              "      <td>0.0</td>\n",
              "    </tr>\n",
              "    <tr>\n",
              "      <th>2</th>\n",
              "      <td>4.7</td>\n",
              "      <td>3.2</td>\n",
              "      <td>1.3</td>\n",
              "      <td>0.2</td>\n",
              "      <td>0.0</td>\n",
              "    </tr>\n",
              "    <tr>\n",
              "      <th>3</th>\n",
              "      <td>4.6</td>\n",
              "      <td>3.1</td>\n",
              "      <td>1.5</td>\n",
              "      <td>0.2</td>\n",
              "      <td>0.0</td>\n",
              "    </tr>\n",
              "    <tr>\n",
              "      <th>4</th>\n",
              "      <td>5.0</td>\n",
              "      <td>3.6</td>\n",
              "      <td>1.4</td>\n",
              "      <td>0.2</td>\n",
              "      <td>0.0</td>\n",
              "    </tr>\n",
              "  </tbody>\n",
              "</table>\n",
              "</div>\n",
              "      <button class=\"colab-df-convert\" onclick=\"convertToInteractive('df-45ad9d06-b078-4b67-8d3a-b50d4320a2e6')\"\n",
              "              title=\"Convert this dataframe to an interactive table.\"\n",
              "              style=\"display:none;\">\n",
              "        \n",
              "  <svg xmlns=\"http://www.w3.org/2000/svg\" height=\"24px\"viewBox=\"0 0 24 24\"\n",
              "       width=\"24px\">\n",
              "    <path d=\"M0 0h24v24H0V0z\" fill=\"none\"/>\n",
              "    <path d=\"M18.56 5.44l.94 2.06.94-2.06 2.06-.94-2.06-.94-.94-2.06-.94 2.06-2.06.94zm-11 1L8.5 8.5l.94-2.06 2.06-.94-2.06-.94L8.5 2.5l-.94 2.06-2.06.94zm10 10l.94 2.06.94-2.06 2.06-.94-2.06-.94-.94-2.06-.94 2.06-2.06.94z\"/><path d=\"M17.41 7.96l-1.37-1.37c-.4-.4-.92-.59-1.43-.59-.52 0-1.04.2-1.43.59L10.3 9.45l-7.72 7.72c-.78.78-.78 2.05 0 2.83L4 21.41c.39.39.9.59 1.41.59.51 0 1.02-.2 1.41-.59l7.78-7.78 2.81-2.81c.8-.78.8-2.07 0-2.86zM5.41 20L4 18.59l7.72-7.72 1.47 1.35L5.41 20z\"/>\n",
              "  </svg>\n",
              "      </button>\n",
              "      \n",
              "  <style>\n",
              "    .colab-df-container {\n",
              "      display:flex;\n",
              "      flex-wrap:wrap;\n",
              "      gap: 12px;\n",
              "    }\n",
              "\n",
              "    .colab-df-convert {\n",
              "      background-color: #E8F0FE;\n",
              "      border: none;\n",
              "      border-radius: 50%;\n",
              "      cursor: pointer;\n",
              "      display: none;\n",
              "      fill: #1967D2;\n",
              "      height: 32px;\n",
              "      padding: 0 0 0 0;\n",
              "      width: 32px;\n",
              "    }\n",
              "\n",
              "    .colab-df-convert:hover {\n",
              "      background-color: #E2EBFA;\n",
              "      box-shadow: 0px 1px 2px rgba(60, 64, 67, 0.3), 0px 1px 3px 1px rgba(60, 64, 67, 0.15);\n",
              "      fill: #174EA6;\n",
              "    }\n",
              "\n",
              "    [theme=dark] .colab-df-convert {\n",
              "      background-color: #3B4455;\n",
              "      fill: #D2E3FC;\n",
              "    }\n",
              "\n",
              "    [theme=dark] .colab-df-convert:hover {\n",
              "      background-color: #434B5C;\n",
              "      box-shadow: 0px 1px 3px 1px rgba(0, 0, 0, 0.15);\n",
              "      filter: drop-shadow(0px 1px 2px rgba(0, 0, 0, 0.3));\n",
              "      fill: #FFFFFF;\n",
              "    }\n",
              "  </style>\n",
              "\n",
              "      <script>\n",
              "        const buttonEl =\n",
              "          document.querySelector('#df-45ad9d06-b078-4b67-8d3a-b50d4320a2e6 button.colab-df-convert');\n",
              "        buttonEl.style.display =\n",
              "          google.colab.kernel.accessAllowed ? 'block' : 'none';\n",
              "\n",
              "        async function convertToInteractive(key) {\n",
              "          const element = document.querySelector('#df-45ad9d06-b078-4b67-8d3a-b50d4320a2e6');\n",
              "          const dataTable =\n",
              "            await google.colab.kernel.invokeFunction('convertToInteractive',\n",
              "                                                     [key], {});\n",
              "          if (!dataTable) return;\n",
              "\n",
              "          const docLinkHtml = 'Like what you see? Visit the ' +\n",
              "            '<a target=\"_blank\" href=https://colab.research.google.com/notebooks/data_table.ipynb>data table notebook</a>'\n",
              "            + ' to learn more about interactive tables.';\n",
              "          element.innerHTML = '';\n",
              "          dataTable['output_type'] = 'display_data';\n",
              "          await google.colab.output.renderOutput(dataTable, element);\n",
              "          const docLink = document.createElement('div');\n",
              "          docLink.innerHTML = docLinkHtml;\n",
              "          element.appendChild(docLink);\n",
              "        }\n",
              "      </script>\n",
              "    </div>\n",
              "  </div>\n",
              "  "
            ]
          },
          "metadata": {},
          "execution_count": 16
        }
      ],
      "source": [
        "df.head()\n",
        "\n",
        "# target 추가된 것 확인할 수 있다."
      ]
    },
    {
      "cell_type": "code",
      "execution_count": 17,
      "metadata": {
        "id": "mQaZI7Aa_aIJ"
      },
      "outputs": [],
      "source": [
        "from sklearn.model_selection import train_test_split"
      ]
    },
    {
      "cell_type": "code",
      "execution_count": 18,
      "metadata": {
        "id": "S1eVx-hZ_aIJ"
      },
      "outputs": [],
      "source": [
        "# 데이터를 훈련 세트와 테스트 세트로 나눕니다.\n",
        "X_train, X_test, y_train, y_test = train_test_split(iris['data'], \n",
        "                                                    iris['target'], random_state=2)"
      ]
    },
    {
      "cell_type": "markdown",
      "metadata": {
        "id": "8RbsF7dk_aIK"
      },
      "source": [
        "#### XGBoost 분류 모델"
      ]
    },
    {
      "cell_type": "code",
      "execution_count": 19,
      "metadata": {
        "id": "D8NNKgKR_aIK"
      },
      "outputs": [],
      "source": [
        "from xgboost import XGBClassifier\n",
        "from sklearn.metrics import accuracy_score"
      ]
    },
    {
      "cell_type": "code",
      "execution_count": 20,
      "metadata": {
        "scrolled": true,
        "colab": {
          "base_uri": "https://localhost:8080/"
        },
        "id": "VSNRSbN3_aIK",
        "outputId": "582ad59e-7507-468c-f561-36e4fb2391bb"
      },
      "outputs": [
        {
          "output_type": "stream",
          "name": "stdout",
          "text": [
            "점수: 0.9736842105263158\n"
          ]
        }
      ],
      "source": [
        "xgb = XGBClassifier(booster='gbtree', objective='multi:softprob', \n",
        "                    max_depth=6, learning_rate=0.1, n_estimators=100, \n",
        "                    n_jobs=-1)\n",
        "xgb.fit(X_train, y_train)\n",
        "y_pred = xgb.predict(X_test)\n",
        "score = accuracy_score(y_pred, y_test)\n",
        "print('점수: ' + str(score))"
      ]
    },
    {
      "cell_type": "markdown",
      "metadata": {
        "id": "YdtJrIu3_aIK"
      },
      "source": [
        "`accuracy_score()` 함수 대신 `score()` 메서드를 사용할 수 있습니다."
      ]
    },
    {
      "cell_type": "code",
      "execution_count": 21,
      "metadata": {
        "scrolled": true,
        "colab": {
          "base_uri": "https://localhost:8080/"
        },
        "id": "_Kx_stil_aIK",
        "outputId": "3bc8cec3-e0f7-4de1-f1cf-369abdad7b8c"
      },
      "outputs": [
        {
          "output_type": "execute_result",
          "data": {
            "text/plain": [
              "0.9736842105263158"
            ]
          },
          "metadata": {},
          "execution_count": 21
        }
      ],
      "source": [
        "xgb.score(X_test, y_test)\n",
        "\n",
        "# 둘 다 똑같은 값 출력됨 \n",
        "# 우리는 mse 활용할고 있었음"
      ]
    },
    {
      "cell_type": "markdown",
      "metadata": {
        "id": "OQO5TkZE_aIK"
      },
      "source": [
        "XGBoost의 기본 파이썬 API를 사용하는 경우 부스터(Booster) 객체의 `predict()` 메서드는 `multi:softprob`일 때 확률을 반환하고 `multi:softmax`일 때 클래스 레이블을 반환합니다."
      ]
    },
    {
      "cell_type": "code",
      "execution_count": null,
      "metadata": {
        "colab": {
          "base_uri": "https://localhost:8080/"
        },
        "id": "RT_7oRtM_aIL",
        "outputId": "9a38e11c-bbc0-4bb4-866e-ea1446a79dc3"
      },
      "outputs": [
        {
          "output_type": "execute_result",
          "data": {
            "text/plain": [
              "array([[0.9486482 , 0.02711029, 0.02424142],\n",
              "       [0.9486482 , 0.02711029, 0.02424142],\n",
              "       [0.02841366, 0.05416913, 0.9174172 ],\n",
              "       [0.9486482 , 0.02711029, 0.02424142],\n",
              "       [0.9486482 , 0.02711029, 0.02424142]], dtype=float32)"
            ]
          },
          "metadata": {},
          "execution_count": 11
        }
      ],
      "source": [
        "import xgboost as xgb\n",
        "\n",
        "dtrain = xgb.DMatrix(X_train, y_train)\n",
        "dtest = xgb.DMatrix(X_test[:5])\n",
        "\n",
        "param = {'objective': 'multi:softprob', 'num_class': 3}\n",
        "bstr = xgb.train(param, dtrain, 10)\n",
        "bstr.predict(dtest)"
      ]
    },
    {
      "cell_type": "code",
      "execution_count": null,
      "metadata": {
        "colab": {
          "base_uri": "https://localhost:8080/"
        },
        "id": "HeTceuKf_aIL",
        "outputId": "d5e5d565-61f2-43c2-f69b-46736120516f"
      },
      "outputs": [
        {
          "output_type": "execute_result",
          "data": {
            "text/plain": [
              "array([0., 0., 2., 0., 0.], dtype=float32)"
            ]
          },
          "metadata": {},
          "execution_count": 12
        }
      ],
      "source": [
        "param = {'objective': 'multi:softmax', 'num_class': 3}\n",
        "bstr = xgb.train(param, dtrain, 10)\n",
        "bstr.predict(dtest)"
      ]
    },
    {
      "cell_type": "markdown",
      "metadata": {
        "id": "GLdjbgwF_aIL"
      },
      "source": [
        "### 당뇨병 데이터셋"
      ]
    },
    {
      "cell_type": "code",
      "execution_count": 22,
      "metadata": {
        "id": "jbY3ItRe_aIL"
      },
      "outputs": [],
      "source": [
        "X, y = datasets.load_diabetes(return_X_y=True)"
      ]
    },
    {
      "cell_type": "markdown",
      "metadata": {
        "id": "QiK_ov4i_aIL"
      },
      "source": [
        "#### XGBoost 회귀 모델 (교차 검증)"
      ]
    },
    {
      "cell_type": "code",
      "execution_count": 23,
      "metadata": {
        "id": "_C0EAeX-_aIL",
        "outputId": "59ba7613-12a4-4f7a-91c2-c5ff0b72666a",
        "colab": {
          "base_uri": "https://localhost:8080/"
        }
      },
      "outputs": [
        {
          "output_type": "stream",
          "name": "stdout",
          "text": [
            "RMSE: [63.033 59.689 64.538 63.699 64.661]\n",
            "RMSE 평균: 63.124\n"
          ]
        }
      ],
      "source": [
        "from sklearn.model_selection import cross_val_score\n",
        "from xgboost import XGBRegressor\n",
        "\n",
        "xgb = XGBRegressor(booster='gbtree', objective='reg:squarederror', \n",
        "                   max_depth=6, learning_rate=0.1, n_estimators=100, \n",
        "                   n_jobs=-1)\n",
        "\n",
        "scores = cross_val_score(xgb, X, y, \n",
        "                         scoring='neg_mean_squared_error', cv=5)\n",
        "\n",
        "# 평가 점수의 제곱근을 계산한합니다.\n",
        "rmse = np.sqrt(-scores)\n",
        "\n",
        "# RMSE를 출력합니다.\n",
        "print('RMSE:', np.round(rmse, 3))\n",
        "\n",
        "# 평균 점수를 출력합니다.\n",
        "print('RMSE 평균: %0.3f' % (rmse.mean()))"
      ]
    },
    {
      "cell_type": "code",
      "execution_count": 24,
      "metadata": {
        "id": "E8s644_F_aIL",
        "outputId": "1b3a352b-edf6-4e4c-e6c7-6992dbada0c6",
        "colab": {
          "base_uri": "https://localhost:8080/",
          "height": 313
        }
      },
      "outputs": [
        {
          "output_type": "execute_result",
          "data": {
            "text/plain": [
              "                0\n",
              "count  442.000000\n",
              "mean   152.133484\n",
              "std     77.093005\n",
              "min     25.000000\n",
              "25%     87.000000\n",
              "50%    140.500000\n",
              "75%    211.500000\n",
              "max    346.000000"
            ],
            "text/html": [
              "\n",
              "  <div id=\"df-7d3a878b-f8f3-4d3f-82ac-1f6d55dedfce\">\n",
              "    <div class=\"colab-df-container\">\n",
              "      <div>\n",
              "<style scoped>\n",
              "    .dataframe tbody tr th:only-of-type {\n",
              "        vertical-align: middle;\n",
              "    }\n",
              "\n",
              "    .dataframe tbody tr th {\n",
              "        vertical-align: top;\n",
              "    }\n",
              "\n",
              "    .dataframe thead th {\n",
              "        text-align: right;\n",
              "    }\n",
              "</style>\n",
              "<table border=\"1\" class=\"dataframe\">\n",
              "  <thead>\n",
              "    <tr style=\"text-align: right;\">\n",
              "      <th></th>\n",
              "      <th>0</th>\n",
              "    </tr>\n",
              "  </thead>\n",
              "  <tbody>\n",
              "    <tr>\n",
              "      <th>count</th>\n",
              "      <td>442.000000</td>\n",
              "    </tr>\n",
              "    <tr>\n",
              "      <th>mean</th>\n",
              "      <td>152.133484</td>\n",
              "    </tr>\n",
              "    <tr>\n",
              "      <th>std</th>\n",
              "      <td>77.093005</td>\n",
              "    </tr>\n",
              "    <tr>\n",
              "      <th>min</th>\n",
              "      <td>25.000000</td>\n",
              "    </tr>\n",
              "    <tr>\n",
              "      <th>25%</th>\n",
              "      <td>87.000000</td>\n",
              "    </tr>\n",
              "    <tr>\n",
              "      <th>50%</th>\n",
              "      <td>140.500000</td>\n",
              "    </tr>\n",
              "    <tr>\n",
              "      <th>75%</th>\n",
              "      <td>211.500000</td>\n",
              "    </tr>\n",
              "    <tr>\n",
              "      <th>max</th>\n",
              "      <td>346.000000</td>\n",
              "    </tr>\n",
              "  </tbody>\n",
              "</table>\n",
              "</div>\n",
              "      <button class=\"colab-df-convert\" onclick=\"convertToInteractive('df-7d3a878b-f8f3-4d3f-82ac-1f6d55dedfce')\"\n",
              "              title=\"Convert this dataframe to an interactive table.\"\n",
              "              style=\"display:none;\">\n",
              "        \n",
              "  <svg xmlns=\"http://www.w3.org/2000/svg\" height=\"24px\"viewBox=\"0 0 24 24\"\n",
              "       width=\"24px\">\n",
              "    <path d=\"M0 0h24v24H0V0z\" fill=\"none\"/>\n",
              "    <path d=\"M18.56 5.44l.94 2.06.94-2.06 2.06-.94-2.06-.94-.94-2.06-.94 2.06-2.06.94zm-11 1L8.5 8.5l.94-2.06 2.06-.94-2.06-.94L8.5 2.5l-.94 2.06-2.06.94zm10 10l.94 2.06.94-2.06 2.06-.94-2.06-.94-.94-2.06-.94 2.06-2.06.94z\"/><path d=\"M17.41 7.96l-1.37-1.37c-.4-.4-.92-.59-1.43-.59-.52 0-1.04.2-1.43.59L10.3 9.45l-7.72 7.72c-.78.78-.78 2.05 0 2.83L4 21.41c.39.39.9.59 1.41.59.51 0 1.02-.2 1.41-.59l7.78-7.78 2.81-2.81c.8-.78.8-2.07 0-2.86zM5.41 20L4 18.59l7.72-7.72 1.47 1.35L5.41 20z\"/>\n",
              "  </svg>\n",
              "      </button>\n",
              "      \n",
              "  <style>\n",
              "    .colab-df-container {\n",
              "      display:flex;\n",
              "      flex-wrap:wrap;\n",
              "      gap: 12px;\n",
              "    }\n",
              "\n",
              "    .colab-df-convert {\n",
              "      background-color: #E8F0FE;\n",
              "      border: none;\n",
              "      border-radius: 50%;\n",
              "      cursor: pointer;\n",
              "      display: none;\n",
              "      fill: #1967D2;\n",
              "      height: 32px;\n",
              "      padding: 0 0 0 0;\n",
              "      width: 32px;\n",
              "    }\n",
              "\n",
              "    .colab-df-convert:hover {\n",
              "      background-color: #E2EBFA;\n",
              "      box-shadow: 0px 1px 2px rgba(60, 64, 67, 0.3), 0px 1px 3px 1px rgba(60, 64, 67, 0.15);\n",
              "      fill: #174EA6;\n",
              "    }\n",
              "\n",
              "    [theme=dark] .colab-df-convert {\n",
              "      background-color: #3B4455;\n",
              "      fill: #D2E3FC;\n",
              "    }\n",
              "\n",
              "    [theme=dark] .colab-df-convert:hover {\n",
              "      background-color: #434B5C;\n",
              "      box-shadow: 0px 1px 3px 1px rgba(0, 0, 0, 0.15);\n",
              "      filter: drop-shadow(0px 1px 2px rgba(0, 0, 0, 0.3));\n",
              "      fill: #FFFFFF;\n",
              "    }\n",
              "  </style>\n",
              "\n",
              "      <script>\n",
              "        const buttonEl =\n",
              "          document.querySelector('#df-7d3a878b-f8f3-4d3f-82ac-1f6d55dedfce button.colab-df-convert');\n",
              "        buttonEl.style.display =\n",
              "          google.colab.kernel.accessAllowed ? 'block' : 'none';\n",
              "\n",
              "        async function convertToInteractive(key) {\n",
              "          const element = document.querySelector('#df-7d3a878b-f8f3-4d3f-82ac-1f6d55dedfce');\n",
              "          const dataTable =\n",
              "            await google.colab.kernel.invokeFunction('convertToInteractive',\n",
              "                                                     [key], {});\n",
              "          if (!dataTable) return;\n",
              "\n",
              "          const docLinkHtml = 'Like what you see? Visit the ' +\n",
              "            '<a target=\"_blank\" href=https://colab.research.google.com/notebooks/data_table.ipynb>data table notebook</a>'\n",
              "            + ' to learn more about interactive tables.';\n",
              "          element.innerHTML = '';\n",
              "          dataTable['output_type'] = 'display_data';\n",
              "          await google.colab.output.renderOutput(dataTable, element);\n",
              "          const docLink = document.createElement('div');\n",
              "          docLink.innerHTML = docLinkHtml;\n",
              "          element.appendChild(docLink);\n",
              "        }\n",
              "      </script>\n",
              "    </div>\n",
              "  </div>\n",
              "  "
            ]
          },
          "metadata": {},
          "execution_count": 24
        }
      ],
      "source": [
        "pd.DataFrame(y).describe()"
      ]
    },
    {
      "cell_type": "markdown",
      "metadata": {
        "id": "f2XzcIBI_aIL"
      },
      "source": [
        "## 힉스 보손 찾기 - 사례연구"
      ]
    },
    {
      "cell_type": "markdown",
      "metadata": {
        "id": "xVY1gFpI_aIM"
      },
      "source": [
        "### 데이터"
      ]
    },
    {
      "cell_type": "code",
      "execution_count": 25,
      "metadata": {
        "scrolled": true,
        "id": "zhiWf7S0_aIM",
        "outputId": "2acd27a8-0e13-423a-fad1-997a9d93315a",
        "colab": {
          "base_uri": "https://localhost:8080/",
          "height": 293
        }
      },
      "outputs": [
        {
          "output_type": "execute_result",
          "data": {
            "text/plain": [
              "   EventId  DER_mass_MMC  DER_mass_transverse_met_lep  DER_mass_vis  DER_pt_h  \\\n",
              "0   100000       138.470                       51.655        97.827    27.980   \n",
              "1   100001       160.937                       68.768       103.235    48.146   \n",
              "2   100002      -999.000                      162.172       125.953    35.635   \n",
              "3   100003       143.905                       81.417        80.943     0.414   \n",
              "4   100004       175.864                       16.915       134.805    16.405   \n",
              "\n",
              "   DER_deltaeta_jet_jet  DER_mass_jet_jet  DER_prodeta_jet_jet  \\\n",
              "0                  0.91           124.711                2.666   \n",
              "1               -999.00          -999.000             -999.000   \n",
              "2               -999.00          -999.000             -999.000   \n",
              "3               -999.00          -999.000             -999.000   \n",
              "4               -999.00          -999.000             -999.000   \n",
              "\n",
              "   DER_deltar_tau_lep  DER_pt_tot  ...  PRI_jet_leading_eta  \\\n",
              "0               3.064      41.928  ...                2.150   \n",
              "1               3.473       2.078  ...                0.725   \n",
              "2               3.148       9.336  ...                2.053   \n",
              "3               3.310       0.414  ...             -999.000   \n",
              "4               3.891      16.405  ...             -999.000   \n",
              "\n",
              "   PRI_jet_leading_phi  PRI_jet_subleading_pt  PRI_jet_subleading_eta  \\\n",
              "0                0.444                 46.062                    1.24   \n",
              "1                1.158               -999.000                 -999.00   \n",
              "2               -2.028               -999.000                 -999.00   \n",
              "3             -999.000               -999.000                 -999.00   \n",
              "4             -999.000               -999.000                 -999.00   \n",
              "\n",
              "   PRI_jet_subleading_phi  PRI_jet_all_pt    Weight  Label  KaggleSet  \\\n",
              "0                  -2.475         113.497  0.000814      s          t   \n",
              "1                -999.000          46.226  0.681042      b          t   \n",
              "2                -999.000          44.251  0.715742      b          t   \n",
              "3                -999.000          -0.000  1.660654      b          t   \n",
              "4                -999.000           0.000  1.904263      b          t   \n",
              "\n",
              "   KaggleWeight  \n",
              "0      0.002653  \n",
              "1      2.233584  \n",
              "2      2.347389  \n",
              "3      5.446378  \n",
              "4      6.245333  \n",
              "\n",
              "[5 rows x 35 columns]"
            ],
            "text/html": [
              "\n",
              "  <div id=\"df-7b69d89e-3881-42e2-a753-3e5242f0faea\">\n",
              "    <div class=\"colab-df-container\">\n",
              "      <div>\n",
              "<style scoped>\n",
              "    .dataframe tbody tr th:only-of-type {\n",
              "        vertical-align: middle;\n",
              "    }\n",
              "\n",
              "    .dataframe tbody tr th {\n",
              "        vertical-align: top;\n",
              "    }\n",
              "\n",
              "    .dataframe thead th {\n",
              "        text-align: right;\n",
              "    }\n",
              "</style>\n",
              "<table border=\"1\" class=\"dataframe\">\n",
              "  <thead>\n",
              "    <tr style=\"text-align: right;\">\n",
              "      <th></th>\n",
              "      <th>EventId</th>\n",
              "      <th>DER_mass_MMC</th>\n",
              "      <th>DER_mass_transverse_met_lep</th>\n",
              "      <th>DER_mass_vis</th>\n",
              "      <th>DER_pt_h</th>\n",
              "      <th>DER_deltaeta_jet_jet</th>\n",
              "      <th>DER_mass_jet_jet</th>\n",
              "      <th>DER_prodeta_jet_jet</th>\n",
              "      <th>DER_deltar_tau_lep</th>\n",
              "      <th>DER_pt_tot</th>\n",
              "      <th>...</th>\n",
              "      <th>PRI_jet_leading_eta</th>\n",
              "      <th>PRI_jet_leading_phi</th>\n",
              "      <th>PRI_jet_subleading_pt</th>\n",
              "      <th>PRI_jet_subleading_eta</th>\n",
              "      <th>PRI_jet_subleading_phi</th>\n",
              "      <th>PRI_jet_all_pt</th>\n",
              "      <th>Weight</th>\n",
              "      <th>Label</th>\n",
              "      <th>KaggleSet</th>\n",
              "      <th>KaggleWeight</th>\n",
              "    </tr>\n",
              "  </thead>\n",
              "  <tbody>\n",
              "    <tr>\n",
              "      <th>0</th>\n",
              "      <td>100000</td>\n",
              "      <td>138.470</td>\n",
              "      <td>51.655</td>\n",
              "      <td>97.827</td>\n",
              "      <td>27.980</td>\n",
              "      <td>0.91</td>\n",
              "      <td>124.711</td>\n",
              "      <td>2.666</td>\n",
              "      <td>3.064</td>\n",
              "      <td>41.928</td>\n",
              "      <td>...</td>\n",
              "      <td>2.150</td>\n",
              "      <td>0.444</td>\n",
              "      <td>46.062</td>\n",
              "      <td>1.24</td>\n",
              "      <td>-2.475</td>\n",
              "      <td>113.497</td>\n",
              "      <td>0.000814</td>\n",
              "      <td>s</td>\n",
              "      <td>t</td>\n",
              "      <td>0.002653</td>\n",
              "    </tr>\n",
              "    <tr>\n",
              "      <th>1</th>\n",
              "      <td>100001</td>\n",
              "      <td>160.937</td>\n",
              "      <td>68.768</td>\n",
              "      <td>103.235</td>\n",
              "      <td>48.146</td>\n",
              "      <td>-999.00</td>\n",
              "      <td>-999.000</td>\n",
              "      <td>-999.000</td>\n",
              "      <td>3.473</td>\n",
              "      <td>2.078</td>\n",
              "      <td>...</td>\n",
              "      <td>0.725</td>\n",
              "      <td>1.158</td>\n",
              "      <td>-999.000</td>\n",
              "      <td>-999.00</td>\n",
              "      <td>-999.000</td>\n",
              "      <td>46.226</td>\n",
              "      <td>0.681042</td>\n",
              "      <td>b</td>\n",
              "      <td>t</td>\n",
              "      <td>2.233584</td>\n",
              "    </tr>\n",
              "    <tr>\n",
              "      <th>2</th>\n",
              "      <td>100002</td>\n",
              "      <td>-999.000</td>\n",
              "      <td>162.172</td>\n",
              "      <td>125.953</td>\n",
              "      <td>35.635</td>\n",
              "      <td>-999.00</td>\n",
              "      <td>-999.000</td>\n",
              "      <td>-999.000</td>\n",
              "      <td>3.148</td>\n",
              "      <td>9.336</td>\n",
              "      <td>...</td>\n",
              "      <td>2.053</td>\n",
              "      <td>-2.028</td>\n",
              "      <td>-999.000</td>\n",
              "      <td>-999.00</td>\n",
              "      <td>-999.000</td>\n",
              "      <td>44.251</td>\n",
              "      <td>0.715742</td>\n",
              "      <td>b</td>\n",
              "      <td>t</td>\n",
              "      <td>2.347389</td>\n",
              "    </tr>\n",
              "    <tr>\n",
              "      <th>3</th>\n",
              "      <td>100003</td>\n",
              "      <td>143.905</td>\n",
              "      <td>81.417</td>\n",
              "      <td>80.943</td>\n",
              "      <td>0.414</td>\n",
              "      <td>-999.00</td>\n",
              "      <td>-999.000</td>\n",
              "      <td>-999.000</td>\n",
              "      <td>3.310</td>\n",
              "      <td>0.414</td>\n",
              "      <td>...</td>\n",
              "      <td>-999.000</td>\n",
              "      <td>-999.000</td>\n",
              "      <td>-999.000</td>\n",
              "      <td>-999.00</td>\n",
              "      <td>-999.000</td>\n",
              "      <td>-0.000</td>\n",
              "      <td>1.660654</td>\n",
              "      <td>b</td>\n",
              "      <td>t</td>\n",
              "      <td>5.446378</td>\n",
              "    </tr>\n",
              "    <tr>\n",
              "      <th>4</th>\n",
              "      <td>100004</td>\n",
              "      <td>175.864</td>\n",
              "      <td>16.915</td>\n",
              "      <td>134.805</td>\n",
              "      <td>16.405</td>\n",
              "      <td>-999.00</td>\n",
              "      <td>-999.000</td>\n",
              "      <td>-999.000</td>\n",
              "      <td>3.891</td>\n",
              "      <td>16.405</td>\n",
              "      <td>...</td>\n",
              "      <td>-999.000</td>\n",
              "      <td>-999.000</td>\n",
              "      <td>-999.000</td>\n",
              "      <td>-999.00</td>\n",
              "      <td>-999.000</td>\n",
              "      <td>0.000</td>\n",
              "      <td>1.904263</td>\n",
              "      <td>b</td>\n",
              "      <td>t</td>\n",
              "      <td>6.245333</td>\n",
              "    </tr>\n",
              "  </tbody>\n",
              "</table>\n",
              "<p>5 rows × 35 columns</p>\n",
              "</div>\n",
              "      <button class=\"colab-df-convert\" onclick=\"convertToInteractive('df-7b69d89e-3881-42e2-a753-3e5242f0faea')\"\n",
              "              title=\"Convert this dataframe to an interactive table.\"\n",
              "              style=\"display:none;\">\n",
              "        \n",
              "  <svg xmlns=\"http://www.w3.org/2000/svg\" height=\"24px\"viewBox=\"0 0 24 24\"\n",
              "       width=\"24px\">\n",
              "    <path d=\"M0 0h24v24H0V0z\" fill=\"none\"/>\n",
              "    <path d=\"M18.56 5.44l.94 2.06.94-2.06 2.06-.94-2.06-.94-.94-2.06-.94 2.06-2.06.94zm-11 1L8.5 8.5l.94-2.06 2.06-.94-2.06-.94L8.5 2.5l-.94 2.06-2.06.94zm10 10l.94 2.06.94-2.06 2.06-.94-2.06-.94-.94-2.06-.94 2.06-2.06.94z\"/><path d=\"M17.41 7.96l-1.37-1.37c-.4-.4-.92-.59-1.43-.59-.52 0-1.04.2-1.43.59L10.3 9.45l-7.72 7.72c-.78.78-.78 2.05 0 2.83L4 21.41c.39.39.9.59 1.41.59.51 0 1.02-.2 1.41-.59l7.78-7.78 2.81-2.81c.8-.78.8-2.07 0-2.86zM5.41 20L4 18.59l7.72-7.72 1.47 1.35L5.41 20z\"/>\n",
              "  </svg>\n",
              "      </button>\n",
              "      \n",
              "  <style>\n",
              "    .colab-df-container {\n",
              "      display:flex;\n",
              "      flex-wrap:wrap;\n",
              "      gap: 12px;\n",
              "    }\n",
              "\n",
              "    .colab-df-convert {\n",
              "      background-color: #E8F0FE;\n",
              "      border: none;\n",
              "      border-radius: 50%;\n",
              "      cursor: pointer;\n",
              "      display: none;\n",
              "      fill: #1967D2;\n",
              "      height: 32px;\n",
              "      padding: 0 0 0 0;\n",
              "      width: 32px;\n",
              "    }\n",
              "\n",
              "    .colab-df-convert:hover {\n",
              "      background-color: #E2EBFA;\n",
              "      box-shadow: 0px 1px 2px rgba(60, 64, 67, 0.3), 0px 1px 3px 1px rgba(60, 64, 67, 0.15);\n",
              "      fill: #174EA6;\n",
              "    }\n",
              "\n",
              "    [theme=dark] .colab-df-convert {\n",
              "      background-color: #3B4455;\n",
              "      fill: #D2E3FC;\n",
              "    }\n",
              "\n",
              "    [theme=dark] .colab-df-convert:hover {\n",
              "      background-color: #434B5C;\n",
              "      box-shadow: 0px 1px 3px 1px rgba(0, 0, 0, 0.15);\n",
              "      filter: drop-shadow(0px 1px 2px rgba(0, 0, 0, 0.3));\n",
              "      fill: #FFFFFF;\n",
              "    }\n",
              "  </style>\n",
              "\n",
              "      <script>\n",
              "        const buttonEl =\n",
              "          document.querySelector('#df-7b69d89e-3881-42e2-a753-3e5242f0faea button.colab-df-convert');\n",
              "        buttonEl.style.display =\n",
              "          google.colab.kernel.accessAllowed ? 'block' : 'none';\n",
              "\n",
              "        async function convertToInteractive(key) {\n",
              "          const element = document.querySelector('#df-7b69d89e-3881-42e2-a753-3e5242f0faea');\n",
              "          const dataTable =\n",
              "            await google.colab.kernel.invokeFunction('convertToInteractive',\n",
              "                                                     [key], {});\n",
              "          if (!dataTable) return;\n",
              "\n",
              "          const docLinkHtml = 'Like what you see? Visit the ' +\n",
              "            '<a target=\"_blank\" href=https://colab.research.google.com/notebooks/data_table.ipynb>data table notebook</a>'\n",
              "            + ' to learn more about interactive tables.';\n",
              "          element.innerHTML = '';\n",
              "          dataTable['output_type'] = 'display_data';\n",
              "          await google.colab.output.renderOutput(dataTable, element);\n",
              "          const docLink = document.createElement('div');\n",
              "          docLink.innerHTML = docLinkHtml;\n",
              "          element.appendChild(docLink);\n",
              "        }\n",
              "      </script>\n",
              "    </div>\n",
              "  </div>\n",
              "  "
            ]
          },
          "metadata": {},
          "execution_count": 25
        }
      ],
      "source": [
        "df = pd.read_csv('atlas-higgs-challenge-2014-v2.csv.gz', nrows=250000, compression='gzip')\n",
        "df.head()\n",
        "\n",
        "# 250000개만 사용하겠다는 의미"
      ]
    },
    {
      "cell_type": "code",
      "execution_count": 26,
      "metadata": {
        "id": "EJmr__FX_aIM"
      },
      "outputs": [],
      "source": [
        "del df['Weight']\n",
        "del df['KaggleSet']\n",
        "df = df.rename(columns={\"KaggleWeight\": \"Weight\"})\n",
        "label_col = df['Label']\n",
        "del df['Label']\n",
        "df['Label'] = label_col"
      ]
    },
    {
      "cell_type": "markdown",
      "metadata": {
        "id": "Xq-MPyP8_aIM"
      },
      "source": [
        "##### 데이터 프레임의 열을 삭제하고 옮기는 방법"
      ]
    },
    {
      "cell_type": "code",
      "execution_count": 27,
      "metadata": {
        "id": "GwLAO_Mm_aIM"
      },
      "outputs": [],
      "source": [
        "df_h = pd.read_csv('atlas-higgs-challenge-2014-v2.csv.gz', nrows=250000, compression='gzip')"
      ]
    },
    {
      "cell_type": "code",
      "execution_count": 28,
      "metadata": {
        "id": "t97HW99f_aIM"
      },
      "outputs": [],
      "source": [
        "df_new = df_h.drop(['Weight', 'KaggleSet', 'Label'], axis=1).assign(Label=df_h['Label'])\n",
        "df_new = df_new.rename(columns={'KaggleWeight': 'Weight'})\n",
        "\n",
        "\n",
        "# df_h에서 드롭해도, df_h는 그대로 유지 -> 드롭된 새로운 객체가 df_new로 들어가는 것! :) "
      ]
    },
    {
      "cell_type": "code",
      "execution_count": 29,
      "metadata": {
        "id": "fEeLgI87_aIM",
        "outputId": "b9fb4412-62c4-45b4-855b-77fce9282455",
        "colab": {
          "base_uri": "https://localhost:8080/",
          "height": 293
        }
      },
      "outputs": [
        {
          "output_type": "execute_result",
          "data": {
            "text/plain": [
              "   EventId  DER_mass_MMC  DER_mass_transverse_met_lep  DER_mass_vis  DER_pt_h  \\\n",
              "0   100000       138.470                       51.655        97.827    27.980   \n",
              "1   100001       160.937                       68.768       103.235    48.146   \n",
              "2   100002      -999.000                      162.172       125.953    35.635   \n",
              "3   100003       143.905                       81.417        80.943     0.414   \n",
              "4   100004       175.864                       16.915       134.805    16.405   \n",
              "\n",
              "   DER_deltaeta_jet_jet  DER_mass_jet_jet  DER_prodeta_jet_jet  \\\n",
              "0                  0.91           124.711                2.666   \n",
              "1               -999.00          -999.000             -999.000   \n",
              "2               -999.00          -999.000             -999.000   \n",
              "3               -999.00          -999.000             -999.000   \n",
              "4               -999.00          -999.000             -999.000   \n",
              "\n",
              "   DER_deltar_tau_lep  DER_pt_tot  ...  PRI_jet_num  PRI_jet_leading_pt  \\\n",
              "0               3.064      41.928  ...            2              67.435   \n",
              "1               3.473       2.078  ...            1              46.226   \n",
              "2               3.148       9.336  ...            1              44.251   \n",
              "3               3.310       0.414  ...            0            -999.000   \n",
              "4               3.891      16.405  ...            0            -999.000   \n",
              "\n",
              "   PRI_jet_leading_eta  PRI_jet_leading_phi  PRI_jet_subleading_pt  \\\n",
              "0                2.150                0.444                 46.062   \n",
              "1                0.725                1.158               -999.000   \n",
              "2                2.053               -2.028               -999.000   \n",
              "3             -999.000             -999.000               -999.000   \n",
              "4             -999.000             -999.000               -999.000   \n",
              "\n",
              "   PRI_jet_subleading_eta  PRI_jet_subleading_phi  PRI_jet_all_pt    Weight  \\\n",
              "0                    1.24                  -2.475         113.497  0.002653   \n",
              "1                 -999.00                -999.000          46.226  2.233584   \n",
              "2                 -999.00                -999.000          44.251  2.347389   \n",
              "3                 -999.00                -999.000          -0.000  5.446378   \n",
              "4                 -999.00                -999.000           0.000  6.245333   \n",
              "\n",
              "   Label  \n",
              "0      s  \n",
              "1      b  \n",
              "2      b  \n",
              "3      b  \n",
              "4      b  \n",
              "\n",
              "[5 rows x 33 columns]"
            ],
            "text/html": [
              "\n",
              "  <div id=\"df-57b12db4-3691-4fe4-ab96-d6eb8aace78c\">\n",
              "    <div class=\"colab-df-container\">\n",
              "      <div>\n",
              "<style scoped>\n",
              "    .dataframe tbody tr th:only-of-type {\n",
              "        vertical-align: middle;\n",
              "    }\n",
              "\n",
              "    .dataframe tbody tr th {\n",
              "        vertical-align: top;\n",
              "    }\n",
              "\n",
              "    .dataframe thead th {\n",
              "        text-align: right;\n",
              "    }\n",
              "</style>\n",
              "<table border=\"1\" class=\"dataframe\">\n",
              "  <thead>\n",
              "    <tr style=\"text-align: right;\">\n",
              "      <th></th>\n",
              "      <th>EventId</th>\n",
              "      <th>DER_mass_MMC</th>\n",
              "      <th>DER_mass_transverse_met_lep</th>\n",
              "      <th>DER_mass_vis</th>\n",
              "      <th>DER_pt_h</th>\n",
              "      <th>DER_deltaeta_jet_jet</th>\n",
              "      <th>DER_mass_jet_jet</th>\n",
              "      <th>DER_prodeta_jet_jet</th>\n",
              "      <th>DER_deltar_tau_lep</th>\n",
              "      <th>DER_pt_tot</th>\n",
              "      <th>...</th>\n",
              "      <th>PRI_jet_num</th>\n",
              "      <th>PRI_jet_leading_pt</th>\n",
              "      <th>PRI_jet_leading_eta</th>\n",
              "      <th>PRI_jet_leading_phi</th>\n",
              "      <th>PRI_jet_subleading_pt</th>\n",
              "      <th>PRI_jet_subleading_eta</th>\n",
              "      <th>PRI_jet_subleading_phi</th>\n",
              "      <th>PRI_jet_all_pt</th>\n",
              "      <th>Weight</th>\n",
              "      <th>Label</th>\n",
              "    </tr>\n",
              "  </thead>\n",
              "  <tbody>\n",
              "    <tr>\n",
              "      <th>0</th>\n",
              "      <td>100000</td>\n",
              "      <td>138.470</td>\n",
              "      <td>51.655</td>\n",
              "      <td>97.827</td>\n",
              "      <td>27.980</td>\n",
              "      <td>0.91</td>\n",
              "      <td>124.711</td>\n",
              "      <td>2.666</td>\n",
              "      <td>3.064</td>\n",
              "      <td>41.928</td>\n",
              "      <td>...</td>\n",
              "      <td>2</td>\n",
              "      <td>67.435</td>\n",
              "      <td>2.150</td>\n",
              "      <td>0.444</td>\n",
              "      <td>46.062</td>\n",
              "      <td>1.24</td>\n",
              "      <td>-2.475</td>\n",
              "      <td>113.497</td>\n",
              "      <td>0.002653</td>\n",
              "      <td>s</td>\n",
              "    </tr>\n",
              "    <tr>\n",
              "      <th>1</th>\n",
              "      <td>100001</td>\n",
              "      <td>160.937</td>\n",
              "      <td>68.768</td>\n",
              "      <td>103.235</td>\n",
              "      <td>48.146</td>\n",
              "      <td>-999.00</td>\n",
              "      <td>-999.000</td>\n",
              "      <td>-999.000</td>\n",
              "      <td>3.473</td>\n",
              "      <td>2.078</td>\n",
              "      <td>...</td>\n",
              "      <td>1</td>\n",
              "      <td>46.226</td>\n",
              "      <td>0.725</td>\n",
              "      <td>1.158</td>\n",
              "      <td>-999.000</td>\n",
              "      <td>-999.00</td>\n",
              "      <td>-999.000</td>\n",
              "      <td>46.226</td>\n",
              "      <td>2.233584</td>\n",
              "      <td>b</td>\n",
              "    </tr>\n",
              "    <tr>\n",
              "      <th>2</th>\n",
              "      <td>100002</td>\n",
              "      <td>-999.000</td>\n",
              "      <td>162.172</td>\n",
              "      <td>125.953</td>\n",
              "      <td>35.635</td>\n",
              "      <td>-999.00</td>\n",
              "      <td>-999.000</td>\n",
              "      <td>-999.000</td>\n",
              "      <td>3.148</td>\n",
              "      <td>9.336</td>\n",
              "      <td>...</td>\n",
              "      <td>1</td>\n",
              "      <td>44.251</td>\n",
              "      <td>2.053</td>\n",
              "      <td>-2.028</td>\n",
              "      <td>-999.000</td>\n",
              "      <td>-999.00</td>\n",
              "      <td>-999.000</td>\n",
              "      <td>44.251</td>\n",
              "      <td>2.347389</td>\n",
              "      <td>b</td>\n",
              "    </tr>\n",
              "    <tr>\n",
              "      <th>3</th>\n",
              "      <td>100003</td>\n",
              "      <td>143.905</td>\n",
              "      <td>81.417</td>\n",
              "      <td>80.943</td>\n",
              "      <td>0.414</td>\n",
              "      <td>-999.00</td>\n",
              "      <td>-999.000</td>\n",
              "      <td>-999.000</td>\n",
              "      <td>3.310</td>\n",
              "      <td>0.414</td>\n",
              "      <td>...</td>\n",
              "      <td>0</td>\n",
              "      <td>-999.000</td>\n",
              "      <td>-999.000</td>\n",
              "      <td>-999.000</td>\n",
              "      <td>-999.000</td>\n",
              "      <td>-999.00</td>\n",
              "      <td>-999.000</td>\n",
              "      <td>-0.000</td>\n",
              "      <td>5.446378</td>\n",
              "      <td>b</td>\n",
              "    </tr>\n",
              "    <tr>\n",
              "      <th>4</th>\n",
              "      <td>100004</td>\n",
              "      <td>175.864</td>\n",
              "      <td>16.915</td>\n",
              "      <td>134.805</td>\n",
              "      <td>16.405</td>\n",
              "      <td>-999.00</td>\n",
              "      <td>-999.000</td>\n",
              "      <td>-999.000</td>\n",
              "      <td>3.891</td>\n",
              "      <td>16.405</td>\n",
              "      <td>...</td>\n",
              "      <td>0</td>\n",
              "      <td>-999.000</td>\n",
              "      <td>-999.000</td>\n",
              "      <td>-999.000</td>\n",
              "      <td>-999.000</td>\n",
              "      <td>-999.00</td>\n",
              "      <td>-999.000</td>\n",
              "      <td>0.000</td>\n",
              "      <td>6.245333</td>\n",
              "      <td>b</td>\n",
              "    </tr>\n",
              "  </tbody>\n",
              "</table>\n",
              "<p>5 rows × 33 columns</p>\n",
              "</div>\n",
              "      <button class=\"colab-df-convert\" onclick=\"convertToInteractive('df-57b12db4-3691-4fe4-ab96-d6eb8aace78c')\"\n",
              "              title=\"Convert this dataframe to an interactive table.\"\n",
              "              style=\"display:none;\">\n",
              "        \n",
              "  <svg xmlns=\"http://www.w3.org/2000/svg\" height=\"24px\"viewBox=\"0 0 24 24\"\n",
              "       width=\"24px\">\n",
              "    <path d=\"M0 0h24v24H0V0z\" fill=\"none\"/>\n",
              "    <path d=\"M18.56 5.44l.94 2.06.94-2.06 2.06-.94-2.06-.94-.94-2.06-.94 2.06-2.06.94zm-11 1L8.5 8.5l.94-2.06 2.06-.94-2.06-.94L8.5 2.5l-.94 2.06-2.06.94zm10 10l.94 2.06.94-2.06 2.06-.94-2.06-.94-.94-2.06-.94 2.06-2.06.94z\"/><path d=\"M17.41 7.96l-1.37-1.37c-.4-.4-.92-.59-1.43-.59-.52 0-1.04.2-1.43.59L10.3 9.45l-7.72 7.72c-.78.78-.78 2.05 0 2.83L4 21.41c.39.39.9.59 1.41.59.51 0 1.02-.2 1.41-.59l7.78-7.78 2.81-2.81c.8-.78.8-2.07 0-2.86zM5.41 20L4 18.59l7.72-7.72 1.47 1.35L5.41 20z\"/>\n",
              "  </svg>\n",
              "      </button>\n",
              "      \n",
              "  <style>\n",
              "    .colab-df-container {\n",
              "      display:flex;\n",
              "      flex-wrap:wrap;\n",
              "      gap: 12px;\n",
              "    }\n",
              "\n",
              "    .colab-df-convert {\n",
              "      background-color: #E8F0FE;\n",
              "      border: none;\n",
              "      border-radius: 50%;\n",
              "      cursor: pointer;\n",
              "      display: none;\n",
              "      fill: #1967D2;\n",
              "      height: 32px;\n",
              "      padding: 0 0 0 0;\n",
              "      width: 32px;\n",
              "    }\n",
              "\n",
              "    .colab-df-convert:hover {\n",
              "      background-color: #E2EBFA;\n",
              "      box-shadow: 0px 1px 2px rgba(60, 64, 67, 0.3), 0px 1px 3px 1px rgba(60, 64, 67, 0.15);\n",
              "      fill: #174EA6;\n",
              "    }\n",
              "\n",
              "    [theme=dark] .colab-df-convert {\n",
              "      background-color: #3B4455;\n",
              "      fill: #D2E3FC;\n",
              "    }\n",
              "\n",
              "    [theme=dark] .colab-df-convert:hover {\n",
              "      background-color: #434B5C;\n",
              "      box-shadow: 0px 1px 3px 1px rgba(0, 0, 0, 0.15);\n",
              "      filter: drop-shadow(0px 1px 2px rgba(0, 0, 0, 0.3));\n",
              "      fill: #FFFFFF;\n",
              "    }\n",
              "  </style>\n",
              "\n",
              "      <script>\n",
              "        const buttonEl =\n",
              "          document.querySelector('#df-57b12db4-3691-4fe4-ab96-d6eb8aace78c button.colab-df-convert');\n",
              "        buttonEl.style.display =\n",
              "          google.colab.kernel.accessAllowed ? 'block' : 'none';\n",
              "\n",
              "        async function convertToInteractive(key) {\n",
              "          const element = document.querySelector('#df-57b12db4-3691-4fe4-ab96-d6eb8aace78c');\n",
              "          const dataTable =\n",
              "            await google.colab.kernel.invokeFunction('convertToInteractive',\n",
              "                                                     [key], {});\n",
              "          if (!dataTable) return;\n",
              "\n",
              "          const docLinkHtml = 'Like what you see? Visit the ' +\n",
              "            '<a target=\"_blank\" href=https://colab.research.google.com/notebooks/data_table.ipynb>data table notebook</a>'\n",
              "            + ' to learn more about interactive tables.';\n",
              "          element.innerHTML = '';\n",
              "          dataTable['output_type'] = 'display_data';\n",
              "          await google.colab.output.renderOutput(dataTable, element);\n",
              "          const docLink = document.createElement('div');\n",
              "          docLink.innerHTML = docLinkHtml;\n",
              "          element.appendChild(docLink);\n",
              "        }\n",
              "      </script>\n",
              "    </div>\n",
              "  </div>\n",
              "  "
            ]
          },
          "metadata": {},
          "execution_count": 29
        }
      ],
      "source": [
        "df_new.head()"
      ]
    },
    {
      "cell_type": "markdown",
      "metadata": {
        "id": "qD4qU667_aIM"
      },
      "source": [
        " "
      ]
    },
    {
      "cell_type": "code",
      "execution_count": 30,
      "metadata": {
        "id": "NKUbRCSl_aIM",
        "outputId": "0e81e572-9a6f-4571-88bd-c7e8d3bad10b",
        "colab": {
          "base_uri": "https://localhost:8080/",
          "height": 293
        }
      },
      "outputs": [
        {
          "output_type": "execute_result",
          "data": {
            "text/plain": [
              "   EventId  DER_mass_MMC  DER_mass_transverse_met_lep  DER_mass_vis  DER_pt_h  \\\n",
              "0   100000       138.470                       51.655        97.827    27.980   \n",
              "1   100001       160.937                       68.768       103.235    48.146   \n",
              "2   100002      -999.000                      162.172       125.953    35.635   \n",
              "3   100003       143.905                       81.417        80.943     0.414   \n",
              "4   100004       175.864                       16.915       134.805    16.405   \n",
              "\n",
              "   DER_deltaeta_jet_jet  DER_mass_jet_jet  DER_prodeta_jet_jet  \\\n",
              "0                  0.91           124.711                2.666   \n",
              "1               -999.00          -999.000             -999.000   \n",
              "2               -999.00          -999.000             -999.000   \n",
              "3               -999.00          -999.000             -999.000   \n",
              "4               -999.00          -999.000             -999.000   \n",
              "\n",
              "   DER_deltar_tau_lep  DER_pt_tot  ...  PRI_jet_num  PRI_jet_leading_pt  \\\n",
              "0               3.064      41.928  ...            2              67.435   \n",
              "1               3.473       2.078  ...            1              46.226   \n",
              "2               3.148       9.336  ...            1              44.251   \n",
              "3               3.310       0.414  ...            0            -999.000   \n",
              "4               3.891      16.405  ...            0            -999.000   \n",
              "\n",
              "   PRI_jet_leading_eta  PRI_jet_leading_phi  PRI_jet_subleading_pt  \\\n",
              "0                2.150                0.444                 46.062   \n",
              "1                0.725                1.158               -999.000   \n",
              "2                2.053               -2.028               -999.000   \n",
              "3             -999.000             -999.000               -999.000   \n",
              "4             -999.000             -999.000               -999.000   \n",
              "\n",
              "   PRI_jet_subleading_eta  PRI_jet_subleading_phi  PRI_jet_all_pt    Weight  \\\n",
              "0                    1.24                  -2.475         113.497  0.002653   \n",
              "1                 -999.00                -999.000          46.226  2.233584   \n",
              "2                 -999.00                -999.000          44.251  2.347389   \n",
              "3                 -999.00                -999.000          -0.000  5.446378   \n",
              "4                 -999.00                -999.000           0.000  6.245333   \n",
              "\n",
              "   Label  \n",
              "0      s  \n",
              "1      b  \n",
              "2      b  \n",
              "3      b  \n",
              "4      b  \n",
              "\n",
              "[5 rows x 33 columns]"
            ],
            "text/html": [
              "\n",
              "  <div id=\"df-1e3c0b11-d758-4056-b57b-4dc78020544c\">\n",
              "    <div class=\"colab-df-container\">\n",
              "      <div>\n",
              "<style scoped>\n",
              "    .dataframe tbody tr th:only-of-type {\n",
              "        vertical-align: middle;\n",
              "    }\n",
              "\n",
              "    .dataframe tbody tr th {\n",
              "        vertical-align: top;\n",
              "    }\n",
              "\n",
              "    .dataframe thead th {\n",
              "        text-align: right;\n",
              "    }\n",
              "</style>\n",
              "<table border=\"1\" class=\"dataframe\">\n",
              "  <thead>\n",
              "    <tr style=\"text-align: right;\">\n",
              "      <th></th>\n",
              "      <th>EventId</th>\n",
              "      <th>DER_mass_MMC</th>\n",
              "      <th>DER_mass_transverse_met_lep</th>\n",
              "      <th>DER_mass_vis</th>\n",
              "      <th>DER_pt_h</th>\n",
              "      <th>DER_deltaeta_jet_jet</th>\n",
              "      <th>DER_mass_jet_jet</th>\n",
              "      <th>DER_prodeta_jet_jet</th>\n",
              "      <th>DER_deltar_tau_lep</th>\n",
              "      <th>DER_pt_tot</th>\n",
              "      <th>...</th>\n",
              "      <th>PRI_jet_num</th>\n",
              "      <th>PRI_jet_leading_pt</th>\n",
              "      <th>PRI_jet_leading_eta</th>\n",
              "      <th>PRI_jet_leading_phi</th>\n",
              "      <th>PRI_jet_subleading_pt</th>\n",
              "      <th>PRI_jet_subleading_eta</th>\n",
              "      <th>PRI_jet_subleading_phi</th>\n",
              "      <th>PRI_jet_all_pt</th>\n",
              "      <th>Weight</th>\n",
              "      <th>Label</th>\n",
              "    </tr>\n",
              "  </thead>\n",
              "  <tbody>\n",
              "    <tr>\n",
              "      <th>0</th>\n",
              "      <td>100000</td>\n",
              "      <td>138.470</td>\n",
              "      <td>51.655</td>\n",
              "      <td>97.827</td>\n",
              "      <td>27.980</td>\n",
              "      <td>0.91</td>\n",
              "      <td>124.711</td>\n",
              "      <td>2.666</td>\n",
              "      <td>3.064</td>\n",
              "      <td>41.928</td>\n",
              "      <td>...</td>\n",
              "      <td>2</td>\n",
              "      <td>67.435</td>\n",
              "      <td>2.150</td>\n",
              "      <td>0.444</td>\n",
              "      <td>46.062</td>\n",
              "      <td>1.24</td>\n",
              "      <td>-2.475</td>\n",
              "      <td>113.497</td>\n",
              "      <td>0.002653</td>\n",
              "      <td>s</td>\n",
              "    </tr>\n",
              "    <tr>\n",
              "      <th>1</th>\n",
              "      <td>100001</td>\n",
              "      <td>160.937</td>\n",
              "      <td>68.768</td>\n",
              "      <td>103.235</td>\n",
              "      <td>48.146</td>\n",
              "      <td>-999.00</td>\n",
              "      <td>-999.000</td>\n",
              "      <td>-999.000</td>\n",
              "      <td>3.473</td>\n",
              "      <td>2.078</td>\n",
              "      <td>...</td>\n",
              "      <td>1</td>\n",
              "      <td>46.226</td>\n",
              "      <td>0.725</td>\n",
              "      <td>1.158</td>\n",
              "      <td>-999.000</td>\n",
              "      <td>-999.00</td>\n",
              "      <td>-999.000</td>\n",
              "      <td>46.226</td>\n",
              "      <td>2.233584</td>\n",
              "      <td>b</td>\n",
              "    </tr>\n",
              "    <tr>\n",
              "      <th>2</th>\n",
              "      <td>100002</td>\n",
              "      <td>-999.000</td>\n",
              "      <td>162.172</td>\n",
              "      <td>125.953</td>\n",
              "      <td>35.635</td>\n",
              "      <td>-999.00</td>\n",
              "      <td>-999.000</td>\n",
              "      <td>-999.000</td>\n",
              "      <td>3.148</td>\n",
              "      <td>9.336</td>\n",
              "      <td>...</td>\n",
              "      <td>1</td>\n",
              "      <td>44.251</td>\n",
              "      <td>2.053</td>\n",
              "      <td>-2.028</td>\n",
              "      <td>-999.000</td>\n",
              "      <td>-999.00</td>\n",
              "      <td>-999.000</td>\n",
              "      <td>44.251</td>\n",
              "      <td>2.347389</td>\n",
              "      <td>b</td>\n",
              "    </tr>\n",
              "    <tr>\n",
              "      <th>3</th>\n",
              "      <td>100003</td>\n",
              "      <td>143.905</td>\n",
              "      <td>81.417</td>\n",
              "      <td>80.943</td>\n",
              "      <td>0.414</td>\n",
              "      <td>-999.00</td>\n",
              "      <td>-999.000</td>\n",
              "      <td>-999.000</td>\n",
              "      <td>3.310</td>\n",
              "      <td>0.414</td>\n",
              "      <td>...</td>\n",
              "      <td>0</td>\n",
              "      <td>-999.000</td>\n",
              "      <td>-999.000</td>\n",
              "      <td>-999.000</td>\n",
              "      <td>-999.000</td>\n",
              "      <td>-999.00</td>\n",
              "      <td>-999.000</td>\n",
              "      <td>-0.000</td>\n",
              "      <td>5.446378</td>\n",
              "      <td>b</td>\n",
              "    </tr>\n",
              "    <tr>\n",
              "      <th>4</th>\n",
              "      <td>100004</td>\n",
              "      <td>175.864</td>\n",
              "      <td>16.915</td>\n",
              "      <td>134.805</td>\n",
              "      <td>16.405</td>\n",
              "      <td>-999.00</td>\n",
              "      <td>-999.000</td>\n",
              "      <td>-999.000</td>\n",
              "      <td>3.891</td>\n",
              "      <td>16.405</td>\n",
              "      <td>...</td>\n",
              "      <td>0</td>\n",
              "      <td>-999.000</td>\n",
              "      <td>-999.000</td>\n",
              "      <td>-999.000</td>\n",
              "      <td>-999.000</td>\n",
              "      <td>-999.00</td>\n",
              "      <td>-999.000</td>\n",
              "      <td>0.000</td>\n",
              "      <td>6.245333</td>\n",
              "      <td>b</td>\n",
              "    </tr>\n",
              "  </tbody>\n",
              "</table>\n",
              "<p>5 rows × 33 columns</p>\n",
              "</div>\n",
              "      <button class=\"colab-df-convert\" onclick=\"convertToInteractive('df-1e3c0b11-d758-4056-b57b-4dc78020544c')\"\n",
              "              title=\"Convert this dataframe to an interactive table.\"\n",
              "              style=\"display:none;\">\n",
              "        \n",
              "  <svg xmlns=\"http://www.w3.org/2000/svg\" height=\"24px\"viewBox=\"0 0 24 24\"\n",
              "       width=\"24px\">\n",
              "    <path d=\"M0 0h24v24H0V0z\" fill=\"none\"/>\n",
              "    <path d=\"M18.56 5.44l.94 2.06.94-2.06 2.06-.94-2.06-.94-.94-2.06-.94 2.06-2.06.94zm-11 1L8.5 8.5l.94-2.06 2.06-.94-2.06-.94L8.5 2.5l-.94 2.06-2.06.94zm10 10l.94 2.06.94-2.06 2.06-.94-2.06-.94-.94-2.06-.94 2.06-2.06.94z\"/><path d=\"M17.41 7.96l-1.37-1.37c-.4-.4-.92-.59-1.43-.59-.52 0-1.04.2-1.43.59L10.3 9.45l-7.72 7.72c-.78.78-.78 2.05 0 2.83L4 21.41c.39.39.9.59 1.41.59.51 0 1.02-.2 1.41-.59l7.78-7.78 2.81-2.81c.8-.78.8-2.07 0-2.86zM5.41 20L4 18.59l7.72-7.72 1.47 1.35L5.41 20z\"/>\n",
              "  </svg>\n",
              "      </button>\n",
              "      \n",
              "  <style>\n",
              "    .colab-df-container {\n",
              "      display:flex;\n",
              "      flex-wrap:wrap;\n",
              "      gap: 12px;\n",
              "    }\n",
              "\n",
              "    .colab-df-convert {\n",
              "      background-color: #E8F0FE;\n",
              "      border: none;\n",
              "      border-radius: 50%;\n",
              "      cursor: pointer;\n",
              "      display: none;\n",
              "      fill: #1967D2;\n",
              "      height: 32px;\n",
              "      padding: 0 0 0 0;\n",
              "      width: 32px;\n",
              "    }\n",
              "\n",
              "    .colab-df-convert:hover {\n",
              "      background-color: #E2EBFA;\n",
              "      box-shadow: 0px 1px 2px rgba(60, 64, 67, 0.3), 0px 1px 3px 1px rgba(60, 64, 67, 0.15);\n",
              "      fill: #174EA6;\n",
              "    }\n",
              "\n",
              "    [theme=dark] .colab-df-convert {\n",
              "      background-color: #3B4455;\n",
              "      fill: #D2E3FC;\n",
              "    }\n",
              "\n",
              "    [theme=dark] .colab-df-convert:hover {\n",
              "      background-color: #434B5C;\n",
              "      box-shadow: 0px 1px 3px 1px rgba(0, 0, 0, 0.15);\n",
              "      filter: drop-shadow(0px 1px 2px rgba(0, 0, 0, 0.3));\n",
              "      fill: #FFFFFF;\n",
              "    }\n",
              "  </style>\n",
              "\n",
              "      <script>\n",
              "        const buttonEl =\n",
              "          document.querySelector('#df-1e3c0b11-d758-4056-b57b-4dc78020544c button.colab-df-convert');\n",
              "        buttonEl.style.display =\n",
              "          google.colab.kernel.accessAllowed ? 'block' : 'none';\n",
              "\n",
              "        async function convertToInteractive(key) {\n",
              "          const element = document.querySelector('#df-1e3c0b11-d758-4056-b57b-4dc78020544c');\n",
              "          const dataTable =\n",
              "            await google.colab.kernel.invokeFunction('convertToInteractive',\n",
              "                                                     [key], {});\n",
              "          if (!dataTable) return;\n",
              "\n",
              "          const docLinkHtml = 'Like what you see? Visit the ' +\n",
              "            '<a target=\"_blank\" href=https://colab.research.google.com/notebooks/data_table.ipynb>data table notebook</a>'\n",
              "            + ' to learn more about interactive tables.';\n",
              "          element.innerHTML = '';\n",
              "          dataTable['output_type'] = 'display_data';\n",
              "          await google.colab.output.renderOutput(dataTable, element);\n",
              "          const docLink = document.createElement('div');\n",
              "          docLink.innerHTML = docLinkHtml;\n",
              "          element.appendChild(docLink);\n",
              "        }\n",
              "      </script>\n",
              "    </div>\n",
              "  </div>\n",
              "  "
            ]
          },
          "metadata": {},
          "execution_count": 30
        }
      ],
      "source": [
        "df.head()"
      ]
    },
    {
      "cell_type": "code",
      "execution_count": 31,
      "metadata": {
        "id": "o77gsPzd_aIM",
        "outputId": "447e98bb-ee1b-4b2f-b13c-06d7f75eca63",
        "colab": {
          "base_uri": "https://localhost:8080/"
        }
      },
      "outputs": [
        {
          "output_type": "stream",
          "name": "stdout",
          "text": [
            "<class 'pandas.core.frame.DataFrame'>\n",
            "RangeIndex: 250000 entries, 0 to 249999\n",
            "Data columns (total 33 columns):\n",
            " #   Column                       Non-Null Count   Dtype  \n",
            "---  ------                       --------------   -----  \n",
            " 0   EventId                      250000 non-null  int64  \n",
            " 1   DER_mass_MMC                 250000 non-null  float64\n",
            " 2   DER_mass_transverse_met_lep  250000 non-null  float64\n",
            " 3   DER_mass_vis                 250000 non-null  float64\n",
            " 4   DER_pt_h                     250000 non-null  float64\n",
            " 5   DER_deltaeta_jet_jet         250000 non-null  float64\n",
            " 6   DER_mass_jet_jet             250000 non-null  float64\n",
            " 7   DER_prodeta_jet_jet          250000 non-null  float64\n",
            " 8   DER_deltar_tau_lep           250000 non-null  float64\n",
            " 9   DER_pt_tot                   250000 non-null  float64\n",
            " 10  DER_sum_pt                   250000 non-null  float64\n",
            " 11  DER_pt_ratio_lep_tau         250000 non-null  float64\n",
            " 12  DER_met_phi_centrality       250000 non-null  float64\n",
            " 13  DER_lep_eta_centrality       250000 non-null  float64\n",
            " 14  PRI_tau_pt                   250000 non-null  float64\n",
            " 15  PRI_tau_eta                  250000 non-null  float64\n",
            " 16  PRI_tau_phi                  250000 non-null  float64\n",
            " 17  PRI_lep_pt                   250000 non-null  float64\n",
            " 18  PRI_lep_eta                  250000 non-null  float64\n",
            " 19  PRI_lep_phi                  250000 non-null  float64\n",
            " 20  PRI_met                      250000 non-null  float64\n",
            " 21  PRI_met_phi                  250000 non-null  float64\n",
            " 22  PRI_met_sumet                250000 non-null  float64\n",
            " 23  PRI_jet_num                  250000 non-null  int64  \n",
            " 24  PRI_jet_leading_pt           250000 non-null  float64\n",
            " 25  PRI_jet_leading_eta          250000 non-null  float64\n",
            " 26  PRI_jet_leading_phi          250000 non-null  float64\n",
            " 27  PRI_jet_subleading_pt        250000 non-null  float64\n",
            " 28  PRI_jet_subleading_eta       250000 non-null  float64\n",
            " 29  PRI_jet_subleading_phi       250000 non-null  float64\n",
            " 30  PRI_jet_all_pt               250000 non-null  float64\n",
            " 31  Weight                       250000 non-null  float64\n",
            " 32  Label                        250000 non-null  object \n",
            "dtypes: float64(30), int64(2), object(1)\n",
            "memory usage: 62.9+ MB\n"
          ]
        }
      ],
      "source": [
        "df.info()\n",
        "\n",
        "# DEF : 유도된 데이터\n",
        "# PRI : 측정된 데이터 (primitives)"
      ]
    },
    {
      "cell_type": "code",
      "execution_count": 32,
      "metadata": {
        "id": "glUzirL1_aIN"
      },
      "outputs": [],
      "source": [
        "df['Label'].replace(('s', 'b'), (1, 0), inplace=True)\n",
        "\n",
        "# s -> 1 , b -> 0 으로 바꾸겠다는 의미"
      ]
    },
    {
      "cell_type": "code",
      "execution_count": 34,
      "metadata": {
        "id": "0nn66YcY_aIN",
        "colab": {
          "base_uri": "https://localhost:8080/",
          "height": 58
        },
        "outputId": "bf594ffe-b700-49ec-e4fc-1aeeec6299a7"
      },
      "outputs": [
        {
          "output_type": "execute_result",
          "data": {
            "text/plain": [
              "'\\nX: 전체 행 중에, 열: 1부터 (첫번째 열 삭제, 이벤트 아이디) 31 까지 (30까지)\\ny: 전체 행 중에, 열: 마지막 한 줄만! (label, target)\\n'"
            ],
            "application/vnd.google.colaboratory.intrinsic+json": {
              "type": "string"
            }
          },
          "metadata": {},
          "execution_count": 34
        }
      ],
      "source": [
        "X = df.iloc[:,1:31]\n",
        "y = df.iloc[:,-1]\n",
        "\n",
        "'''\n",
        "X: 전체 행 중에, 열: 1부터 (첫번째 열 삭제, 이벤트 아이디) 31 까지 (30까지)\n",
        "y: 전체 행 중에, 열: 마지막 한 줄만! (label, target)\n",
        "'''"
      ]
    },
    {
      "cell_type": "markdown",
      "metadata": {
        "id": "hNMKEwed_aIN"
      },
      "source": [
        "##### 열을 선택하는 다른 방법"
      ]
    },
    {
      "cell_type": "code",
      "execution_count": null,
      "metadata": {
        "id": "l8fHIeXd_aIN"
      },
      "outputs": [],
      "source": [
        "X_new = df_new.loc[:, ~df_new.columns.isin(['EventId','Weight','Label'])]\n",
        "y_new = df_new.loc[:, 'Label']\n",
        "\n",
        "# 이건 컬럼이름을 기준으로 변형"
      ]
    },
    {
      "cell_type": "code",
      "execution_count": 35,
      "metadata": {
        "id": "UIKZNb8o_aIN",
        "outputId": "0bd9eab7-bf2f-43f8-b0d6-aa2788b4d6b4",
        "colab": {
          "base_uri": "https://localhost:8080/"
        }
      },
      "outputs": [
        {
          "output_type": "execute_result",
          "data": {
            "text/plain": [
              "array([1, 0, 0, ..., 1, 0, 0])"
            ]
          },
          "metadata": {},
          "execution_count": 35
        }
      ],
      "source": [
        "from sklearn.preprocessing import LabelEncoder\n",
        "\n",
        "le = LabelEncoder()\n",
        "y_new = le.fit_transform(df_new['Label'])\n",
        "y_new"
      ]
    },
    {
      "cell_type": "code",
      "execution_count": 36,
      "metadata": {
        "scrolled": true,
        "id": "MXQCBXcb_aIN",
        "outputId": "8df7407c-4a12-4291-936f-1a382034e772",
        "colab": {
          "base_uri": "https://localhost:8080/"
        }
      },
      "outputs": [
        {
          "output_type": "stream",
          "name": "stdout",
          "text": [
            "['b' 's']\n"
          ]
        }
      ],
      "source": [
        "print(le.classes_)"
      ]
    },
    {
      "cell_type": "markdown",
      "metadata": {
        "id": "loH5gVMz_aIN"
      },
      "source": [
        " "
      ]
    },
    {
      "cell_type": "markdown",
      "metadata": {
        "id": "15y14tdw_aIN"
      },
      "source": [
        "### 측정 지표"
      ]
    },
    {
      "cell_type": "code",
      "execution_count": 38,
      "metadata": {
        "id": "zILdVmI1_aIN",
        "outputId": "3fba673e-6cb8-463f-bbe6-4867d5d82667",
        "colab": {
          "base_uri": "https://localhost:8080/"
        }
      },
      "outputs": [
        {
          "output_type": "stream",
          "name": "stdout",
          "text": [
            "[0]\tvalidation_0-mlogloss:0.73655\tvalidation_1-mlogloss:0.74850\n",
            "[1]\tvalidation_0-mlogloss:0.52525\tvalidation_1-mlogloss:0.54465\n",
            "[2]\tvalidation_0-mlogloss:0.38855\tvalidation_1-mlogloss:0.41754\n",
            "[3]\tvalidation_0-mlogloss:0.29493\tvalidation_1-mlogloss:0.33279\n",
            "[4]\tvalidation_0-mlogloss:0.22880\tvalidation_1-mlogloss:0.27454\n"
          ]
        },
        {
          "output_type": "execute_result",
          "data": {
            "text/plain": [
              "XGBClassifier(base_score=0.5, booster='gbtree', callbacks=None,\n",
              "              colsample_bylevel=1, colsample_bynode=1, colsample_bytree=1,\n",
              "              early_stopping_rounds=None, enable_categorical=False,\n",
              "              eval_metric=None, gamma=0, gpu_id=-1, grow_policy='depthwise',\n",
              "              importance_type=None, interaction_constraints='',\n",
              "              learning_rate=0.300000012, max_bin=256, max_cat_to_onehot=4,\n",
              "              max_delta_step=0, max_depth=6, max_leaves=0, min_child_weight=1,\n",
              "              missing=nan, monotone_constraints='()', n_estimators=5, n_jobs=0,\n",
              "              num_parallel_tree=1, objective='multi:softprob', predictor='auto',\n",
              "              random_state=0, reg_alpha=0, ...)"
            ]
          },
          "metadata": {},
          "execution_count": 38
        }
      ],
      "source": [
        "xgb = XGBClassifier(n_estimators=5)\n",
        "xgb.fit(X_train, y_train, \n",
        "        eval_set=[(X_train, y_train), (X_test, y_test)],\n",
        "        eval_metric='mlogloss')\n",
        "\n",
        "# mlogloss -> multi -"
      ]
    },
    {
      "cell_type": "code",
      "execution_count": 39,
      "metadata": {
        "scrolled": true,
        "id": "dc4PDDV1_aIN",
        "outputId": "0ccba157-1c32-485e-f63b-3bdec2eb1df3",
        "colab": {
          "base_uri": "https://localhost:8080/"
        }
      },
      "outputs": [
        {
          "output_type": "execute_result",
          "data": {
            "text/plain": [
              "{'validation_0': OrderedDict([('mlogloss',\n",
              "               [0.7365548280732972,\n",
              "                0.5252466491822686,\n",
              "                0.3885539788752794,\n",
              "                0.2949308359197208,\n",
              "                0.22880319266447])]),\n",
              " 'validation_1': OrderedDict([('mlogloss',\n",
              "               [0.7485030999309138,\n",
              "                0.5446543285721227,\n",
              "                0.4175380499739396,\n",
              "                0.33279044534030716,\n",
              "                0.2745441574799387])])}"
            ]
          },
          "metadata": {},
          "execution_count": 39
        }
      ],
      "source": [
        "xgb.evals_result()"
      ]
    },
    {
      "cell_type": "markdown",
      "metadata": {
        "id": "P9fC_rzQ_aIO"
      },
      "source": [
        "### 가중치"
      ]
    },
    {
      "cell_type": "code",
      "execution_count": 40,
      "metadata": {
        "id": "nnBUAu6D_aIO"
      },
      "outputs": [],
      "source": [
        "df['test_Weight'] = df['Weight'] * 550000 / len(y)"
      ]
    },
    {
      "cell_type": "code",
      "execution_count": 41,
      "metadata": {
        "id": "GkxYqpgW_aIO"
      },
      "outputs": [],
      "source": [
        "s = np.sum(df[df['Label']==1]['test_Weight'])\n",
        "b = np.sum(df[df['Label']==0]['test_Weight'])"
      ]
    },
    {
      "cell_type": "code",
      "execution_count": 42,
      "metadata": {
        "scrolled": true,
        "id": "GWHzL4J8_aIO",
        "outputId": "719a1fd5-8b77-490a-d12d-8b874e1871e4",
        "colab": {
          "base_uri": "https://localhost:8080/"
        }
      },
      "outputs": [
        {
          "output_type": "execute_result",
          "data": {
            "text/plain": [
              "593.9401931492318"
            ]
          },
          "metadata": {},
          "execution_count": 42
        }
      ],
      "source": [
        "b/s"
      ]
    },
    {
      "cell_type": "markdown",
      "metadata": {
        "id": "FGPNPyIv_aIO"
      },
      "source": [
        "### 모델"
      ]
    },
    {
      "cell_type": "code",
      "execution_count": 43,
      "metadata": {
        "id": "mi0cNOYR_aIO",
        "outputId": "1e5ffae6-33dc-4b01-96b0-1853397995f4",
        "colab": {
          "base_uri": "https://localhost:8080/",
          "height": 900
        }
      },
      "outputs": [
        {
          "output_type": "stream",
          "name": "stdout",
          "text": [
            "데이터 로딩 완료, 트리 부스팅 시작\n",
            "[0]\ttrain-auc:0.91091\ttrain-ams@0.15:3.71929\n",
            "[1]\ttrain-auc:0.91535\ttrain-ams@0.15:3.99108\n",
            "[2]\ttrain-auc:0.91800\ttrain-ams@0.15:4.11401\n",
            "[3]\ttrain-auc:0.91953\ttrain-ams@0.15:4.24602\n",
            "[4]\ttrain-auc:0.92050\ttrain-ams@0.15:4.24262\n",
            "[5]\ttrain-auc:0.92133\ttrain-ams@0.15:4.25282\n",
            "[6]\ttrain-auc:0.92226\ttrain-ams@0.15:4.33230\n",
            "[7]\ttrain-auc:0.92338\ttrain-ams@0.15:4.35821\n",
            "[8]\ttrain-auc:0.92389\ttrain-ams@0.15:4.37353\n",
            "[9]\ttrain-auc:0.92427\ttrain-ams@0.15:4.36459\n",
            "[10]\ttrain-auc:0.92484\ttrain-ams@0.15:4.36423\n",
            "[11]\ttrain-auc:0.92543\ttrain-ams@0.15:4.40963\n",
            "[12]\ttrain-auc:0.92584\ttrain-ams@0.15:4.41484\n",
            "[13]\ttrain-auc:0.92645\ttrain-ams@0.15:4.46174\n",
            "[14]\ttrain-auc:0.92688\ttrain-ams@0.15:4.43823\n",
            "[15]\ttrain-auc:0.92738\ttrain-ams@0.15:4.47194\n",
            "[16]\ttrain-auc:0.92805\ttrain-ams@0.15:4.52048\n",
            "[17]\ttrain-auc:0.92848\ttrain-ams@0.15:4.57089\n",
            "[18]\ttrain-auc:0.92903\ttrain-ams@0.15:4.60307\n",
            "[19]\ttrain-auc:0.92937\ttrain-ams@0.15:4.65550\n",
            "[20]\ttrain-auc:0.92989\ttrain-ams@0.15:4.69064\n",
            "[21]\ttrain-auc:0.93018\ttrain-ams@0.15:4.71372\n",
            "[22]\ttrain-auc:0.93059\ttrain-ams@0.15:4.73438\n",
            "[23]\ttrain-auc:0.93101\ttrain-ams@0.15:4.77706\n",
            "[24]\ttrain-auc:0.93133\ttrain-ams@0.15:4.78063\n",
            "[25]\ttrain-auc:0.93166\ttrain-ams@0.15:4.78428\n",
            "[26]\ttrain-auc:0.93189\ttrain-ams@0.15:4.81150\n",
            "[27]\ttrain-auc:0.93219\ttrain-ams@0.15:4.82571\n",
            "[28]\ttrain-auc:0.93252\ttrain-ams@0.15:4.84796\n",
            "[29]\ttrain-auc:0.93289\ttrain-ams@0.15:4.87463\n"
          ]
        },
        {
          "output_type": "error",
          "ename": "KeyboardInterrupt",
          "evalue": "ignored",
          "traceback": [
            "\u001b[0;31m---------------------------------------------------------------------------\u001b[0m",
            "\u001b[0;31mKeyboardInterrupt\u001b[0m                         Traceback (most recent call last)",
            "\u001b[0;32m<ipython-input-43-006e99a1fe07>\u001b[0m in \u001b[0;36m<module>\u001b[0;34m\u001b[0m\n\u001b[1;32m     23\u001b[0m \u001b[0;34m\u001b[0m\u001b[0m\n\u001b[1;32m     24\u001b[0m \u001b[0mprint\u001b[0m\u001b[0;34m(\u001b[0m\u001b[0;34m'데이터 로딩 완료, 트리 부스팅 시작'\u001b[0m\u001b[0;34m)\u001b[0m\u001b[0;34m\u001b[0m\u001b[0;34m\u001b[0m\u001b[0m\n\u001b[0;32m---> 25\u001b[0;31m \u001b[0mbst\u001b[0m \u001b[0;34m=\u001b[0m \u001b[0mxgb\u001b[0m\u001b[0;34m.\u001b[0m\u001b[0mtrain\u001b[0m\u001b[0;34m(\u001b[0m\u001b[0mplst\u001b[0m\u001b[0;34m,\u001b[0m \u001b[0mxgmat\u001b[0m\u001b[0;34m,\u001b[0m \u001b[0mnum_round\u001b[0m\u001b[0;34m,\u001b[0m \u001b[0mwatchlist\u001b[0m\u001b[0;34m)\u001b[0m\u001b[0;34m\u001b[0m\u001b[0;34m\u001b[0m\u001b[0m\n\u001b[0m\u001b[1;32m     26\u001b[0m \u001b[0mbst\u001b[0m\u001b[0;34m.\u001b[0m\u001b[0msave_model\u001b[0m\u001b[0;34m(\u001b[0m\u001b[0;34m'higgs.model'\u001b[0m\u001b[0;34m)\u001b[0m\u001b[0;34m\u001b[0m\u001b[0;34m\u001b[0m\u001b[0m\n\u001b[1;32m     27\u001b[0m \u001b[0mprint\u001b[0m\u001b[0;34m(\u001b[0m\u001b[0;34m'훈련 종료'\u001b[0m\u001b[0;34m)\u001b[0m\u001b[0;34m\u001b[0m\u001b[0;34m\u001b[0m\u001b[0m\n",
            "\u001b[0;32m/usr/local/lib/python3.7/dist-packages/xgboost/core.py\u001b[0m in \u001b[0;36minner_f\u001b[0;34m(*args, **kwargs)\u001b[0m\n\u001b[1;32m    573\u001b[0m         \u001b[0;32mfor\u001b[0m \u001b[0mk\u001b[0m\u001b[0;34m,\u001b[0m \u001b[0marg\u001b[0m \u001b[0;32min\u001b[0m \u001b[0mzip\u001b[0m\u001b[0;34m(\u001b[0m\u001b[0msig\u001b[0m\u001b[0;34m.\u001b[0m\u001b[0mparameters\u001b[0m\u001b[0;34m,\u001b[0m \u001b[0margs\u001b[0m\u001b[0;34m)\u001b[0m\u001b[0;34m:\u001b[0m\u001b[0;34m\u001b[0m\u001b[0;34m\u001b[0m\u001b[0m\n\u001b[1;32m    574\u001b[0m             \u001b[0mkwargs\u001b[0m\u001b[0;34m[\u001b[0m\u001b[0mk\u001b[0m\u001b[0;34m]\u001b[0m \u001b[0;34m=\u001b[0m \u001b[0marg\u001b[0m\u001b[0;34m\u001b[0m\u001b[0;34m\u001b[0m\u001b[0m\n\u001b[0;32m--> 575\u001b[0;31m         \u001b[0;32mreturn\u001b[0m \u001b[0mf\u001b[0m\u001b[0;34m(\u001b[0m\u001b[0;34m**\u001b[0m\u001b[0mkwargs\u001b[0m\u001b[0;34m)\u001b[0m\u001b[0;34m\u001b[0m\u001b[0;34m\u001b[0m\u001b[0m\n\u001b[0m\u001b[1;32m    576\u001b[0m \u001b[0;34m\u001b[0m\u001b[0m\n\u001b[1;32m    577\u001b[0m     \u001b[0;32mreturn\u001b[0m \u001b[0minner_f\u001b[0m\u001b[0;34m\u001b[0m\u001b[0;34m\u001b[0m\u001b[0m\n",
            "\u001b[0;32m/usr/local/lib/python3.7/dist-packages/xgboost/training.py\u001b[0m in \u001b[0;36mtrain\u001b[0;34m(params, dtrain, num_boost_round, evals, obj, feval, maximize, early_stopping_rounds, evals_result, verbose_eval, xgb_model, callbacks, custom_metric)\u001b[0m\n\u001b[1;32m    180\u001b[0m             \u001b[0;32mbreak\u001b[0m\u001b[0;34m\u001b[0m\u001b[0;34m\u001b[0m\u001b[0m\n\u001b[1;32m    181\u001b[0m         \u001b[0mbst\u001b[0m\u001b[0;34m.\u001b[0m\u001b[0mupdate\u001b[0m\u001b[0;34m(\u001b[0m\u001b[0mdtrain\u001b[0m\u001b[0;34m,\u001b[0m \u001b[0mi\u001b[0m\u001b[0;34m,\u001b[0m \u001b[0mobj\u001b[0m\u001b[0;34m)\u001b[0m\u001b[0;34m\u001b[0m\u001b[0;34m\u001b[0m\u001b[0m\n\u001b[0;32m--> 182\u001b[0;31m         \u001b[0;32mif\u001b[0m \u001b[0mcb_container\u001b[0m\u001b[0;34m.\u001b[0m\u001b[0mafter_iteration\u001b[0m\u001b[0;34m(\u001b[0m\u001b[0mbst\u001b[0m\u001b[0;34m,\u001b[0m \u001b[0mi\u001b[0m\u001b[0;34m,\u001b[0m \u001b[0mdtrain\u001b[0m\u001b[0;34m,\u001b[0m \u001b[0mevals\u001b[0m\u001b[0;34m)\u001b[0m\u001b[0;34m:\u001b[0m\u001b[0;34m\u001b[0m\u001b[0;34m\u001b[0m\u001b[0m\n\u001b[0m\u001b[1;32m    183\u001b[0m             \u001b[0;32mbreak\u001b[0m\u001b[0;34m\u001b[0m\u001b[0;34m\u001b[0m\u001b[0m\n\u001b[1;32m    184\u001b[0m \u001b[0;34m\u001b[0m\u001b[0m\n",
            "\u001b[0;32m/usr/local/lib/python3.7/dist-packages/xgboost/callback.py\u001b[0m in \u001b[0;36mafter_iteration\u001b[0;34m(self, model, epoch, dtrain, evals)\u001b[0m\n\u001b[1;32m    237\u001b[0m             \u001b[0;32mfor\u001b[0m \u001b[0m_\u001b[0m\u001b[0;34m,\u001b[0m \u001b[0mname\u001b[0m \u001b[0;32min\u001b[0m \u001b[0mevals\u001b[0m\u001b[0;34m:\u001b[0m\u001b[0;34m\u001b[0m\u001b[0;34m\u001b[0m\u001b[0m\n\u001b[1;32m    238\u001b[0m                 \u001b[0;32massert\u001b[0m \u001b[0mname\u001b[0m\u001b[0;34m.\u001b[0m\u001b[0mfind\u001b[0m\u001b[0;34m(\u001b[0m\u001b[0;34m'-'\u001b[0m\u001b[0;34m)\u001b[0m \u001b[0;34m==\u001b[0m \u001b[0;34m-\u001b[0m\u001b[0;36m1\u001b[0m\u001b[0;34m,\u001b[0m \u001b[0;34m'Dataset name should not contain `-`'\u001b[0m\u001b[0;34m\u001b[0m\u001b[0;34m\u001b[0m\u001b[0m\n\u001b[0;32m--> 239\u001b[0;31m             \u001b[0mscore\u001b[0m\u001b[0;34m:\u001b[0m \u001b[0mstr\u001b[0m \u001b[0;34m=\u001b[0m \u001b[0mmodel\u001b[0m\u001b[0;34m.\u001b[0m\u001b[0meval_set\u001b[0m\u001b[0;34m(\u001b[0m\u001b[0mevals\u001b[0m\u001b[0;34m,\u001b[0m \u001b[0mepoch\u001b[0m\u001b[0;34m,\u001b[0m \u001b[0mself\u001b[0m\u001b[0;34m.\u001b[0m\u001b[0mmetric\u001b[0m\u001b[0;34m,\u001b[0m \u001b[0mself\u001b[0m\u001b[0;34m.\u001b[0m\u001b[0m_output_margin\u001b[0m\u001b[0;34m)\u001b[0m\u001b[0;34m\u001b[0m\u001b[0;34m\u001b[0m\u001b[0m\n\u001b[0m\u001b[1;32m    240\u001b[0m             \u001b[0msplited\u001b[0m \u001b[0;34m=\u001b[0m \u001b[0mscore\u001b[0m\u001b[0;34m.\u001b[0m\u001b[0msplit\u001b[0m\u001b[0;34m(\u001b[0m\u001b[0;34m)\u001b[0m\u001b[0;34m[\u001b[0m\u001b[0;36m1\u001b[0m\u001b[0;34m:\u001b[0m\u001b[0;34m]\u001b[0m  \u001b[0;31m# into datasets\u001b[0m\u001b[0;34m\u001b[0m\u001b[0;34m\u001b[0m\u001b[0m\n\u001b[1;32m    241\u001b[0m             \u001b[0;31m# split up `test-error:0.1234`\u001b[0m\u001b[0;34m\u001b[0m\u001b[0;34m\u001b[0m\u001b[0;34m\u001b[0m\u001b[0m\n",
            "\u001b[0;32m/usr/local/lib/python3.7/dist-packages/xgboost/core.py\u001b[0m in \u001b[0;36meval_set\u001b[0;34m(self, evals, iteration, feval, output_margin)\u001b[0m\n\u001b[1;32m   1853\u001b[0m                 \u001b[0mevnames\u001b[0m\u001b[0;34m,\u001b[0m\u001b[0;34m\u001b[0m\u001b[0;34m\u001b[0m\u001b[0m\n\u001b[1;32m   1854\u001b[0m                 \u001b[0mc_bst_ulong\u001b[0m\u001b[0;34m(\u001b[0m\u001b[0mlen\u001b[0m\u001b[0;34m(\u001b[0m\u001b[0mevals\u001b[0m\u001b[0;34m)\u001b[0m\u001b[0;34m)\u001b[0m\u001b[0;34m,\u001b[0m\u001b[0;34m\u001b[0m\u001b[0;34m\u001b[0m\u001b[0m\n\u001b[0;32m-> 1855\u001b[0;31m                 \u001b[0mctypes\u001b[0m\u001b[0;34m.\u001b[0m\u001b[0mbyref\u001b[0m\u001b[0;34m(\u001b[0m\u001b[0mmsg\u001b[0m\u001b[0;34m)\u001b[0m\u001b[0;34m,\u001b[0m\u001b[0;34m\u001b[0m\u001b[0;34m\u001b[0m\u001b[0m\n\u001b[0m\u001b[1;32m   1856\u001b[0m             )\n\u001b[1;32m   1857\u001b[0m         )\n",
            "\u001b[0;31mKeyboardInterrupt\u001b[0m: "
          ]
        }
      ],
      "source": [
        "import xgboost as xgb\n",
        "\n",
        "# 넘파이 배열로 xgboost.DMatrix 만들기. -999.0는 누락된 값으로 다룹니다.\n",
        "xgmat = xgb.DMatrix(X, y, missing = -999.0, weight=df['test_Weight'])\n",
        "\n",
        "# xgboost 파라미터 설정\n",
        "param = {}\n",
        "# 랭킹만 필요하기 때문에 로지스틱 함수를 적용하기 전의 출력을 사용합니다.\n",
        "param['objective'] = 'binary:logitraw'\n",
        "# 양성 샘플의 가중치를 조정합니다.\n",
        "param['scale_pos_weight'] = b/s\n",
        "param['eta'] = 0.1\n",
        "param['max_depth'] = 6\n",
        "param['eval_metric'] = 'auc'\n",
        "\n",
        "# ams 지표를 추가합니다.\n",
        "plst = list(param.items())+[('eval_metric', 'ams@0.15')]\n",
        "\n",
        "watchlist = [(xgmat,'train')]\n",
        "\n",
        "# 120개 트리 부스팅\n",
        "num_round = 120\n",
        "\n",
        "print('데이터 로딩 완료, 트리 부스팅 시작')\n",
        "bst = xgb.train(plst, xgmat, num_round, watchlist)\n",
        "bst.save_model('higgs.model')\n",
        "print('훈련 종료')"
      ]
    },
    {
      "cell_type": "markdown",
      "metadata": {
        "id": "FHm3ldFx_aIO"
      },
      "source": [
        "##### 사이킷런 API로 구현하기"
      ]
    },
    {
      "cell_type": "code",
      "execution_count": null,
      "metadata": {
        "id": "DBukUiA4_aIO",
        "outputId": "18820808-447e-4a8a-e9a2-cfa6a5842e19"
      },
      "outputs": [
        {
          "name": "stdout",
          "output_type": "stream",
          "text": [
            "[0]\tvalidation_0-auc:0.91091\tvalidation_0-ams@0.15:3.70024\n",
            "[1]\tvalidation_0-auc:0.91531\tvalidation_0-ams@0.15:3.97742\n",
            "[2]\tvalidation_0-auc:0.91774\tvalidation_0-ams@0.15:4.07677\n",
            "[3]\tvalidation_0-auc:0.91935\tvalidation_0-ams@0.15:4.20546\n",
            "[4]\tvalidation_0-auc:0.92014\tvalidation_0-ams@0.15:4.13620\n",
            "[5]\tvalidation_0-auc:0.92102\tvalidation_0-ams@0.15:4.16953\n",
            "[6]\tvalidation_0-auc:0.92194\tvalidation_0-ams@0.15:4.26084\n",
            "[7]\tvalidation_0-auc:0.92234\tvalidation_0-ams@0.15:4.26244\n",
            "[8]\tvalidation_0-auc:0.92333\tvalidation_0-ams@0.15:4.32964\n",
            "[9]\tvalidation_0-auc:0.92419\tvalidation_0-ams@0.15:4.38172\n",
            "[10]\tvalidation_0-auc:0.92474\tvalidation_0-ams@0.15:4.39413\n",
            "[11]\tvalidation_0-auc:0.92532\tvalidation_0-ams@0.15:4.40828\n",
            "[12]\tvalidation_0-auc:0.92592\tvalidation_0-ams@0.15:4.44710\n",
            "[13]\tvalidation_0-auc:0.92633\tvalidation_0-ams@0.15:4.45121\n",
            "[14]\tvalidation_0-auc:0.92696\tvalidation_0-ams@0.15:4.48980\n",
            "[15]\tvalidation_0-auc:0.92743\tvalidation_0-ams@0.15:4.51729\n",
            "[16]\tvalidation_0-auc:0.92808\tvalidation_0-ams@0.15:4.53496\n",
            "[17]\tvalidation_0-auc:0.92847\tvalidation_0-ams@0.15:4.54940\n",
            "[18]\tvalidation_0-auc:0.92903\tvalidation_0-ams@0.15:4.59773\n",
            "[19]\tvalidation_0-auc:0.92952\tvalidation_0-ams@0.15:4.64241\n",
            "[20]\tvalidation_0-auc:0.93004\tvalidation_0-ams@0.15:4.71380\n",
            "[21]\tvalidation_0-auc:0.93041\tvalidation_0-ams@0.15:4.70014\n",
            "[22]\tvalidation_0-auc:0.93073\tvalidation_0-ams@0.15:4.71410\n",
            "[23]\tvalidation_0-auc:0.93113\tvalidation_0-ams@0.15:4.74078\n",
            "[24]\tvalidation_0-auc:0.93142\tvalidation_0-ams@0.15:4.76880\n",
            "[25]\tvalidation_0-auc:0.93172\tvalidation_0-ams@0.15:4.79217\n",
            "[26]\tvalidation_0-auc:0.93206\tvalidation_0-ams@0.15:4.80380\n",
            "[27]\tvalidation_0-auc:0.93238\tvalidation_0-ams@0.15:4.81249\n",
            "[28]\tvalidation_0-auc:0.93273\tvalidation_0-ams@0.15:4.83062\n",
            "[29]\tvalidation_0-auc:0.93308\tvalidation_0-ams@0.15:4.85423\n",
            "[30]\tvalidation_0-auc:0.93332\tvalidation_0-ams@0.15:4.87409\n",
            "[31]\tvalidation_0-auc:0.93363\tvalidation_0-ams@0.15:4.87928\n",
            "[32]\tvalidation_0-auc:0.93399\tvalidation_0-ams@0.15:4.89428\n",
            "[33]\tvalidation_0-auc:0.93421\tvalidation_0-ams@0.15:4.95386\n",
            "[34]\tvalidation_0-auc:0.93450\tvalidation_0-ams@0.15:4.97112\n",
            "[35]\tvalidation_0-auc:0.93481\tvalidation_0-ams@0.15:4.97906\n",
            "[36]\tvalidation_0-auc:0.93516\tvalidation_0-ams@0.15:5.00485\n",
            "[37]\tvalidation_0-auc:0.93541\tvalidation_0-ams@0.15:5.02180\n",
            "[38]\tvalidation_0-auc:0.93566\tvalidation_0-ams@0.15:5.05152\n",
            "[39]\tvalidation_0-auc:0.93588\tvalidation_0-ams@0.15:5.05200\n",
            "[40]\tvalidation_0-auc:0.93608\tvalidation_0-ams@0.15:5.07530\n",
            "[41]\tvalidation_0-auc:0.93627\tvalidation_0-ams@0.15:5.10348\n",
            "[42]\tvalidation_0-auc:0.93649\tvalidation_0-ams@0.15:5.12291\n",
            "[43]\tvalidation_0-auc:0.93668\tvalidation_0-ams@0.15:5.14195\n",
            "[44]\tvalidation_0-auc:0.93694\tvalidation_0-ams@0.15:5.16767\n",
            "[45]\tvalidation_0-auc:0.93712\tvalidation_0-ams@0.15:5.16743\n",
            "[46]\tvalidation_0-auc:0.93736\tvalidation_0-ams@0.15:5.20140\n",
            "[47]\tvalidation_0-auc:0.93756\tvalidation_0-ams@0.15:5.22158\n",
            "[48]\tvalidation_0-auc:0.93773\tvalidation_0-ams@0.15:5.22387\n",
            "[49]\tvalidation_0-auc:0.93796\tvalidation_0-ams@0.15:5.27570\n",
            "[50]\tvalidation_0-auc:0.93818\tvalidation_0-ams@0.15:5.28004\n",
            "[51]\tvalidation_0-auc:0.93838\tvalidation_0-ams@0.15:5.29086\n",
            "[52]\tvalidation_0-auc:0.93858\tvalidation_0-ams@0.15:5.32102\n",
            "[53]\tvalidation_0-auc:0.93874\tvalidation_0-ams@0.15:5.31615\n",
            "[54]\tvalidation_0-auc:0.93893\tvalidation_0-ams@0.15:5.32910\n",
            "[55]\tvalidation_0-auc:0.93906\tvalidation_0-ams@0.15:5.34457\n",
            "[56]\tvalidation_0-auc:0.93922\tvalidation_0-ams@0.15:5.37421\n",
            "[57]\tvalidation_0-auc:0.93938\tvalidation_0-ams@0.15:5.39183\n",
            "[58]\tvalidation_0-auc:0.93955\tvalidation_0-ams@0.15:5.40929\n",
            "[59]\tvalidation_0-auc:0.93966\tvalidation_0-ams@0.15:5.42768\n",
            "[60]\tvalidation_0-auc:0.93984\tvalidation_0-ams@0.15:5.44643\n",
            "[61]\tvalidation_0-auc:0.93993\tvalidation_0-ams@0.15:5.45045\n",
            "[62]\tvalidation_0-auc:0.94008\tvalidation_0-ams@0.15:5.44785\n",
            "[63]\tvalidation_0-auc:0.94018\tvalidation_0-ams@0.15:5.44819\n",
            "[64]\tvalidation_0-auc:0.94031\tvalidation_0-ams@0.15:5.45903\n",
            "[65]\tvalidation_0-auc:0.94043\tvalidation_0-ams@0.15:5.47290\n",
            "[66]\tvalidation_0-auc:0.94055\tvalidation_0-ams@0.15:5.48829\n",
            "[67]\tvalidation_0-auc:0.94070\tvalidation_0-ams@0.15:5.48777\n",
            "[68]\tvalidation_0-auc:0.94080\tvalidation_0-ams@0.15:5.50985\n",
            "[69]\tvalidation_0-auc:0.94093\tvalidation_0-ams@0.15:5.52734\n",
            "[70]\tvalidation_0-auc:0.94102\tvalidation_0-ams@0.15:5.55487\n",
            "[71]\tvalidation_0-auc:0.94116\tvalidation_0-ams@0.15:5.56277\n",
            "[72]\tvalidation_0-auc:0.94128\tvalidation_0-ams@0.15:5.56112\n",
            "[73]\tvalidation_0-auc:0.94138\tvalidation_0-ams@0.15:5.56902\n",
            "[74]\tvalidation_0-auc:0.94148\tvalidation_0-ams@0.15:5.59165\n",
            "[75]\tvalidation_0-auc:0.94157\tvalidation_0-ams@0.15:5.59139\n",
            "[76]\tvalidation_0-auc:0.94166\tvalidation_0-ams@0.15:5.59352\n",
            "[77]\tvalidation_0-auc:0.94185\tvalidation_0-ams@0.15:5.61831\n",
            "[78]\tvalidation_0-auc:0.94194\tvalidation_0-ams@0.15:5.61897\n",
            "[79]\tvalidation_0-auc:0.94209\tvalidation_0-ams@0.15:5.63373\n",
            "[80]\tvalidation_0-auc:0.94223\tvalidation_0-ams@0.15:5.63921\n",
            "[81]\tvalidation_0-auc:0.94230\tvalidation_0-ams@0.15:5.64246\n",
            "[82]\tvalidation_0-auc:0.94236\tvalidation_0-ams@0.15:5.65008\n",
            "[83]\tvalidation_0-auc:0.94243\tvalidation_0-ams@0.15:5.64747\n",
            "[84]\tvalidation_0-auc:0.94258\tvalidation_0-ams@0.15:5.64577\n",
            "[85]\tvalidation_0-auc:0.94266\tvalidation_0-ams@0.15:5.65127\n",
            "[86]\tvalidation_0-auc:0.94277\tvalidation_0-ams@0.15:5.67452\n",
            "[87]\tvalidation_0-auc:0.94288\tvalidation_0-ams@0.15:5.68806\n",
            "[88]\tvalidation_0-auc:0.94302\tvalidation_0-ams@0.15:5.68992\n",
            "[89]\tvalidation_0-auc:0.94321\tvalidation_0-ams@0.15:5.71971\n",
            "[90]\tvalidation_0-auc:0.94326\tvalidation_0-ams@0.15:5.72398\n",
            "[91]\tvalidation_0-auc:0.94336\tvalidation_0-ams@0.15:5.73867\n",
            "[92]\tvalidation_0-auc:0.94343\tvalidation_0-ams@0.15:5.73210\n",
            "[93]\tvalidation_0-auc:0.94352\tvalidation_0-ams@0.15:5.72847\n",
            "[94]\tvalidation_0-auc:0.94360\tvalidation_0-ams@0.15:5.73897\n",
            "[95]\tvalidation_0-auc:0.94374\tvalidation_0-ams@0.15:5.75322\n",
            "[96]\tvalidation_0-auc:0.94379\tvalidation_0-ams@0.15:5.75931\n",
            "[97]\tvalidation_0-auc:0.94386\tvalidation_0-ams@0.15:5.75877\n",
            "[98]\tvalidation_0-auc:0.94396\tvalidation_0-ams@0.15:5.75495\n",
            "[99]\tvalidation_0-auc:0.94406\tvalidation_0-ams@0.15:5.77067\n",
            "[100]\tvalidation_0-auc:0.94413\tvalidation_0-ams@0.15:5.78728\n",
            "[101]\tvalidation_0-auc:0.94426\tvalidation_0-ams@0.15:5.81762\n",
            "[102]\tvalidation_0-auc:0.94436\tvalidation_0-ams@0.15:5.83061\n",
            "[103]\tvalidation_0-auc:0.94442\tvalidation_0-ams@0.15:5.82846\n",
            "[104]\tvalidation_0-auc:0.94450\tvalidation_0-ams@0.15:5.83894\n",
            "[105]\tvalidation_0-auc:0.94455\tvalidation_0-ams@0.15:5.83624\n",
            "[106]\tvalidation_0-auc:0.94458\tvalidation_0-ams@0.15:5.83541\n",
            "[107]\tvalidation_0-auc:0.94469\tvalidation_0-ams@0.15:5.83823\n",
            "[108]\tvalidation_0-auc:0.94481\tvalidation_0-ams@0.15:5.84147\n",
            "[109]\tvalidation_0-auc:0.94491\tvalidation_0-ams@0.15:5.84375\n",
            "[110]\tvalidation_0-auc:0.94505\tvalidation_0-ams@0.15:5.84829\n",
            "[111]\tvalidation_0-auc:0.94507\tvalidation_0-ams@0.15:5.85186\n",
            "[112]\tvalidation_0-auc:0.94518\tvalidation_0-ams@0.15:5.84451\n",
            "[113]\tvalidation_0-auc:0.94523\tvalidation_0-ams@0.15:5.84006\n",
            "[114]\tvalidation_0-auc:0.94532\tvalidation_0-ams@0.15:5.85800\n",
            "[115]\tvalidation_0-auc:0.94536\tvalidation_0-ams@0.15:5.86228\n",
            "[116]\tvalidation_0-auc:0.94550\tvalidation_0-ams@0.15:5.91160\n",
            "[117]\tvalidation_0-auc:0.94554\tvalidation_0-ams@0.15:5.91842\n",
            "[118]\tvalidation_0-auc:0.94565\tvalidation_0-ams@0.15:5.93729\n",
            "[119]\tvalidation_0-auc:0.94580\tvalidation_0-ams@0.15:5.93562\n"
          ]
        }
      ],
      "source": [
        "clf = XGBClassifier(n_estimators=120, learning_rate=0.1, missing=-999.0, \n",
        "                    scale_pos_weight=b/s)\n",
        "\n",
        "clf.fit(X, y, sample_weight=df['test_Weight'], \n",
        "        eval_set=[(X, y)], eval_metric=['auc', 'ams@0.15'],\n",
        "        sample_weight_eval_set=[df['test_Weight']])\n",
        "\n",
        "clf.save_model('higgs-sklearn.model')"
      ]
    },
    {
      "cell_type": "code",
      "execution_count": null,
      "metadata": {
        "id": "Pk2gPiWA_aIO",
        "outputId": "1d62bcad-83d8-4703-f29f-936ce8c7a027"
      },
      "outputs": [
        {
          "data": {
            "text/plain": [
              "{'validation_0': OrderedDict([('auc',\n",
              "               [0.910911121245328,\n",
              "                0.9153075565204724,\n",
              "                0.9177425637607691,\n",
              "                0.9193451707006353,\n",
              "                0.9201387259271532,\n",
              "                0.9210228657574712,\n",
              "                0.9219436673788809,\n",
              "                0.9223374307608306,\n",
              "                0.9233299557910364,\n",
              "                0.9241862369604908,\n",
              "                0.9247368586444726,\n",
              "                0.9253168235329534,\n",
              "                0.9259226966190566,\n",
              "                0.9263338816612989,\n",
              "                0.9269582907714696,\n",
              "                0.9274275958592545,\n",
              "                0.9280811353634686,\n",
              "                0.9284680048272551,\n",
              "                0.9290349645288697,\n",
              "                0.9295197089339288,\n",
              "                0.9300404740456479,\n",
              "                0.9304065602632191,\n",
              "                0.9307342640086455,\n",
              "                0.9311335049352224,\n",
              "                0.9314240026414097,\n",
              "                0.9317187324394958,\n",
              "                0.9320577292498118,\n",
              "                0.932383961262895,\n",
              "                0.9327273332186885,\n",
              "                0.9330823245192349,\n",
              "                0.9333161495430224,\n",
              "                0.9336317391926914,\n",
              "                0.9339884562005873,\n",
              "                0.934209438274959,\n",
              "                0.9345018535961818,\n",
              "                0.9348070649018414,\n",
              "                0.935157744146686,\n",
              "                0.9354088647552191,\n",
              "                0.9356590464502992,\n",
              "                0.9358806474509377,\n",
              "                0.9360757702521101,\n",
              "                0.9362659663080147,\n",
              "                0.9364935387827521,\n",
              "                0.9366837336546314,\n",
              "                0.9369368897409984,\n",
              "                0.9371165729803894,\n",
              "                0.9373617376219965,\n",
              "                0.93755531408595,\n",
              "                0.9377276016961107,\n",
              "                0.9379595631162595,\n",
              "                0.9381823389421644,\n",
              "                0.9383808954918702,\n",
              "                0.9385835425206408,\n",
              "                0.9387404612892898,\n",
              "                0.9389268926581495,\n",
              "                0.9390631646972325,\n",
              "                0.9392201126195421,\n",
              "                0.9393843535800352,\n",
              "                0.939549260702172,\n",
              "                0.9396639256741881,\n",
              "                0.9398367665688421,\n",
              "                0.9399282935389576,\n",
              "                0.9400788211642864,\n",
              "                0.9401847484708544,\n",
              "                0.9403050725731956,\n",
              "                0.9404315362422304,\n",
              "                0.9405451875787043,\n",
              "                0.9406973770400234,\n",
              "                0.9407990123577651,\n",
              "                0.9409324314521202,\n",
              "                0.9410159189010645,\n",
              "                0.9411623908332163,\n",
              "                0.9412838445160978,\n",
              "                0.9413763364897014,\n",
              "                0.9414752604427241,\n",
              "                0.9415681519174807,\n",
              "                0.9416633230894872,\n",
              "                0.9418510198268154,\n",
              "                0.941940265705393,\n",
              "                0.9420927989351058,\n",
              "                0.9422342315833787,\n",
              "                0.9422952480934249,\n",
              "                0.9423586795173652,\n",
              "                0.9424273227967161,\n",
              "                0.9425808492670184,\n",
              "                0.9426597811302948,\n",
              "                0.9427690386226495,\n",
              "                0.9428809003912283,\n",
              "                0.9430171100454479,\n",
              "                0.9432139117941816,\n",
              "                0.9432605011367703,\n",
              "                0.9433553303474341,\n",
              "                0.9434330414691232,\n",
              "                0.9435234394918227,\n",
              "                0.9436044415653702,\n",
              "                0.9437354264780102,\n",
              "                0.9437891005295257,\n",
              "                0.9438645479439741,\n",
              "                0.9439565824216584,\n",
              "                0.9440550496865762,\n",
              "                0.9441255893703937,\n",
              "                0.9442605617051502,\n",
              "                0.94435978192265,\n",
              "                0.9444186497133461,\n",
              "                0.9444964048657385,\n",
              "                0.9445451638211889,\n",
              "                0.9445796226462867,\n",
              "                0.9446872696584314,\n",
              "                0.9448076429834629,\n",
              "                0.9449113843624294,\n",
              "                0.9450543339889409,\n",
              "                0.945067002650289,\n",
              "                0.9451848779940066,\n",
              "                0.9452277393519306,\n",
              "                0.9453229186212373,\n",
              "                0.9453642498552209,\n",
              "                0.9454987761977676,\n",
              "                0.9455354718183907,\n",
              "                0.9456476026283158,\n",
              "                0.9458002341140028]),\n",
              "              ('ams@0.15',\n",
              "               [3.700239658355713,\n",
              "                3.9774200916290283,\n",
              "                4.076765060424805,\n",
              "                4.205463409423828,\n",
              "                4.136200428009033,\n",
              "                4.169527530670166,\n",
              "                4.260842800140381,\n",
              "                4.262444972991943,\n",
              "                4.32963752746582,\n",
              "                4.381720542907715,\n",
              "                4.394128322601318,\n",
              "                4.408279895782471,\n",
              "                4.447103500366211,\n",
              "                4.451209545135498,\n",
              "                4.489795207977295,\n",
              "                4.517288684844971,\n",
              "                4.534961700439453,\n",
              "                4.549403190612793,\n",
              "                4.5977277755737305,\n",
              "                4.6424055099487305,\n",
              "                4.713798522949219,\n",
              "                4.700137138366699,\n",
              "                4.714102745056152,\n",
              "                4.740779399871826,\n",
              "                4.768797874450684,\n",
              "                4.7921671867370605,\n",
              "                4.803802490234375,\n",
              "                4.812494277954102,\n",
              "                4.83062219619751,\n",
              "                4.85423469543457,\n",
              "                4.874090194702148,\n",
              "                4.8792805671691895,\n",
              "                4.894282817840576,\n",
              "                4.953855991363525,\n",
              "                4.971121788024902,\n",
              "                4.979061126708984,\n",
              "                5.004854202270508,\n",
              "                5.021796703338623,\n",
              "                5.051515579223633,\n",
              "                5.052001476287842,\n",
              "                5.07529878616333,\n",
              "                5.1034836769104,\n",
              "                5.122905731201172,\n",
              "                5.1419501304626465,\n",
              "                5.167672157287598,\n",
              "                5.167425632476807,\n",
              "                5.201397895812988,\n",
              "                5.221578121185303,\n",
              "                5.223874092102051,\n",
              "                5.275698184967041,\n",
              "                5.280038356781006,\n",
              "                5.290863037109375,\n",
              "                5.321015357971191,\n",
              "                5.316152572631836,\n",
              "                5.329103469848633,\n",
              "                5.344573974609375,\n",
              "                5.374212265014648,\n",
              "                5.3918304443359375,\n",
              "                5.409289360046387,\n",
              "                5.427676200866699,\n",
              "                5.446434497833252,\n",
              "                5.450449466705322,\n",
              "                5.447848796844482,\n",
              "                5.448193073272705,\n",
              "                5.459027290344238,\n",
              "                5.472900867462158,\n",
              "                5.48828649520874,\n",
              "                5.487773895263672,\n",
              "                5.509848117828369,\n",
              "                5.527341842651367,\n",
              "                5.554874420166016,\n",
              "                5.562772750854492,\n",
              "                5.5611162185668945,\n",
              "                5.5690226554870605,\n",
              "                5.591649055480957,\n",
              "                5.5913872718811035,\n",
              "                5.59351921081543,\n",
              "                5.618314743041992,\n",
              "                5.618973731994629,\n",
              "                5.633730411529541,\n",
              "                5.639210224151611,\n",
              "                5.642460823059082,\n",
              "                5.650083541870117,\n",
              "                5.647470474243164,\n",
              "                5.645771026611328,\n",
              "                5.651271343231201,\n",
              "                5.674522876739502,\n",
              "                5.688058853149414,\n",
              "                5.689916133880615,\n",
              "                5.719707012176514,\n",
              "                5.7239813804626465,\n",
              "                5.738670349121094,\n",
              "                5.7321014404296875,\n",
              "                5.728471279144287,\n",
              "                5.7389726638793945,\n",
              "                5.753223896026611,\n",
              "                5.759307861328125,\n",
              "                5.758769989013672,\n",
              "                5.754945278167725,\n",
              "                5.77066707611084,\n",
              "                5.787282466888428,\n",
              "                5.817620754241943,\n",
              "                5.8306074142456055,\n",
              "                5.828456878662109,\n",
              "                5.838943004608154,\n",
              "                5.836241722106934,\n",
              "                5.835414886474609,\n",
              "                5.838230133056641,\n",
              "                5.841470718383789,\n",
              "                5.843747615814209,\n",
              "                5.848294734954834,\n",
              "                5.851860046386719,\n",
              "                5.844507217407227,\n",
              "                5.840064525604248,\n",
              "                5.8580002784729,\n",
              "                5.862281799316406,\n",
              "                5.911599159240723,\n",
              "                5.9184160232543945,\n",
              "                5.937291145324707,\n",
              "                5.935622215270996])])}"
            ]
          },
          "execution_count": 35,
          "metadata": {},
          "output_type": "execute_result"
        }
      ],
      "source": [
        "clf.evals_result()"
      ]
    },
    {
      "cell_type": "code",
      "execution_count": null,
      "metadata": {
        "id": "sPowgT9K_aIO",
        "outputId": "c106d453-aaac-4a6c-e750-8d153d5cb306"
      },
      "outputs": [
        {
          "data": {
            "text/plain": [
              "0.800476"
            ]
          },
          "execution_count": 36,
          "metadata": {},
          "output_type": "execute_result"
        }
      ],
      "source": [
        "clf.score(X, y)"
      ]
    }
  ],
  "metadata": {
    "kernelspec": {
      "display_name": "default:Python",
      "language": "python",
      "name": "conda-env-default-py"
    },
    "language_info": {
      "codemirror_mode": {
        "name": "ipython",
        "version": 3
      },
      "file_extension": ".py",
      "mimetype": "text/x-python",
      "name": "python",
      "nbconvert_exporter": "python",
      "pygments_lexer": "ipython3",
      "version": "3.9.12"
    },
    "colab": {
      "provenance": [],
      "collapsed_sections": []
    }
  },
  "nbformat": 4,
  "nbformat_minor": 0
}