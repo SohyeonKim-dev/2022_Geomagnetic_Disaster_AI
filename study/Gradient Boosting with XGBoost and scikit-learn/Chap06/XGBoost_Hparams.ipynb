{
  "cells": [
    {
      "cell_type": "markdown",
      "metadata": {
        "id": "wvZxPcm89jr5"
      },
      "source": [
        "# 6장. XGBoost 하이퍼파라미터"
      ]
    },
    {
      "cell_type": "markdown",
      "metadata": {
        "id": "24-ogYG69jr9"
      },
      "source": [
        "*아래 링크를 통해 이 노트북을 주피터 노트북 뷰어(nbviewer.org)로 보거나 구글 코랩(colab.research.google.com)에서 실행할 수 있습니다.*\n",
        "\n",
        "<table class=\"tfo-notebook-buttons\" align=\"left\">\n",
        "  <td>\n",
        "    <a target=\"_blank\" href=\"https://nbviewer.org/github/rickiepark/handson-gb/blob/main/Chapter06/XGBoost_Hyperparameters.ipynb\"><img src=\"https://jupyter.org/assets/share.png\" width=\"60\" />주피터 노트북 뷰어로 보기</a>\n",
        "  </td>\n",
        "  <td>\n",
        "    <a target=\"_blank\" href=\"https://colab.research.google.com/github/rickiepark/handson-gb/blob/main/Chapter06/XGBoost_Hyperparameters.ipynb\"><img src=\"https://www.tensorflow.org/images/colab_logo_32px.png\" />구글 코랩(Colab)에서 실행하기</a>\n",
        "  </td>\n",
        "</table>"
      ]
    },
    {
      "cell_type": "code",
      "execution_count": 1,
      "metadata": {
        "colab": {
          "base_uri": "https://localhost:8080/"
        },
        "id": "8hHjH54M9jr-",
        "outputId": "692dda1e-c532-4712-f16d-e4d5548863a5"
      },
      "outputs": [
        {
          "output_type": "stream",
          "name": "stdout",
          "text": [
            "\u001b[K     |████████████████████████████████| 255.9 MB 39 kB/s \n",
            "\u001b[?25h"
          ]
        }
      ],
      "source": [
        "# 노트북이 코랩에서 실행 중인지 체크합니다.\n",
        "import sys\n",
        "if 'google.colab' in sys.modules:\n",
        "    !pip install -q --upgrade xgboost\n",
        "    !wget -q https://raw.githubusercontent.com/rickiepark/handson-gb/main/Chapter06/heart_disease.csv"
      ]
    },
    {
      "cell_type": "code",
      "execution_count": 2,
      "metadata": {
        "id": "-hIfNCqM9jr_"
      },
      "outputs": [],
      "source": [
        "# 경고 끄기\n",
        "import warnings\n",
        "warnings.filterwarnings('ignore')\n",
        "\n",
        "import xgboost as xgb\n",
        "xgb.set_config(verbosity=0)"
      ]
    },
    {
      "cell_type": "markdown",
      "metadata": {
        "id": "BF9awSuJ9jsA"
      },
      "source": [
        "## 데이터와 기본 모델 준비하기\n",
        "\n",
        "### 심장 질환 데이터셋"
      ]
    },
    {
      "cell_type": "code",
      "execution_count": 3,
      "metadata": {
        "scrolled": true,
        "colab": {
          "base_uri": "https://localhost:8080/",
          "height": 221
        },
        "id": "Q0AWTAyJ9jsA",
        "outputId": "2912c719-d823-4a24-e021-435eaae50397"
      },
      "outputs": [
        {
          "output_type": "execute_result",
          "data": {
            "text/plain": [
              "   age  sex  cp  trestbps  chol  fbs  restecg  thalach  exang  oldpeak  slope  \\\n",
              "0   63    1   3       145   233    1        0      150      0      2.3      0   \n",
              "1   37    1   2       130   250    0        1      187      0      3.5      0   \n",
              "2   41    0   1       130   204    0        0      172      0      1.4      2   \n",
              "3   56    1   1       120   236    0        1      178      0      0.8      2   \n",
              "4   57    0   0       120   354    0        1      163      1      0.6      2   \n",
              "\n",
              "   ca  thal  target  \n",
              "0   0     1       1  \n",
              "1   0     2       1  \n",
              "2   0     2       1  \n",
              "3   0     2       1  \n",
              "4   0     2       1  "
            ],
            "text/html": [
              "\n",
              "  <div id=\"df-bd6a1fe4-7e59-4d4c-b059-064b7093cc2f\">\n",
              "    <div class=\"colab-df-container\">\n",
              "      <div>\n",
              "<style scoped>\n",
              "    .dataframe tbody tr th:only-of-type {\n",
              "        vertical-align: middle;\n",
              "    }\n",
              "\n",
              "    .dataframe tbody tr th {\n",
              "        vertical-align: top;\n",
              "    }\n",
              "\n",
              "    .dataframe thead th {\n",
              "        text-align: right;\n",
              "    }\n",
              "</style>\n",
              "<table border=\"1\" class=\"dataframe\">\n",
              "  <thead>\n",
              "    <tr style=\"text-align: right;\">\n",
              "      <th></th>\n",
              "      <th>age</th>\n",
              "      <th>sex</th>\n",
              "      <th>cp</th>\n",
              "      <th>trestbps</th>\n",
              "      <th>chol</th>\n",
              "      <th>fbs</th>\n",
              "      <th>restecg</th>\n",
              "      <th>thalach</th>\n",
              "      <th>exang</th>\n",
              "      <th>oldpeak</th>\n",
              "      <th>slope</th>\n",
              "      <th>ca</th>\n",
              "      <th>thal</th>\n",
              "      <th>target</th>\n",
              "    </tr>\n",
              "  </thead>\n",
              "  <tbody>\n",
              "    <tr>\n",
              "      <th>0</th>\n",
              "      <td>63</td>\n",
              "      <td>1</td>\n",
              "      <td>3</td>\n",
              "      <td>145</td>\n",
              "      <td>233</td>\n",
              "      <td>1</td>\n",
              "      <td>0</td>\n",
              "      <td>150</td>\n",
              "      <td>0</td>\n",
              "      <td>2.3</td>\n",
              "      <td>0</td>\n",
              "      <td>0</td>\n",
              "      <td>1</td>\n",
              "      <td>1</td>\n",
              "    </tr>\n",
              "    <tr>\n",
              "      <th>1</th>\n",
              "      <td>37</td>\n",
              "      <td>1</td>\n",
              "      <td>2</td>\n",
              "      <td>130</td>\n",
              "      <td>250</td>\n",
              "      <td>0</td>\n",
              "      <td>1</td>\n",
              "      <td>187</td>\n",
              "      <td>0</td>\n",
              "      <td>3.5</td>\n",
              "      <td>0</td>\n",
              "      <td>0</td>\n",
              "      <td>2</td>\n",
              "      <td>1</td>\n",
              "    </tr>\n",
              "    <tr>\n",
              "      <th>2</th>\n",
              "      <td>41</td>\n",
              "      <td>0</td>\n",
              "      <td>1</td>\n",
              "      <td>130</td>\n",
              "      <td>204</td>\n",
              "      <td>0</td>\n",
              "      <td>0</td>\n",
              "      <td>172</td>\n",
              "      <td>0</td>\n",
              "      <td>1.4</td>\n",
              "      <td>2</td>\n",
              "      <td>0</td>\n",
              "      <td>2</td>\n",
              "      <td>1</td>\n",
              "    </tr>\n",
              "    <tr>\n",
              "      <th>3</th>\n",
              "      <td>56</td>\n",
              "      <td>1</td>\n",
              "      <td>1</td>\n",
              "      <td>120</td>\n",
              "      <td>236</td>\n",
              "      <td>0</td>\n",
              "      <td>1</td>\n",
              "      <td>178</td>\n",
              "      <td>0</td>\n",
              "      <td>0.8</td>\n",
              "      <td>2</td>\n",
              "      <td>0</td>\n",
              "      <td>2</td>\n",
              "      <td>1</td>\n",
              "    </tr>\n",
              "    <tr>\n",
              "      <th>4</th>\n",
              "      <td>57</td>\n",
              "      <td>0</td>\n",
              "      <td>0</td>\n",
              "      <td>120</td>\n",
              "      <td>354</td>\n",
              "      <td>0</td>\n",
              "      <td>1</td>\n",
              "      <td>163</td>\n",
              "      <td>1</td>\n",
              "      <td>0.6</td>\n",
              "      <td>2</td>\n",
              "      <td>0</td>\n",
              "      <td>2</td>\n",
              "      <td>1</td>\n",
              "    </tr>\n",
              "  </tbody>\n",
              "</table>\n",
              "</div>\n",
              "      <button class=\"colab-df-convert\" onclick=\"convertToInteractive('df-bd6a1fe4-7e59-4d4c-b059-064b7093cc2f')\"\n",
              "              title=\"Convert this dataframe to an interactive table.\"\n",
              "              style=\"display:none;\">\n",
              "        \n",
              "  <svg xmlns=\"http://www.w3.org/2000/svg\" height=\"24px\"viewBox=\"0 0 24 24\"\n",
              "       width=\"24px\">\n",
              "    <path d=\"M0 0h24v24H0V0z\" fill=\"none\"/>\n",
              "    <path d=\"M18.56 5.44l.94 2.06.94-2.06 2.06-.94-2.06-.94-.94-2.06-.94 2.06-2.06.94zm-11 1L8.5 8.5l.94-2.06 2.06-.94-2.06-.94L8.5 2.5l-.94 2.06-2.06.94zm10 10l.94 2.06.94-2.06 2.06-.94-2.06-.94-.94-2.06-.94 2.06-2.06.94z\"/><path d=\"M17.41 7.96l-1.37-1.37c-.4-.4-.92-.59-1.43-.59-.52 0-1.04.2-1.43.59L10.3 9.45l-7.72 7.72c-.78.78-.78 2.05 0 2.83L4 21.41c.39.39.9.59 1.41.59.51 0 1.02-.2 1.41-.59l7.78-7.78 2.81-2.81c.8-.78.8-2.07 0-2.86zM5.41 20L4 18.59l7.72-7.72 1.47 1.35L5.41 20z\"/>\n",
              "  </svg>\n",
              "      </button>\n",
              "      \n",
              "  <style>\n",
              "    .colab-df-container {\n",
              "      display:flex;\n",
              "      flex-wrap:wrap;\n",
              "      gap: 12px;\n",
              "    }\n",
              "\n",
              "    .colab-df-convert {\n",
              "      background-color: #E8F0FE;\n",
              "      border: none;\n",
              "      border-radius: 50%;\n",
              "      cursor: pointer;\n",
              "      display: none;\n",
              "      fill: #1967D2;\n",
              "      height: 32px;\n",
              "      padding: 0 0 0 0;\n",
              "      width: 32px;\n",
              "    }\n",
              "\n",
              "    .colab-df-convert:hover {\n",
              "      background-color: #E2EBFA;\n",
              "      box-shadow: 0px 1px 2px rgba(60, 64, 67, 0.3), 0px 1px 3px 1px rgba(60, 64, 67, 0.15);\n",
              "      fill: #174EA6;\n",
              "    }\n",
              "\n",
              "    [theme=dark] .colab-df-convert {\n",
              "      background-color: #3B4455;\n",
              "      fill: #D2E3FC;\n",
              "    }\n",
              "\n",
              "    [theme=dark] .colab-df-convert:hover {\n",
              "      background-color: #434B5C;\n",
              "      box-shadow: 0px 1px 3px 1px rgba(0, 0, 0, 0.15);\n",
              "      filter: drop-shadow(0px 1px 2px rgba(0, 0, 0, 0.3));\n",
              "      fill: #FFFFFF;\n",
              "    }\n",
              "  </style>\n",
              "\n",
              "      <script>\n",
              "        const buttonEl =\n",
              "          document.querySelector('#df-bd6a1fe4-7e59-4d4c-b059-064b7093cc2f button.colab-df-convert');\n",
              "        buttonEl.style.display =\n",
              "          google.colab.kernel.accessAllowed ? 'block' : 'none';\n",
              "\n",
              "        async function convertToInteractive(key) {\n",
              "          const element = document.querySelector('#df-bd6a1fe4-7e59-4d4c-b059-064b7093cc2f');\n",
              "          const dataTable =\n",
              "            await google.colab.kernel.invokeFunction('convertToInteractive',\n",
              "                                                     [key], {});\n",
              "          if (!dataTable) return;\n",
              "\n",
              "          const docLinkHtml = 'Like what you see? Visit the ' +\n",
              "            '<a target=\"_blank\" href=https://colab.research.google.com/notebooks/data_table.ipynb>data table notebook</a>'\n",
              "            + ' to learn more about interactive tables.';\n",
              "          element.innerHTML = '';\n",
              "          dataTable['output_type'] = 'display_data';\n",
              "          await google.colab.output.renderOutput(dataTable, element);\n",
              "          const docLink = document.createElement('div');\n",
              "          docLink.innerHTML = docLinkHtml;\n",
              "          element.appendChild(docLink);\n",
              "        }\n",
              "      </script>\n",
              "    </div>\n",
              "  </div>\n",
              "  "
            ]
          },
          "metadata": {},
          "execution_count": 3
        }
      ],
      "source": [
        "import pandas as pd\n",
        "df = pd.read_csv('heart_disease.csv')\n",
        "df.head()"
      ]
    },
    {
      "cell_type": "code",
      "execution_count": 4,
      "metadata": {
        "colab": {
          "base_uri": "https://localhost:8080/"
        },
        "id": "2g_b1MZ79jsB",
        "outputId": "925f5ba0-8d4b-4a65-9b15-25ca174c70f5"
      },
      "outputs": [
        {
          "output_type": "stream",
          "name": "stdout",
          "text": [
            "<class 'pandas.core.frame.DataFrame'>\n",
            "RangeIndex: 303 entries, 0 to 302\n",
            "Data columns (total 14 columns):\n",
            " #   Column    Non-Null Count  Dtype  \n",
            "---  ------    --------------  -----  \n",
            " 0   age       303 non-null    int64  \n",
            " 1   sex       303 non-null    int64  \n",
            " 2   cp        303 non-null    int64  \n",
            " 3   trestbps  303 non-null    int64  \n",
            " 4   chol      303 non-null    int64  \n",
            " 5   fbs       303 non-null    int64  \n",
            " 6   restecg   303 non-null    int64  \n",
            " 7   thalach   303 non-null    int64  \n",
            " 8   exang     303 non-null    int64  \n",
            " 9   oldpeak   303 non-null    float64\n",
            " 10  slope     303 non-null    int64  \n",
            " 11  ca        303 non-null    int64  \n",
            " 12  thal      303 non-null    int64  \n",
            " 13  target    303 non-null    int64  \n",
            "dtypes: float64(1), int64(13)\n",
            "memory usage: 33.3 KB\n"
          ]
        }
      ],
      "source": [
        "df.info()"
      ]
    },
    {
      "cell_type": "markdown",
      "metadata": {
        "id": "Yz8gbxTI9jsB"
      },
      "source": [
        "### XGBClassifier"
      ]
    },
    {
      "cell_type": "code",
      "execution_count": 5,
      "metadata": {
        "id": "74nzVONs9jsC"
      },
      "outputs": [],
      "source": [
        "from xgboost import XGBClassifier\n",
        "from sklearn.metrics import accuracy_score"
      ]
    },
    {
      "cell_type": "code",
      "execution_count": 6,
      "metadata": {
        "id": "_GKkoftT9jsC"
      },
      "outputs": [],
      "source": [
        "# 데이터를 X와 y로 나눕니다.\n",
        "X = df.iloc[:, :-1]\n",
        "y = df.iloc[:, -1]"
      ]
    },
    {
      "cell_type": "code",
      "execution_count": 7,
      "metadata": {
        "id": "xZwat-TV9jsD"
      },
      "outputs": [],
      "source": [
        "model = XGBClassifier(booster='gbtree', objective='binary:logistic')"
      ]
    },
    {
      "cell_type": "code",
      "execution_count": 8,
      "metadata": {
        "colab": {
          "base_uri": "https://localhost:8080/"
        },
        "id": "0ZXfuE6d9jsD",
        "outputId": "7027fb4f-f84d-4767-a202-84b33ac9ac9c"
      },
      "outputs": [
        {
          "output_type": "stream",
          "name": "stdout",
          "text": [
            "정확도: [0.84 0.85 0.82 0.8  0.77]\n",
            "정확도 평균: 0.81\n"
          ]
        }
      ],
      "source": [
        "# cross_val_score를 임포트합니다.\n",
        "from sklearn.model_selection import cross_val_score\n",
        "\n",
        "# numpy를 임포트합니다.\n",
        "import numpy as np\n",
        "\n",
        "# 교차 검증 점수를 구합니다. -> cv -> fold 수가 5라는 의미\n",
        "scores = cross_val_score(model, X, y, cv=5)\n",
        "\n",
        "# 정확도를 출력합니다.\n",
        "print('정확도:', np.round(scores, 2))\n",
        "\n",
        "# 정확도 평균을 출력합니다.\n",
        "print('정확도 평균: %0.2f' % (scores.mean()))"
      ]
    },
    {
      "cell_type": "markdown",
      "metadata": {
        "id": "B0MOE0Y49jsE"
      },
      "source": [
        "### StratifiedKFold"
      ]
    },
    {
      "cell_type": "code",
      "execution_count": 9,
      "metadata": {
        "id": "C3bH49Ag9jsE"
      },
      "outputs": [],
      "source": [
        "# GridSearchCV를 임포트합니다.\n",
        "from sklearn.model_selection import StratifiedKFold\n",
        "\n",
        "kfold = StratifiedKFold(n_splits=5, shuffle=True, random_state=2)\n",
        "\n",
        "# regression에서도 쓸 수 있다는 의미같다."
      ]
    },
    {
      "cell_type": "code",
      "execution_count": 10,
      "metadata": {
        "colab": {
          "base_uri": "https://localhost:8080/"
        },
        "id": "fiJMVYOD9jsE",
        "outputId": "95f0d7a6-d5ff-4830-b8f9-ef396811a51d"
      },
      "outputs": [
        {
          "output_type": "stream",
          "name": "stdout",
          "text": [
            "전체 데이터의 클래스 분포: [138 165]\n",
            "\n",
            "1번째 훈련 폴드: [110 132]\n",
            "1번째 검증 폴드: [28 33]\n",
            "\n",
            "2번째 훈련 폴드: [110 132]\n",
            "2번째 검증 폴드: [28 33]\n",
            "\n",
            "3번째 훈련 폴드: [110 132]\n",
            "3번째 검증 폴드: [28 33]\n",
            "\n",
            "4번째 훈련 폴드: [111 132]\n",
            "4번째 검증 폴드: [27 33]\n",
            "\n",
            "5번째 훈련 폴드: [111 132]\n",
            "5번째 검증 폴드: [27 33]\n",
            "\n"
          ]
        }
      ],
      "source": [
        "print('전체 데이터의 클래스 분포:', np.bincount(y))\n",
        "print()\n",
        "\n",
        "for split_no, (train_idx, test_idx) in enumerate(kfold.split(X, y)):\n",
        "    print('{}번째 훈련 폴드:'.format(split_no+1), np.bincount(y[train_idx]))\n",
        "    print('{}번째 검증 폴드:'.format(split_no+1), np.bincount(y[test_idx]))\n",
        "    print()"
      ]
    },
    {
      "cell_type": "markdown",
      "metadata": {
        "id": "0y54bOQE9jsF"
      },
      "source": [
        "### 기본 모델"
      ]
    },
    {
      "cell_type": "code",
      "execution_count": 11,
      "metadata": {
        "colab": {
          "base_uri": "https://localhost:8080/"
        },
        "id": "P5W5EEsq9jsF",
        "outputId": "e54179cf-9152-4bd3-bac4-11bc3060e267"
      },
      "outputs": [
        {
          "output_type": "stream",
          "name": "stdout",
          "text": [
            "정확도: [0.72 0.82 0.75 0.8  0.82]\n",
            "정확도 평균: 0.78\n"
          ]
        }
      ],
      "source": [
        "# 교차 검증 점수를 계산합니다.\n",
        "scores = cross_val_score(model, X, y, cv=kfold)\n",
        "\n",
        "# 정확도를 출력합니다.\n",
        "print('정확도:', np.round(scores, 2))\n",
        "\n",
        "# 정확도 평균을 출력합니다.\n",
        "print('정확도 평균: %0.2f' % (scores.mean()))"
      ]
    },
    {
      "cell_type": "markdown",
      "metadata": {
        "id": "YUEfI6Vk9jsF"
      },
      "source": [
        "### GridSearchCV와 RandomizedSearchCV 사용하기"
      ]
    },
    {
      "cell_type": "code",
      "execution_count": 12,
      "metadata": {
        "id": "nlifHeem9jsG"
      },
      "outputs": [],
      "source": [
        "# GridSearchCV를 임포트합니다. -> gird는 모든 경우 다 계산하는 것\n",
        "from sklearn.model_selection import GridSearchCV, RandomizedSearchCV\n",
        "\n",
        "kfold = StratifiedKFold(n_splits=5, shuffle=True, random_state=2)"
      ]
    },
    {
      "cell_type": "code",
      "execution_count": 13,
      "metadata": {
        "id": "WC-iD-h_9jsG"
      },
      "outputs": [],
      "source": [
        "def grid_search(params, random=False): \n",
        "\n",
        "    xgb = XGBClassifier(booster='gbtree', objective='binary:logistic', \n",
        "                        random_state=2, verbosity=0, use_label_encoder=False)\n",
        "    \n",
        "    kfold = StratifiedKFold(n_splits=5, shuffle=True, random_state=2)\n",
        "    \n",
        "    if random:\n",
        "        grid = RandomizedSearchCV(xgb, params, cv=kfold, n_iter=20, \n",
        "                                  n_jobs=-1, random_state=2)\n",
        "    else:\n",
        "        grid = GridSearchCV(xgb, params, cv=kfold, n_jobs=-1)\n",
        "    \n",
        "    # X와 y에서 하이퍼파라미터 튜닝을 수행합니다.\n",
        "    grid.fit(X, y)\n",
        "\n",
        "    # 최상의 매개변수를 추출합니다.\n",
        "    best_params = grid.best_params_\n",
        "\n",
        "    # 최상의 매개변수를 출력합니다.\n",
        "    print(\"최상의 매개변수:\", best_params)\n",
        "    \n",
        "    # 최상의 점수를 추출합니다.\n",
        "    best_score = grid.best_score_\n",
        "\n",
        "    # 최상의 점수를 출력합니다.\n",
        "    print(\"최상의 점수: {:.5f}\".format(best_score))\n",
        "\n",
        "\n",
        "\n",
        "    # 변형하여 우리 모델에도 활용 가능"
      ]
    },
    {
      "cell_type": "markdown",
      "metadata": {
        "id": "CVHPfPi29jsG"
      },
      "source": [
        "## XGBoost 하이퍼파라미터 튜닝\n",
        "\n",
        "### n_estimators"
      ]
    },
    {
      "cell_type": "code",
      "execution_count": 14,
      "metadata": {
        "colab": {
          "base_uri": "https://localhost:8080/"
        },
        "id": "y4UZj0bD9jsG",
        "outputId": "df4dce89-017b-4c7d-bb7d-8b52ae1ef01c"
      },
      "outputs": [
        {
          "output_type": "stream",
          "name": "stdout",
          "text": [
            "최상의 매개변수: {'n_estimators': 100}\n",
            "최상의 점수: 0.78235\n"
          ]
        }
      ],
      "source": [
        "grid_search(params={'n_estimators':[100, 200, 400, 800]})\n",
        "\n",
        "# 4개를 바꾸어가면서 탐색?"
      ]
    },
    {
      "cell_type": "markdown",
      "metadata": {
        "id": "FtK82QFh9jsH"
      },
      "source": [
        "### learning_rate"
      ]
    },
    {
      "cell_type": "code",
      "execution_count": 15,
      "metadata": {
        "colab": {
          "base_uri": "https://localhost:8080/"
        },
        "id": "O7QF0h_Q9jsH",
        "outputId": "9a4da70e-3d25-4c8e-de8e-f78e8655a451"
      },
      "outputs": [
        {
          "output_type": "stream",
          "name": "stdout",
          "text": [
            "최상의 매개변수: {'learning_rate': 0.05}\n",
            "최상의 점수: 0.79585\n"
          ]
        }
      ],
      "source": [
        "grid_search(params={'learning_rate':[0.01, 0.05, 0.1, 0.2, 0.3, 0.4, 0.5]})"
      ]
    },
    {
      "cell_type": "markdown",
      "metadata": {
        "id": "ABhxVEZd9jsH"
      },
      "source": [
        "### max_depth"
      ]
    },
    {
      "cell_type": "code",
      "execution_count": 16,
      "metadata": {
        "colab": {
          "base_uri": "https://localhost:8080/"
        },
        "id": "FM6_rYL89jsH",
        "outputId": "827f4385-76fb-4d52-e31f-8778ef8574e2"
      },
      "outputs": [
        {
          "output_type": "stream",
          "name": "stdout",
          "text": [
            "최상의 매개변수: {'max_depth': 2}\n",
            "최상의 점수: 0.79902\n"
          ]
        }
      ],
      "source": [
        "grid_search(params={'max_depth':[2, 3, 5, 6, 8]})"
      ]
    },
    {
      "cell_type": "markdown",
      "metadata": {
        "id": "KskCecVR9jsI"
      },
      "source": [
        "### gamma"
      ]
    },
    {
      "cell_type": "code",
      "execution_count": 17,
      "metadata": {
        "colab": {
          "base_uri": "https://localhost:8080/"
        },
        "id": "XSAlvRpo9jsI",
        "outputId": "462ff571-16bb-4154-f996-3df6be2119db"
      },
      "outputs": [
        {
          "output_type": "stream",
          "name": "stdout",
          "text": [
            "최상의 매개변수: {'gamma': 0.5}\n",
            "최상의 점수: 0.79574\n"
          ]
        }
      ],
      "source": [
        "grid_search(params={'gamma':[0, 0.01, 0.1, 0.5, 1, 2]})"
      ]
    },
    {
      "cell_type": "markdown",
      "metadata": {
        "id": "kX4RJVJ39jsI"
      },
      "source": [
        "### min_child_weight"
      ]
    },
    {
      "cell_type": "code",
      "execution_count": 18,
      "metadata": {
        "colab": {
          "base_uri": "https://localhost:8080/"
        },
        "id": "l10jevah9jsI",
        "outputId": "24e32a9a-7563-41c9-8802-9428d5791668"
      },
      "outputs": [
        {
          "output_type": "stream",
          "name": "stdout",
          "text": [
            "최상의 매개변수: {'min_child_weight': 5}\n",
            "최상의 점수: 0.81219\n"
          ]
        }
      ],
      "source": [
        "grid_search(params={'min_child_weight':[1, 2, 3, 4, 5]})"
      ]
    },
    {
      "cell_type": "markdown",
      "metadata": {
        "id": "1FEklOdz9jsI"
      },
      "source": [
        "### subsample"
      ]
    },
    {
      "cell_type": "code",
      "execution_count": 19,
      "metadata": {
        "colab": {
          "base_uri": "https://localhost:8080/"
        },
        "id": "XAWXLU309jsI",
        "outputId": "b34366be-b677-4bae-ff20-beec1a072971"
      },
      "outputs": [
        {
          "output_type": "stream",
          "name": "stdout",
          "text": [
            "최상의 매개변수: {'subsample': 0.8}\n",
            "최상의 점수: 0.79579\n"
          ]
        }
      ],
      "source": [
        "grid_search(params={'subsample':[0.5, 0.7, 0.8, 0.9, 1]})"
      ]
    },
    {
      "cell_type": "markdown",
      "metadata": {
        "id": "yOVPOsF19jsJ"
      },
      "source": [
        "### colsample_bytree"
      ]
    },
    {
      "cell_type": "code",
      "execution_count": 20,
      "metadata": {
        "colab": {
          "base_uri": "https://localhost:8080/"
        },
        "id": "wfEDjOks9jsK",
        "outputId": "5502b774-d0ae-4ecf-9988-a11dcca1ef64"
      },
      "outputs": [
        {
          "output_type": "stream",
          "name": "stdout",
          "text": [
            "최상의 매개변수: {'colsample_bytree': 0.5}\n",
            "최상의 점수: 0.80552\n"
          ]
        }
      ],
      "source": [
        "grid_search(params={'colsample_bytree':[0.5, 0.7, 0.8, 0.9, 1]})"
      ]
    },
    {
      "cell_type": "markdown",
      "metadata": {
        "id": "Go4WA3-49jsK"
      },
      "source": [
        "## 조기 종료 적용\n",
        "\n",
        "### eval_set과 eval_metric"
      ]
    },
    {
      "cell_type": "code",
      "execution_count": 22,
      "metadata": {
        "id": "u8eAXQeg9jsL"
      },
      "outputs": [],
      "source": [
        "# train_test_split 함수를 임포트합니다.\n",
        "from sklearn.model_selection import train_test_split\n",
        "\n",
        "# 훈련 세트와 테스트 세트로 나눕니다.\n",
        "X_train, X_test, y_train, y_test = train_test_split(X, y, random_state=2)"
      ]
    },
    {
      "cell_type": "code",
      "execution_count": 23,
      "metadata": {
        "colab": {
          "base_uri": "https://localhost:8080/"
        },
        "id": "VaJ5_-119jsL",
        "outputId": "9221ad67-276a-442a-bcb8-99a3b08ef71c"
      },
      "outputs": [
        {
          "output_type": "stream",
          "name": "stdout",
          "text": [
            "[0]\tvalidation_0-error:0.15789\n",
            "[1]\tvalidation_0-error:0.10526\n",
            "[2]\tvalidation_0-error:0.11842\n",
            "[3]\tvalidation_0-error:0.13158\n",
            "[4]\tvalidation_0-error:0.11842\n",
            "[5]\tvalidation_0-error:0.14474\n",
            "[6]\tvalidation_0-error:0.14474\n",
            "[7]\tvalidation_0-error:0.14474\n",
            "[8]\tvalidation_0-error:0.14474\n",
            "[9]\tvalidation_0-error:0.14474\n",
            "[10]\tvalidation_0-error:0.14474\n",
            "[11]\tvalidation_0-error:0.15789\n",
            "[12]\tvalidation_0-error:0.15789\n",
            "[13]\tvalidation_0-error:0.17105\n",
            "[14]\tvalidation_0-error:0.17105\n",
            "[15]\tvalidation_0-error:0.17105\n",
            "[16]\tvalidation_0-error:0.15789\n",
            "[17]\tvalidation_0-error:0.17105\n",
            "[18]\tvalidation_0-error:0.15789\n",
            "[19]\tvalidation_0-error:0.17105\n",
            "[20]\tvalidation_0-error:0.17105\n",
            "[21]\tvalidation_0-error:0.17105\n",
            "[22]\tvalidation_0-error:0.18421\n",
            "[23]\tvalidation_0-error:0.18421\n",
            "[24]\tvalidation_0-error:0.17105\n",
            "[25]\tvalidation_0-error:0.18421\n",
            "[26]\tvalidation_0-error:0.18421\n",
            "[27]\tvalidation_0-error:0.18421\n",
            "[28]\tvalidation_0-error:0.18421\n",
            "[29]\tvalidation_0-error:0.18421\n",
            "[30]\tvalidation_0-error:0.18421\n",
            "[31]\tvalidation_0-error:0.18421\n",
            "[32]\tvalidation_0-error:0.18421\n",
            "[33]\tvalidation_0-error:0.18421\n",
            "[34]\tvalidation_0-error:0.18421\n",
            "[35]\tvalidation_0-error:0.18421\n",
            "[36]\tvalidation_0-error:0.18421\n",
            "[37]\tvalidation_0-error:0.18421\n",
            "[38]\tvalidation_0-error:0.18421\n",
            "[39]\tvalidation_0-error:0.18421\n",
            "[40]\tvalidation_0-error:0.18421\n",
            "[41]\tvalidation_0-error:0.18421\n",
            "[42]\tvalidation_0-error:0.18421\n",
            "[43]\tvalidation_0-error:0.17105\n",
            "[44]\tvalidation_0-error:0.18421\n",
            "[45]\tvalidation_0-error:0.17105\n",
            "[46]\tvalidation_0-error:0.18421\n",
            "[47]\tvalidation_0-error:0.18421\n",
            "[48]\tvalidation_0-error:0.17105\n",
            "[49]\tvalidation_0-error:0.15789\n",
            "[50]\tvalidation_0-error:0.17105\n",
            "[51]\tvalidation_0-error:0.17105\n",
            "[52]\tvalidation_0-error:0.15789\n",
            "[53]\tvalidation_0-error:0.17105\n",
            "[54]\tvalidation_0-error:0.17105\n",
            "[55]\tvalidation_0-error:0.17105\n",
            "[56]\tvalidation_0-error:0.17105\n",
            "[57]\tvalidation_0-error:0.17105\n",
            "[58]\tvalidation_0-error:0.17105\n",
            "[59]\tvalidation_0-error:0.17105\n",
            "[60]\tvalidation_0-error:0.17105\n",
            "[61]\tvalidation_0-error:0.17105\n",
            "[62]\tvalidation_0-error:0.17105\n",
            "[63]\tvalidation_0-error:0.17105\n",
            "[64]\tvalidation_0-error:0.17105\n",
            "[65]\tvalidation_0-error:0.17105\n",
            "[66]\tvalidation_0-error:0.18421\n",
            "[67]\tvalidation_0-error:0.18421\n",
            "[68]\tvalidation_0-error:0.18421\n",
            "[69]\tvalidation_0-error:0.18421\n",
            "[70]\tvalidation_0-error:0.18421\n",
            "[71]\tvalidation_0-error:0.18421\n",
            "[72]\tvalidation_0-error:0.18421\n",
            "[73]\tvalidation_0-error:0.18421\n",
            "[74]\tvalidation_0-error:0.17105\n",
            "[75]\tvalidation_0-error:0.18421\n",
            "[76]\tvalidation_0-error:0.17105\n",
            "[77]\tvalidation_0-error:0.18421\n",
            "[78]\tvalidation_0-error:0.15789\n",
            "[79]\tvalidation_0-error:0.17105\n",
            "[80]\tvalidation_0-error:0.15789\n",
            "[81]\tvalidation_0-error:0.15789\n",
            "[82]\tvalidation_0-error:0.15789\n",
            "[83]\tvalidation_0-error:0.15789\n",
            "[84]\tvalidation_0-error:0.15789\n",
            "[85]\tvalidation_0-error:0.15789\n",
            "[86]\tvalidation_0-error:0.15789\n",
            "[87]\tvalidation_0-error:0.15789\n",
            "[88]\tvalidation_0-error:0.15789\n",
            "[89]\tvalidation_0-error:0.15789\n",
            "[90]\tvalidation_0-error:0.15789\n",
            "[91]\tvalidation_0-error:0.15789\n",
            "[92]\tvalidation_0-error:0.15789\n",
            "[93]\tvalidation_0-error:0.17105\n",
            "[94]\tvalidation_0-error:0.17105\n",
            "[95]\tvalidation_0-error:0.17105\n",
            "[96]\tvalidation_0-error:0.17105\n",
            "[97]\tvalidation_0-error:0.17105\n",
            "[98]\tvalidation_0-error:0.17105\n",
            "[99]\tvalidation_0-error:0.17105\n",
            "정확도: 82.89%\n"
          ]
        }
      ],
      "source": [
        "model = XGBClassifier(booster='gbtree', objective='binary:logistic')\n",
        "eval_set = [(X_test, y_test)]\n",
        "eval_metric='error'\n",
        "model.fit(X_train, y_train, eval_metric=eval_metric, \n",
        "          eval_set=eval_set)\n",
        "\n",
        "# 테스트 세트에 대한 예측을 만듭니다.\n",
        "y_pred = model.predict(X_test)\n",
        "# 예측을 평가합니다.\n",
        "accuracy = accuracy_score(y_test, y_pred)\n",
        "print(\"정확도: %.2f%%\" % (accuracy * 100.0))"
      ]
    },
    {
      "cell_type": "markdown",
      "metadata": {
        "id": "-aCf2dS89jsL"
      },
      "source": [
        "### early_stopping_rounds"
      ]
    },
    {
      "cell_type": "code",
      "execution_count": 24,
      "metadata": {
        "colab": {
          "base_uri": "https://localhost:8080/"
        },
        "id": "IP_yDgEK9jsM",
        "outputId": "1484c494-ad42-42d8-d418-e1bacf39c864"
      },
      "outputs": [
        {
          "output_type": "stream",
          "name": "stdout",
          "text": [
            "[0]\tvalidation_0-error:0.15789\n",
            "[1]\tvalidation_0-error:0.10526\n",
            "[2]\tvalidation_0-error:0.11842\n",
            "[3]\tvalidation_0-error:0.13158\n",
            "[4]\tvalidation_0-error:0.11842\n",
            "[5]\tvalidation_0-error:0.14474\n",
            "[6]\tvalidation_0-error:0.14474\n",
            "[7]\tvalidation_0-error:0.14474\n",
            "[8]\tvalidation_0-error:0.14474\n",
            "[9]\tvalidation_0-error:0.14474\n",
            "[10]\tvalidation_0-error:0.14474\n",
            "[11]\tvalidation_0-error:0.15789\n",
            "정확도: 89.47%\n"
          ]
        }
      ],
      "source": [
        "model = XGBClassifier(booster='gbtree', objective='binary:logistic')\n",
        "eval_set = [(X_test, y_test)]\n",
        "eval_metric=\"error\"\n",
        "model.fit(X_train, y_train, eval_metric=eval_metric, eval_set=eval_set, \n",
        "          early_stopping_rounds=10, verbose=True)\n",
        "y_pred = model.predict(X_test)\n",
        "accuracy = accuracy_score(y_test, y_pred)\n",
        "print(\"정확도: %.2f%%\" % (accuracy * 100.0))\n",
        "\n",
        "\n",
        "# early_stopping_rounds=10 -> 이거로 조기종료의 기준 제공"
      ]
    },
    {
      "cell_type": "code",
      "execution_count": 25,
      "metadata": {
        "colab": {
          "base_uri": "https://localhost:8080/"
        },
        "id": "zIL1w_MO9jsM",
        "outputId": "51fa8f1c-c2e7-42c7-f7b3-6e9600aaa26f"
      },
      "outputs": [
        {
          "output_type": "stream",
          "name": "stdout",
          "text": [
            "[0]\tvalidation_0-error:0.15789\n",
            "[1]\tvalidation_0-error:0.10526\n",
            "[2]\tvalidation_0-error:0.11842\n",
            "[3]\tvalidation_0-error:0.13158\n",
            "[4]\tvalidation_0-error:0.11842\n",
            "[5]\tvalidation_0-error:0.14474\n",
            "[6]\tvalidation_0-error:0.14474\n",
            "[7]\tvalidation_0-error:0.14474\n",
            "[8]\tvalidation_0-error:0.14474\n",
            "[9]\tvalidation_0-error:0.14474\n",
            "[10]\tvalidation_0-error:0.14474\n",
            "[11]\tvalidation_0-error:0.15789\n",
            "[12]\tvalidation_0-error:0.15789\n",
            "[13]\tvalidation_0-error:0.17105\n",
            "[14]\tvalidation_0-error:0.17105\n",
            "[15]\tvalidation_0-error:0.17105\n",
            "[16]\tvalidation_0-error:0.15789\n",
            "[17]\tvalidation_0-error:0.17105\n",
            "[18]\tvalidation_0-error:0.15789\n",
            "[19]\tvalidation_0-error:0.17105\n",
            "[20]\tvalidation_0-error:0.17105\n",
            "[21]\tvalidation_0-error:0.17105\n",
            "[22]\tvalidation_0-error:0.18421\n",
            "[23]\tvalidation_0-error:0.18421\n",
            "[24]\tvalidation_0-error:0.17105\n",
            "[25]\tvalidation_0-error:0.18421\n",
            "[26]\tvalidation_0-error:0.18421\n",
            "[27]\tvalidation_0-error:0.18421\n",
            "[28]\tvalidation_0-error:0.18421\n",
            "[29]\tvalidation_0-error:0.18421\n",
            "[30]\tvalidation_0-error:0.18421\n",
            "[31]\tvalidation_0-error:0.18421\n",
            "[32]\tvalidation_0-error:0.18421\n",
            "[33]\tvalidation_0-error:0.18421\n",
            "[34]\tvalidation_0-error:0.18421\n",
            "[35]\tvalidation_0-error:0.18421\n",
            "[36]\tvalidation_0-error:0.18421\n",
            "[37]\tvalidation_0-error:0.18421\n",
            "[38]\tvalidation_0-error:0.18421\n",
            "[39]\tvalidation_0-error:0.18421\n",
            "[40]\tvalidation_0-error:0.18421\n",
            "[41]\tvalidation_0-error:0.18421\n",
            "[42]\tvalidation_0-error:0.18421\n",
            "[43]\tvalidation_0-error:0.17105\n",
            "[44]\tvalidation_0-error:0.18421\n",
            "[45]\tvalidation_0-error:0.17105\n",
            "[46]\tvalidation_0-error:0.18421\n",
            "[47]\tvalidation_0-error:0.18421\n",
            "[48]\tvalidation_0-error:0.17105\n",
            "[49]\tvalidation_0-error:0.15789\n",
            "[50]\tvalidation_0-error:0.17105\n",
            "[51]\tvalidation_0-error:0.17105\n",
            "[52]\tvalidation_0-error:0.15789\n",
            "[53]\tvalidation_0-error:0.17105\n",
            "[54]\tvalidation_0-error:0.17105\n",
            "[55]\tvalidation_0-error:0.17105\n",
            "[56]\tvalidation_0-error:0.17105\n",
            "[57]\tvalidation_0-error:0.17105\n",
            "[58]\tvalidation_0-error:0.17105\n",
            "[59]\tvalidation_0-error:0.17105\n",
            "[60]\tvalidation_0-error:0.17105\n",
            "[61]\tvalidation_0-error:0.17105\n",
            "[62]\tvalidation_0-error:0.17105\n",
            "[63]\tvalidation_0-error:0.17105\n",
            "[64]\tvalidation_0-error:0.17105\n",
            "[65]\tvalidation_0-error:0.17105\n",
            "[66]\tvalidation_0-error:0.18421\n",
            "[67]\tvalidation_0-error:0.18421\n",
            "[68]\tvalidation_0-error:0.18421\n",
            "[69]\tvalidation_0-error:0.18421\n",
            "[70]\tvalidation_0-error:0.18421\n",
            "[71]\tvalidation_0-error:0.18421\n",
            "[72]\tvalidation_0-error:0.18421\n",
            "[73]\tvalidation_0-error:0.18421\n",
            "[74]\tvalidation_0-error:0.17105\n",
            "[75]\tvalidation_0-error:0.18421\n",
            "[76]\tvalidation_0-error:0.17105\n",
            "[77]\tvalidation_0-error:0.18421\n",
            "[78]\tvalidation_0-error:0.15789\n",
            "[79]\tvalidation_0-error:0.17105\n",
            "[80]\tvalidation_0-error:0.15789\n",
            "[81]\tvalidation_0-error:0.15789\n",
            "[82]\tvalidation_0-error:0.15789\n",
            "[83]\tvalidation_0-error:0.15789\n",
            "[84]\tvalidation_0-error:0.15789\n",
            "[85]\tvalidation_0-error:0.15789\n",
            "[86]\tvalidation_0-error:0.15789\n",
            "[87]\tvalidation_0-error:0.15789\n",
            "[88]\tvalidation_0-error:0.15789\n",
            "[89]\tvalidation_0-error:0.15789\n",
            "[90]\tvalidation_0-error:0.15789\n",
            "[91]\tvalidation_0-error:0.15789\n",
            "[92]\tvalidation_0-error:0.15789\n",
            "[93]\tvalidation_0-error:0.17105\n",
            "[94]\tvalidation_0-error:0.17105\n",
            "[95]\tvalidation_0-error:0.17105\n",
            "[96]\tvalidation_0-error:0.17105\n",
            "[97]\tvalidation_0-error:0.17105\n",
            "[98]\tvalidation_0-error:0.17105\n",
            "[99]\tvalidation_0-error:0.17105\n",
            "[100]\tvalidation_0-error:0.17105\n",
            "[101]\tvalidation_0-error:0.17105\n",
            "정확도: 89.47%\n"
          ]
        }
      ],
      "source": [
        "model = XGBClassifier(n_estimators=5000)\n",
        "eval_set = [(X_test, y_test)]\n",
        "eval_metric=\"error\"\n",
        "model.fit(X_train, y_train, eval_metric=eval_metric, eval_set=eval_set, \n",
        "          early_stopping_rounds=100)\n",
        "y_pred = model.predict(X_test)\n",
        "accuracy = accuracy_score(y_test, y_pred)\n",
        "print(\"정확도: %.2f%%\" % (accuracy * 100.0))"
      ]
    },
    {
      "cell_type": "markdown",
      "metadata": {
        "id": "zvyHmin_9jsM"
      },
      "source": [
        "## 하이퍼파라미터 결합\n",
        "\n",
        "### 하나씩 하이퍼파라미터 조사하기\n",
        "\n",
        "#### n_estimators"
      ]
    },
    {
      "cell_type": "code",
      "execution_count": 26,
      "metadata": {
        "colab": {
          "base_uri": "https://localhost:8080/"
        },
        "id": "wk-RPkwK9jsM",
        "outputId": "c22b8752-ec1d-4680-b79a-0f0cb35e574b"
      },
      "outputs": [
        {
          "output_type": "stream",
          "name": "stdout",
          "text": [
            "최상의 매개변수: {'n_estimators': 50}\n",
            "최상의 점수: 0.78907\n"
          ]
        }
      ],
      "source": [
        "grid_search(params={'n_estimators':[2, 25, 50, 75, 100]})"
      ]
    },
    {
      "cell_type": "markdown",
      "metadata": {
        "id": "fANzQZy-9jsN"
      },
      "source": [
        "#### max_depth"
      ]
    },
    {
      "cell_type": "code",
      "execution_count": null,
      "metadata": {
        "id": "qfYqnbDI9jsN",
        "outputId": "609ab5e9-7905-4626-d887-ccf3a90b4039"
      },
      "outputs": [
        {
          "name": "stdout",
          "output_type": "stream",
          "text": [
            "최상의 매개변수: {'max_depth': 1, 'n_estimators': 50}\n",
            "최상의 점수: 0.83869\n"
          ]
        }
      ],
      "source": [
        "grid_search(params={'max_depth':[1, 2, 3, 4, 6, 7, 8], \n",
        "                    'n_estimators':[50]})"
      ]
    },
    {
      "cell_type": "code",
      "execution_count": null,
      "metadata": {
        "id": "eKyfhRIe9jsN",
        "outputId": "19973f76-ab68-4157-f129-f2217756336b"
      },
      "outputs": [
        {
          "name": "stdout",
          "output_type": "stream",
          "text": [
            "최상의 매개변수: {'max_depth': 1, 'n_estimators': 50}\n",
            "최상의 점수: 0.83869\n"
          ]
        }
      ],
      "source": [
        "grid_search(params={'max_depth':[1, 2, 3, 4, 6, 7, 8], \n",
        "                    'n_estimators':[2, 50, 100]})"
      ]
    },
    {
      "cell_type": "markdown",
      "metadata": {
        "id": "_yQKjalw9jsO"
      },
      "source": [
        "#### learning_rate"
      ]
    },
    {
      "cell_type": "code",
      "execution_count": null,
      "metadata": {
        "id": "NOhmSMlW9jsO",
        "outputId": "56d50390-3ba4-4c7f-ffdd-a0c553afb18e"
      },
      "outputs": [
        {
          "name": "stdout",
          "output_type": "stream",
          "text": [
            "최상의 매개변수: {'learning_rate': 0.3, 'max_depth': 1, 'n_estimators': 50}\n",
            "최상의 점수: 0.83869\n"
          ]
        }
      ],
      "source": [
        "grid_search(params={'learning_rate':[0.01, 0.05, 0.1, 0.2, 0.3, 0.4, 0.5], \n",
        "                    'max_depth':[1], 'n_estimators':[50]})"
      ]
    },
    {
      "cell_type": "markdown",
      "metadata": {
        "id": "mred7s6x9jsO"
      },
      "source": [
        "#### min_child_weight"
      ]
    },
    {
      "cell_type": "code",
      "execution_count": null,
      "metadata": {
        "scrolled": true,
        "id": "O1DKKNV29jsO",
        "outputId": "698688b4-31ca-4ce2-d38b-3fa563a122b8"
      },
      "outputs": [
        {
          "name": "stdout",
          "output_type": "stream",
          "text": [
            "최상의 매개변수: {'max_depth': 1, 'min_child_weight': 1, 'n_estimators': 50}\n",
            "최상의 점수: 0.83869\n"
          ]
        }
      ],
      "source": [
        "grid_search(params={'min_child_weight':[1, 2, 3, 4, 5], \n",
        "                    'max_depth':[1], 'n_estimators':[50]})"
      ]
    },
    {
      "cell_type": "markdown",
      "metadata": {
        "id": "07rDNPgY9jsO"
      },
      "source": [
        "#### subsample"
      ]
    },
    {
      "cell_type": "code",
      "execution_count": null,
      "metadata": {
        "id": "TdG6Hjbf9jsO",
        "outputId": "b8f9cdc0-30ec-47b4-989b-656af9f70e20"
      },
      "outputs": [
        {
          "name": "stdout",
          "output_type": "stream",
          "text": [
            "최상의 매개변수: {'max_depth': 1, 'n_estimators': 50, 'subsample': 1}\n",
            "최상의 점수: 0.83869\n"
          ]
        }
      ],
      "source": [
        "grid_search(params={'subsample':[0.5, 0.6, 0.7, 0.8, 0.9, 1],\n",
        "                    'max_depth':[1], 'n_estimators':[50]})"
      ]
    },
    {
      "cell_type": "code",
      "execution_count": null,
      "metadata": {
        "id": "EwhlC8BD9jsO",
        "outputId": "d4225e55-bd3d-487f-bc57-1808593364f3"
      },
      "outputs": [
        {
          "name": "stdout",
          "output_type": "stream",
          "text": [
            "최상의 매개변수: {'learning_rate': 0.5, 'max_depth': 2, 'min_child_weight': 4, 'n_estimators': 2, 'subsample': 0.9}\n",
            "최상의 점수: 0.81224\n"
          ]
        }
      ],
      "source": [
        "grid_search(params={'subsample':[0.5, 0.6, 0.7, 0.8, 0.9, 1], \n",
        "                    'min_child_weight':[1, 2, 3, 4, 5], \n",
        "                    'learning_rate':[0.1, 0.2, 0.3, 0.4, 0.5], \n",
        "                    'max_depth':[1, 2, 3, 4, 5], \n",
        "                    'n_estimators':[2]})"
      ]
    },
    {
      "cell_type": "markdown",
      "metadata": {
        "id": "9J4eRJFa9jsP"
      },
      "source": [
        "### 하이퍼파라미터 조정"
      ]
    },
    {
      "cell_type": "code",
      "execution_count": null,
      "metadata": {
        "id": "UD7aBbZI9jsP",
        "outputId": "197f0a2f-5b1b-4b66-9eb3-98e5a93d2c59"
      },
      "outputs": [
        {
          "name": "stdout",
          "output_type": "stream",
          "text": [
            "최상의 매개변수: {'subsample': 0.6, 'n_estimators': 25, 'min_child_weight': 4, 'max_depth': 4, 'learning_rate': 0.5}\n",
            "최상의 점수: 0.82208\n"
          ]
        }
      ],
      "source": [
        "grid_search(params={'subsample':[0.5, 0.6, 0.7, 0.8, 0.9, 1], \n",
        "                    'min_child_weight':[1, 2, 3, 4, 5], \n",
        "                    'learning_rate':[0.1, 0.2, 0.3, 0.4, 0.5], \n",
        "                    'max_depth':[1, 2, 3, 4, 5, None], \n",
        "                    'n_estimators':[2, 25, 50, 75, 100]}, random=True)"
      ]
    },
    {
      "cell_type": "markdown",
      "metadata": {
        "id": "rzNcAh_O9jsP"
      },
      "source": [
        "####  colsample\n",
        "\n",
        "##### colsample_bytree"
      ]
    },
    {
      "cell_type": "code",
      "execution_count": null,
      "metadata": {
        "id": "CNwQtAja9jsP",
        "outputId": "10c2ccab-bbdc-4d45-a227-32bd66e8b175"
      },
      "outputs": [
        {
          "name": "stdout",
          "output_type": "stream",
          "text": [
            "최상의 매개변수: {'colsample_bytree': 1, 'max_depth': 1, 'n_estimators': 50}\n",
            "최상의 점수: 0.83869\n"
          ]
        }
      ],
      "source": [
        "grid_search(params={'colsample_bytree':[0.5, 0.6, 0.7, 0.8, 0.9, 1],\n",
        "                    'max_depth':[1], 'n_estimators':[50]})"
      ]
    },
    {
      "cell_type": "markdown",
      "metadata": {
        "id": "EX1jDclY9jsP"
      },
      "source": [
        "##### colsample_bylevel"
      ]
    },
    {
      "cell_type": "code",
      "execution_count": null,
      "metadata": {
        "id": "d8Y1CRjN9jsP",
        "outputId": "fee49432-36fe-42cf-eadf-04560cea7451"
      },
      "outputs": [
        {
          "name": "stdout",
          "output_type": "stream",
          "text": [
            "최상의 매개변수: {'colsample_bylevel': 1, 'max_depth': 1, 'n_estimators': 50}\n",
            "최상의 점수: 0.83869\n"
          ]
        }
      ],
      "source": [
        "grid_search(params={'colsample_bylevel':[0.5, 0.6, 0.7, 0.8, 0.9, 1],\n",
        "                    'max_depth':[1], 'n_estimators':[50]})"
      ]
    },
    {
      "cell_type": "markdown",
      "metadata": {
        "id": "jYEx_5Lp9jsP"
      },
      "source": [
        "##### colsample_bynode"
      ]
    },
    {
      "cell_type": "code",
      "execution_count": null,
      "metadata": {
        "id": "E7GLdNBv9jsQ",
        "outputId": "c24fb9fe-7732-43c7-f255-f68eec43b986"
      },
      "outputs": [
        {
          "name": "stdout",
          "output_type": "stream",
          "text": [
            "최상의 매개변수: {'colsample_bylevel': 0.6, 'colsample_bynode': 0.7, 'colsample_bytree': 0.8, 'max_depth': 1, 'n_estimators': 50}\n",
            "최상의 점수: 0.84852\n"
          ]
        }
      ],
      "source": [
        "grid_search(params={'colsample_bynode':[0.5, 0.6, 0.7, 0.8, 0.9, 1], \n",
        "                    'colsample_bylevel':[0.5, 0.6, 0.7, 0.8, 0.9, 1], \n",
        "                    'colsample_bytree':[0.5, 0.6, 0.7, 0.8, 0.9, 1], \n",
        "                    'max_depth':[1], 'n_estimators':[50]})"
      ]
    },
    {
      "cell_type": "markdown",
      "metadata": {
        "id": "5s76Yt5c9jsQ"
      },
      "source": [
        "#### gamma"
      ]
    },
    {
      "cell_type": "code",
      "execution_count": null,
      "metadata": {
        "tags": [],
        "id": "fJRIWEv09jsQ",
        "outputId": "60391168-5493-49eb-f51e-5781c777e680"
      },
      "outputs": [
        {
          "name": "stdout",
          "output_type": "stream",
          "text": [
            "최상의 매개변수: {'colsample_bylevel': 0.9, 'colsample_bynode': 0.5, 'colsample_bytree': 0.8, 'gamma': 0, 'max_depth': 1, 'n_estimators': 50}\n",
            "최상의 점수: 0.83536\n"
          ]
        }
      ],
      "source": [
        "grid_search(params={'gamma':[0, 0.01, 0.05, 0.1, 0.5, 1, 2, 3], \n",
        "                    'colsample_bylevel':[0.9], \n",
        "                    'colsample_bytree':[0.8], \n",
        "                    'colsample_bynode':[0.5], \n",
        "                    'max_depth':[1], 'n_estimators':[50]})"
      ]
    }
  ],
  "metadata": {
    "kernelspec": {
      "display_name": "default:Python",
      "language": "python",
      "name": "conda-env-default-py"
    },
    "language_info": {
      "codemirror_mode": {
        "name": "ipython",
        "version": 3
      },
      "file_extension": ".py",
      "mimetype": "text/x-python",
      "name": "python",
      "nbconvert_exporter": "python",
      "pygments_lexer": "ipython3",
      "version": "3.9.12"
    },
    "colab": {
      "provenance": [],
      "collapsed_sections": []
    }
  },
  "nbformat": 4,
  "nbformat_minor": 0
}