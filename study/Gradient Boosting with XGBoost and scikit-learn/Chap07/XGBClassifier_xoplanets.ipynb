{
  "cells": [
    {
      "cell_type": "markdown",
      "metadata": {
        "id": "CzqCbbV1HSU2"
      },
      "source": [
        "# 7장. XGBoost로 외계 행성 찾기"
      ]
    },
    {
      "cell_type": "markdown",
      "metadata": {
        "id": "pTk7upIqHSU4"
      },
      "source": [
        "*아래 링크를 통해 이 노트북을 주피터 노트북 뷰어(nbviewer.org)로 보거나 구글 코랩(colab.research.google.com)에서 실행할 수 있습니다.*\n",
        "\n",
        "<table class=\"tfo-notebook-buttons\" align=\"left\">\n",
        "  <td>\n",
        "    <a target=\"_blank\" href=\"https://nbviewer.org/github/rickiepark/handson-gb/blob/main/Chapter07/Discovering_Exoplanets.ipynb\"><img src=\"https://jupyter.org/assets/share.png\" width=\"60\" />주피터 노트북 뷰어로 보기</a>\n",
        "  </td>\n",
        "  <td>\n",
        "    <a target=\"_blank\" href=\"https://colab.research.google.com/github/rickiepark/handson-gb/blob/main/Chapter07/Discovering_Exoplanets.ipynb\"><img src=\"https://www.tensorflow.org/images/colab_logo_32px.png\" />구글 코랩(Colab)에서 실행하기</a>\n",
        "  </td>\n",
        "</table>"
      ]
    },
    {
      "cell_type": "code",
      "execution_count": 1,
      "metadata": {
        "colab": {
          "base_uri": "https://localhost:8080/"
        },
        "id": "WdgVxZCvHSU5",
        "outputId": "cfc0c5df-c04c-4505-f4c7-61a1d523c47e"
      },
      "outputs": [
        {
          "output_type": "stream",
          "name": "stdout",
          "text": [
            "\u001b[K     |████████████████████████████████| 255.9 MB 39 kB/s \n",
            "\u001b[?25hArchive:  exoplanets.csv.zip\n",
            "  inflating: exoplanets.csv          \n",
            "   creating: __MACOSX/\n",
            "  inflating: __MACOSX/._exoplanets.csv  \n"
          ]
        }
      ],
      "source": [
        "# 노트북이 코랩에서 실행 중인지 체크합니다.\n",
        "import sys\n",
        "if 'google.colab' in sys.modules:\n",
        "    !pip install -q --upgrade xgboost\n",
        "    !wget -q https://raw.githubusercontent.com/rickiepark/handson-gb/main/Chapter07/exoplanets.csv.zip\n",
        "\n",
        "!unzip -o exoplanets.csv.zip"
      ]
    },
    {
      "cell_type": "code",
      "execution_count": 2,
      "metadata": {
        "id": "PSaYopNcHSU6"
      },
      "outputs": [],
      "source": [
        "# 경고 끄기\n",
        "import warnings\n",
        "warnings.filterwarnings('ignore')\n",
        "\n",
        "import xgboost as xgb\n",
        "xgb.set_config(verbosity=0)"
      ]
    },
    {
      "cell_type": "markdown",
      "metadata": {
        "id": "9P-jarr2HSU6"
      },
      "source": [
        "## 외계 행성 찾기\n",
        "\n",
        "### 외계 행성 데이터셋"
      ]
    },
    {
      "cell_type": "code",
      "execution_count": 3,
      "metadata": {
        "id": "MHvW9FjoHSU7"
      },
      "outputs": [],
      "source": [
        "import pandas as pd\n",
        "df = pd.read_csv('exoplanets.csv', nrows=400)"
      ]
    },
    {
      "cell_type": "code",
      "execution_count": 4,
      "metadata": {
        "colab": {
          "base_uri": "https://localhost:8080/",
          "height": 293
        },
        "id": "R8_XywETHSU7",
        "outputId": "67c8b5f6-9996-4d55-bf71-1249ad2067d5"
      },
      "outputs": [
        {
          "output_type": "execute_result",
          "data": {
            "text/plain": [
              "   LABEL   FLUX.1   FLUX.2   FLUX.3   FLUX.4   FLUX.5   FLUX.6  FLUX.7  \\\n",
              "0      2    93.85    83.81    20.10   -26.98   -39.56  -124.71 -135.18   \n",
              "1      2   -38.88   -33.83   -58.54   -40.09   -79.31   -72.81  -86.55   \n",
              "2      2   532.64   535.92   513.73   496.92   456.45   466.00  464.50   \n",
              "3      2   326.52   347.39   302.35   298.13   317.74   312.70  322.33   \n",
              "4      2 -1107.21 -1112.59 -1118.95 -1095.10 -1057.55 -1034.48 -998.34   \n",
              "\n",
              "    FLUX.8  FLUX.9  ...  FLUX.3188  FLUX.3189  FLUX.3190  FLUX.3191  \\\n",
              "0   -96.27  -79.89  ...     -78.07    -102.15    -102.15      25.13   \n",
              "1   -85.33  -83.97  ...      -3.28     -32.21     -32.21     -24.89   \n",
              "2   486.39  436.56  ...     -71.69      13.31      13.31     -29.89   \n",
              "3   311.31  312.42  ...       5.71      -3.73      -3.73      30.05   \n",
              "4 -1022.71 -989.57  ...    -594.37    -401.66    -401.66    -357.24   \n",
              "\n",
              "   FLUX.3192  FLUX.3193  FLUX.3194  FLUX.3195  FLUX.3196  FLUX.3197  \n",
              "0      48.57      92.54      39.32      61.42       5.08     -39.54  \n",
              "1      -4.86       0.76     -11.70       6.46      16.00      19.93  \n",
              "2     -20.88       5.06     -11.80     -28.91     -70.02     -96.67  \n",
              "3      20.03     -12.67      -8.77     -17.31     -17.35      13.98  \n",
              "4    -443.76    -438.54    -399.71    -384.65    -411.79    -510.54  \n",
              "\n",
              "[5 rows x 3198 columns]"
            ],
            "text/html": [
              "\n",
              "  <div id=\"df-70ad4297-0591-46ef-a187-ed712d3357db\">\n",
              "    <div class=\"colab-df-container\">\n",
              "      <div>\n",
              "<style scoped>\n",
              "    .dataframe tbody tr th:only-of-type {\n",
              "        vertical-align: middle;\n",
              "    }\n",
              "\n",
              "    .dataframe tbody tr th {\n",
              "        vertical-align: top;\n",
              "    }\n",
              "\n",
              "    .dataframe thead th {\n",
              "        text-align: right;\n",
              "    }\n",
              "</style>\n",
              "<table border=\"1\" class=\"dataframe\">\n",
              "  <thead>\n",
              "    <tr style=\"text-align: right;\">\n",
              "      <th></th>\n",
              "      <th>LABEL</th>\n",
              "      <th>FLUX.1</th>\n",
              "      <th>FLUX.2</th>\n",
              "      <th>FLUX.3</th>\n",
              "      <th>FLUX.4</th>\n",
              "      <th>FLUX.5</th>\n",
              "      <th>FLUX.6</th>\n",
              "      <th>FLUX.7</th>\n",
              "      <th>FLUX.8</th>\n",
              "      <th>FLUX.9</th>\n",
              "      <th>...</th>\n",
              "      <th>FLUX.3188</th>\n",
              "      <th>FLUX.3189</th>\n",
              "      <th>FLUX.3190</th>\n",
              "      <th>FLUX.3191</th>\n",
              "      <th>FLUX.3192</th>\n",
              "      <th>FLUX.3193</th>\n",
              "      <th>FLUX.3194</th>\n",
              "      <th>FLUX.3195</th>\n",
              "      <th>FLUX.3196</th>\n",
              "      <th>FLUX.3197</th>\n",
              "    </tr>\n",
              "  </thead>\n",
              "  <tbody>\n",
              "    <tr>\n",
              "      <th>0</th>\n",
              "      <td>2</td>\n",
              "      <td>93.85</td>\n",
              "      <td>83.81</td>\n",
              "      <td>20.10</td>\n",
              "      <td>-26.98</td>\n",
              "      <td>-39.56</td>\n",
              "      <td>-124.71</td>\n",
              "      <td>-135.18</td>\n",
              "      <td>-96.27</td>\n",
              "      <td>-79.89</td>\n",
              "      <td>...</td>\n",
              "      <td>-78.07</td>\n",
              "      <td>-102.15</td>\n",
              "      <td>-102.15</td>\n",
              "      <td>25.13</td>\n",
              "      <td>48.57</td>\n",
              "      <td>92.54</td>\n",
              "      <td>39.32</td>\n",
              "      <td>61.42</td>\n",
              "      <td>5.08</td>\n",
              "      <td>-39.54</td>\n",
              "    </tr>\n",
              "    <tr>\n",
              "      <th>1</th>\n",
              "      <td>2</td>\n",
              "      <td>-38.88</td>\n",
              "      <td>-33.83</td>\n",
              "      <td>-58.54</td>\n",
              "      <td>-40.09</td>\n",
              "      <td>-79.31</td>\n",
              "      <td>-72.81</td>\n",
              "      <td>-86.55</td>\n",
              "      <td>-85.33</td>\n",
              "      <td>-83.97</td>\n",
              "      <td>...</td>\n",
              "      <td>-3.28</td>\n",
              "      <td>-32.21</td>\n",
              "      <td>-32.21</td>\n",
              "      <td>-24.89</td>\n",
              "      <td>-4.86</td>\n",
              "      <td>0.76</td>\n",
              "      <td>-11.70</td>\n",
              "      <td>6.46</td>\n",
              "      <td>16.00</td>\n",
              "      <td>19.93</td>\n",
              "    </tr>\n",
              "    <tr>\n",
              "      <th>2</th>\n",
              "      <td>2</td>\n",
              "      <td>532.64</td>\n",
              "      <td>535.92</td>\n",
              "      <td>513.73</td>\n",
              "      <td>496.92</td>\n",
              "      <td>456.45</td>\n",
              "      <td>466.00</td>\n",
              "      <td>464.50</td>\n",
              "      <td>486.39</td>\n",
              "      <td>436.56</td>\n",
              "      <td>...</td>\n",
              "      <td>-71.69</td>\n",
              "      <td>13.31</td>\n",
              "      <td>13.31</td>\n",
              "      <td>-29.89</td>\n",
              "      <td>-20.88</td>\n",
              "      <td>5.06</td>\n",
              "      <td>-11.80</td>\n",
              "      <td>-28.91</td>\n",
              "      <td>-70.02</td>\n",
              "      <td>-96.67</td>\n",
              "    </tr>\n",
              "    <tr>\n",
              "      <th>3</th>\n",
              "      <td>2</td>\n",
              "      <td>326.52</td>\n",
              "      <td>347.39</td>\n",
              "      <td>302.35</td>\n",
              "      <td>298.13</td>\n",
              "      <td>317.74</td>\n",
              "      <td>312.70</td>\n",
              "      <td>322.33</td>\n",
              "      <td>311.31</td>\n",
              "      <td>312.42</td>\n",
              "      <td>...</td>\n",
              "      <td>5.71</td>\n",
              "      <td>-3.73</td>\n",
              "      <td>-3.73</td>\n",
              "      <td>30.05</td>\n",
              "      <td>20.03</td>\n",
              "      <td>-12.67</td>\n",
              "      <td>-8.77</td>\n",
              "      <td>-17.31</td>\n",
              "      <td>-17.35</td>\n",
              "      <td>13.98</td>\n",
              "    </tr>\n",
              "    <tr>\n",
              "      <th>4</th>\n",
              "      <td>2</td>\n",
              "      <td>-1107.21</td>\n",
              "      <td>-1112.59</td>\n",
              "      <td>-1118.95</td>\n",
              "      <td>-1095.10</td>\n",
              "      <td>-1057.55</td>\n",
              "      <td>-1034.48</td>\n",
              "      <td>-998.34</td>\n",
              "      <td>-1022.71</td>\n",
              "      <td>-989.57</td>\n",
              "      <td>...</td>\n",
              "      <td>-594.37</td>\n",
              "      <td>-401.66</td>\n",
              "      <td>-401.66</td>\n",
              "      <td>-357.24</td>\n",
              "      <td>-443.76</td>\n",
              "      <td>-438.54</td>\n",
              "      <td>-399.71</td>\n",
              "      <td>-384.65</td>\n",
              "      <td>-411.79</td>\n",
              "      <td>-510.54</td>\n",
              "    </tr>\n",
              "  </tbody>\n",
              "</table>\n",
              "<p>5 rows × 3198 columns</p>\n",
              "</div>\n",
              "      <button class=\"colab-df-convert\" onclick=\"convertToInteractive('df-70ad4297-0591-46ef-a187-ed712d3357db')\"\n",
              "              title=\"Convert this dataframe to an interactive table.\"\n",
              "              style=\"display:none;\">\n",
              "        \n",
              "  <svg xmlns=\"http://www.w3.org/2000/svg\" height=\"24px\"viewBox=\"0 0 24 24\"\n",
              "       width=\"24px\">\n",
              "    <path d=\"M0 0h24v24H0V0z\" fill=\"none\"/>\n",
              "    <path d=\"M18.56 5.44l.94 2.06.94-2.06 2.06-.94-2.06-.94-.94-2.06-.94 2.06-2.06.94zm-11 1L8.5 8.5l.94-2.06 2.06-.94-2.06-.94L8.5 2.5l-.94 2.06-2.06.94zm10 10l.94 2.06.94-2.06 2.06-.94-2.06-.94-.94-2.06-.94 2.06-2.06.94z\"/><path d=\"M17.41 7.96l-1.37-1.37c-.4-.4-.92-.59-1.43-.59-.52 0-1.04.2-1.43.59L10.3 9.45l-7.72 7.72c-.78.78-.78 2.05 0 2.83L4 21.41c.39.39.9.59 1.41.59.51 0 1.02-.2 1.41-.59l7.78-7.78 2.81-2.81c.8-.78.8-2.07 0-2.86zM5.41 20L4 18.59l7.72-7.72 1.47 1.35L5.41 20z\"/>\n",
              "  </svg>\n",
              "      </button>\n",
              "      \n",
              "  <style>\n",
              "    .colab-df-container {\n",
              "      display:flex;\n",
              "      flex-wrap:wrap;\n",
              "      gap: 12px;\n",
              "    }\n",
              "\n",
              "    .colab-df-convert {\n",
              "      background-color: #E8F0FE;\n",
              "      border: none;\n",
              "      border-radius: 50%;\n",
              "      cursor: pointer;\n",
              "      display: none;\n",
              "      fill: #1967D2;\n",
              "      height: 32px;\n",
              "      padding: 0 0 0 0;\n",
              "      width: 32px;\n",
              "    }\n",
              "\n",
              "    .colab-df-convert:hover {\n",
              "      background-color: #E2EBFA;\n",
              "      box-shadow: 0px 1px 2px rgba(60, 64, 67, 0.3), 0px 1px 3px 1px rgba(60, 64, 67, 0.15);\n",
              "      fill: #174EA6;\n",
              "    }\n",
              "\n",
              "    [theme=dark] .colab-df-convert {\n",
              "      background-color: #3B4455;\n",
              "      fill: #D2E3FC;\n",
              "    }\n",
              "\n",
              "    [theme=dark] .colab-df-convert:hover {\n",
              "      background-color: #434B5C;\n",
              "      box-shadow: 0px 1px 3px 1px rgba(0, 0, 0, 0.15);\n",
              "      filter: drop-shadow(0px 1px 2px rgba(0, 0, 0, 0.3));\n",
              "      fill: #FFFFFF;\n",
              "    }\n",
              "  </style>\n",
              "\n",
              "      <script>\n",
              "        const buttonEl =\n",
              "          document.querySelector('#df-70ad4297-0591-46ef-a187-ed712d3357db button.colab-df-convert');\n",
              "        buttonEl.style.display =\n",
              "          google.colab.kernel.accessAllowed ? 'block' : 'none';\n",
              "\n",
              "        async function convertToInteractive(key) {\n",
              "          const element = document.querySelector('#df-70ad4297-0591-46ef-a187-ed712d3357db');\n",
              "          const dataTable =\n",
              "            await google.colab.kernel.invokeFunction('convertToInteractive',\n",
              "                                                     [key], {});\n",
              "          if (!dataTable) return;\n",
              "\n",
              "          const docLinkHtml = 'Like what you see? Visit the ' +\n",
              "            '<a target=\"_blank\" href=https://colab.research.google.com/notebooks/data_table.ipynb>data table notebook</a>'\n",
              "            + ' to learn more about interactive tables.';\n",
              "          element.innerHTML = '';\n",
              "          dataTable['output_type'] = 'display_data';\n",
              "          await google.colab.output.renderOutput(dataTable, element);\n",
              "          const docLink = document.createElement('div');\n",
              "          docLink.innerHTML = docLinkHtml;\n",
              "          element.appendChild(docLink);\n",
              "        }\n",
              "      </script>\n",
              "    </div>\n",
              "  </div>\n",
              "  "
            ]
          },
          "metadata": {},
          "execution_count": 4
        }
      ],
      "source": [
        "df.head()"
      ]
    },
    {
      "cell_type": "code",
      "execution_count": 5,
      "metadata": {
        "colab": {
          "base_uri": "https://localhost:8080/"
        },
        "id": "VtNbvjcBHSU7",
        "outputId": "2c0bfac9-323b-4f65-d1f8-a28eff8f3536"
      },
      "outputs": [
        {
          "output_type": "execute_result",
          "data": {
            "text/plain": [
              "1    363\n",
              "2     37\n",
              "Name: LABEL, dtype: int64"
            ]
          },
          "metadata": {},
          "execution_count": 5
        }
      ],
      "source": [
        "df['LABEL'].value_counts()\n",
        "\n",
        "\n",
        "# 머신 훈련하는데 label을 활용하지는 않는다. \n",
        "# 외계행성 2개 or 1개 가졌는지 판단하는 데이터"
      ]
    },
    {
      "cell_type": "markdown",
      "metadata": {
        "id": "dO-VdqtEHSU8"
      },
      "source": [
        "### 그래프 시각화"
      ]
    },
    {
      "cell_type": "code",
      "execution_count": 6,
      "metadata": {
        "id": "oqRraqRHHSU8"
      },
      "outputs": [],
      "source": [
        "import matplotlib.pyplot as plt\n",
        "import numpy as np\n",
        "import seaborn as sns\n",
        "sns.set()\n",
        "\n",
        "X = df.iloc[:,1:]\n",
        "y = df.iloc[:,0] - 1\n",
        "\n",
        "# X와 y를 나누어준다.\n",
        "\n",
        "\n",
        "def light_plot(index):\n",
        "    y_vals = X.iloc[index]\n",
        "    x_vals = np.arange(len(y_vals))\n",
        "    plt.figure(figsize=(15,8))\n",
        "    plt.xlabel('Number of Observations')\n",
        "    plt.ylabel('Light Flux')\n",
        "    plt.title('Light Plot ' + str(index), size=15)\n",
        "    plt.plot(x_vals, y_vals)\n",
        "    plt.show()"
      ]
    },
    {
      "cell_type": "code",
      "execution_count": 7,
      "metadata": {
        "colab": {
          "base_uri": "https://localhost:8080/",
          "height": 540
        },
        "id": "udmyMtd_HSU8",
        "outputId": "834755e8-395b-42e1-a334-b9b8b0252549"
      },
      "outputs": [
        {
          "output_type": "display_data",
          "data": {
            "text/plain": [
              "<Figure size 1080x576 with 1 Axes>"
            ],
            "image/png": "[encoded data removed]"
          },
          "metadata": {}
        }
      ],
      "source": [
        "light_plot(0)\n",
        "\n",
        "# 외계 행성을 가진 별 (주기적인 광도 변화를 확인할 수 있다.)"
      ]
    },
    {
      "cell_type": "code",
      "execution_count": 12,
      "metadata": {
        "colab": {
          "base_uri": "https://localhost:8080/",
          "height": 540
        },
        "id": "cHxF58KiHSU8",
        "outputId": "84b24bc5-f774-42c4-8a66-742fcef6edc0"
      },
      "outputs": [
        {
          "output_type": "display_data",
          "data": {
            "text/plain": [
              "<Figure size 1080x576 with 1 Axes>"
            ],
            "image/png": "[encoded data removed]"
          },
          "metadata": {}
        }
      ],
      "source": [
        "light_plot(37)\n",
        "\n",
        "# 외계 행성 없는 별 \n",
        "# 광도 변화가 있으나, 꾸준히 증가 or 감소하는 추세는 보이지 않는다. "
      ]
    },
    {
      "cell_type": "code",
      "execution_count": 13,
      "metadata": {
        "colab": {
          "base_uri": "https://localhost:8080/",
          "height": 540
        },
        "id": "YZSl5V8IHSU9",
        "outputId": "e7499d39-1c87-4a1c-89e8-52c399fe66c1"
      },
      "outputs": [
        {
          "output_type": "display_data",
          "data": {
            "text/plain": [
              "<Figure size 1080x576 with 1 Axes>"
            ],
            "image/png": "[encoded data removed]"
          },
          "metadata": {}
        }
      ],
      "source": [
        "light_plot(1)\n",
        "\n",
        "# 주기적인 광도 변화가 있다고 볼 수 있다. \n",
        "\n",
        "\n",
        "# 이게 주기가 천차만별일 것 같은데 어떻게 감지하지?"
      ]
    },
    {
      "cell_type": "markdown",
      "metadata": {
        "id": "DLL1OpuSHSU9"
      },
      "source": [
        "### 데이터 준비"
      ]
    },
    {
      "cell_type": "code",
      "execution_count": 14,
      "metadata": {
        "colab": {
          "base_uri": "https://localhost:8080/"
        },
        "id": "CPNHIgZdHSU9",
        "outputId": "786d7128-8b51-4a95-a7cb-1f1a96b5d5d5"
      },
      "outputs": [
        {
          "output_type": "stream",
          "name": "stdout",
          "text": [
            "<class 'pandas.core.frame.DataFrame'>\n",
            "RangeIndex: 400 entries, 0 to 399\n",
            "Columns: 3198 entries, LABEL to FLUX.3197\n",
            "dtypes: float64(3197), int64(1)\n",
            "memory usage: 9.8 MB\n"
          ]
        }
      ],
      "source": [
        "df.info()"
      ]
    },
    {
      "cell_type": "code",
      "execution_count": 15,
      "metadata": {
        "colab": {
          "base_uri": "https://localhost:8080/"
        },
        "id": "1FuimKGAHSU9",
        "outputId": "45bf178b-a302-4b62-a3e8-200fb9f22a83"
      },
      "outputs": [
        {
          "output_type": "execute_result",
          "data": {
            "text/plain": [
              "0"
            ]
          },
          "metadata": {},
          "execution_count": 15
        }
      ],
      "source": [
        "# 누락된 값의 개수를 셉니다.\n",
        "df.isnull().sum().sum()"
      ]
    },
    {
      "cell_type": "markdown",
      "metadata": {
        "id": "cSIpDiltHSU-"
      },
      "source": [
        "### 초기 XGBClassifier"
      ]
    },
    {
      "cell_type": "code",
      "execution_count": 8,
      "metadata": {
        "id": "YthrhhOHHSU-"
      },
      "outputs": [],
      "source": [
        "# XGBRegressor를 임포트합니다.\n",
        "from xgboost import XGBClassifier\n",
        "\n",
        "# accuracy_score를 임포트합니다.\n",
        "from sklearn.metrics import accuracy_score\n",
        "\n",
        "# train_test_split를 임포트합니다.\n",
        "from sklearn.model_selection import train_test_split\n",
        "\n",
        "# 데이터를 훈련 세트와 테스트 세트로 나눕니다.\n",
        "X_train, X_test, y_train, y_test = train_test_split(X, y, random_state=2)"
      ]
    },
    {
      "cell_type": "code",
      "execution_count": 9,
      "metadata": {
        "colab": {
          "base_uri": "https://localhost:8080/"
        },
        "id": "vCvjBgqpHSU-",
        "outputId": "a374833e-3f4e-4e5f-d4f6-19964c6ac8c7"
      },
      "outputs": [
        {
          "output_type": "stream",
          "name": "stdout",
          "text": [
            "점수: 0.89\n"
          ]
        }
      ],
      "source": [
        "# XGBClassifier를 초기화합니다.\n",
        "model = XGBClassifier(booster='gbtree')\n",
        "\n",
        "# 훈련 세트로 모델을 훈련합니다.\n",
        "model.fit(X_train, y_train)\n",
        "\n",
        "# 테스트 세트에 대한 예측을 만듭니다.\n",
        "y_pred = model.predict(X_test)\n",
        "\n",
        "score = accuracy_score(y_pred, y_test)\n",
        "\n",
        "print('점수: ' + str(score))"
      ]
    },
    {
      "cell_type": "markdown",
      "metadata": {
        "id": "yhGaJvgxHSU-"
      },
      "source": [
        "## 오차 행렬 분석하기\n",
        "\n",
        "### confusion_matrix"
      ]
    },
    {
      "cell_type": "code",
      "execution_count": 10,
      "metadata": {
        "colab": {
          "base_uri": "https://localhost:8080/"
        },
        "id": "O3ByxRxlHSU_",
        "outputId": "366542e6-dd1f-4edf-99d0-f8f9de4c119c"
      },
      "outputs": [
        {
          "output_type": "execute_result",
          "data": {
            "text/plain": [
              "array([[86,  2],\n",
              "       [ 9,  3]])"
            ]
          },
          "metadata": {},
          "execution_count": 10
        }
      ],
      "source": [
        "from sklearn.metrics import confusion_matrix\n",
        "confusion_matrix(y_test, y_pred)"
      ]
    },
    {
      "cell_type": "markdown",
      "metadata": {
        "id": "ee84Y6NpHSU_"
      },
      "source": [
        "### classification_report"
      ]
    },
    {
      "cell_type": "code",
      "execution_count": 11,
      "metadata": {
        "scrolled": true,
        "colab": {
          "base_uri": "https://localhost:8080/"
        },
        "id": "qkNc-zCFHSU_",
        "outputId": "a909314f-640a-4805-9216-8cc190f296a2"
      },
      "outputs": [
        {
          "output_type": "stream",
          "name": "stdout",
          "text": [
            "              precision    recall  f1-score   support\n",
            "\n",
            "           0       0.91      0.98      0.94        88\n",
            "           1       0.60      0.25      0.35        12\n",
            "\n",
            "    accuracy                           0.89       100\n",
            "   macro avg       0.75      0.61      0.65       100\n",
            "weighted avg       0.87      0.89      0.87       100\n",
            "\n"
          ]
        }
      ],
      "source": [
        "from sklearn.metrics import classification_report\n",
        "print(classification_report(y_test, y_pred))"
      ]
    },
    {
      "cell_type": "markdown",
      "metadata": {
        "id": "aU1SqcH0HSVA"
      },
      "source": [
        "### 다른 측정 방법\n",
        "\n",
        "####  recall_score"
      ]
    },
    {
      "cell_type": "code",
      "execution_count": 16,
      "metadata": {
        "colab": {
          "base_uri": "https://localhost:8080/"
        },
        "id": "IrMLDy-OHSVA",
        "outputId": "aef23151-7cb0-4979-bd5c-918dbf30a1a7"
      },
      "outputs": [
        {
          "output_type": "execute_result",
          "data": {
            "text/plain": [
              "0.25"
            ]
          },
          "metadata": {},
          "execution_count": 16
        }
      ],
      "source": [
        "from sklearn.metrics import recall_score\n",
        "recall_score(y_test, y_pred)"
      ]
    },
    {
      "cell_type": "markdown",
      "metadata": {
        "id": "fza8Mbc6HSVA"
      },
      "source": [
        "## 불균형 데이터 리샘플링\n",
        "\n",
        "### 언더샘플링\n",
        "\n",
        "#### xgb_clf 함수"
      ]
    },
    {
      "cell_type": "code",
      "execution_count": 17,
      "metadata": {
        "id": "UmLuaWklHSVA"
      },
      "outputs": [],
      "source": [
        "# 언더샘플링 -> 다수클래스의 샘플을 줄이는 것 \n",
        "\n",
        "def xgb_clf(model, nrows):\n",
        "\n",
        "    df = pd.read_csv('exoplanets.csv', nrows=nrows)\n",
        "    # 데이터를 X와 y로 나눕니다.\n",
        "    X = df.iloc[:,1:]\n",
        "    y = df.iloc[:,0] - 1\n",
        "\n",
        "    # 데이터를 훈련 세트와 테스트 세트로 나눕니다.\n",
        "    X_train, X_test, y_train, y_test = train_test_split(X, y, random_state=2)\n",
        "\n",
        "    # 훈련 세트에서 모델을 훈련합니다.\n",
        "    model.fit(X_train, y_train)\n",
        "\n",
        "    # 테스트 세트에 대한 예측을 만듭니다.\n",
        "    y_pred = model.predict(X_test)\n",
        "\n",
        "    score = recall_score(y_test, y_pred)\n",
        "    \n",
        "    print(confusion_matrix(y_test, y_pred))\n",
        "    \n",
        "    print(classification_report(y_test, y_pred))\n",
        "        \n",
        "    return score"
      ]
    },
    {
      "cell_type": "markdown",
      "metadata": {
        "id": "vv_2hZ6XHSVB"
      },
      "source": [
        "#### 언더샘플링 테스트"
      ]
    },
    {
      "cell_type": "code",
      "execution_count": null,
      "metadata": {
        "scrolled": true,
        "id": "KFHPMqHRHSVB",
        "outputId": "2e46d4a8-c94c-4e19-92fe-cae259433aeb"
      },
      "outputs": [
        {
          "name": "stdout",
          "output_type": "stream",
          "text": [
            "[[189   1]\n",
            " [  9   1]]\n",
            "              precision    recall  f1-score   support\n",
            "\n",
            "           0       0.95      0.99      0.97       190\n",
            "           1       0.50      0.10      0.17        10\n",
            "\n",
            "    accuracy                           0.95       200\n",
            "   macro avg       0.73      0.55      0.57       200\n",
            "weighted avg       0.93      0.95      0.93       200\n",
            "\n"
          ]
        },
        {
          "data": {
            "text/plain": [
              "0.1"
            ]
          },
          "execution_count": 20,
          "metadata": {},
          "output_type": "execute_result"
        }
      ],
      "source": [
        "xgb_clf(XGBClassifier(), nrows=800)"
      ]
    },
    {
      "cell_type": "code",
      "execution_count": null,
      "metadata": {
        "id": "7yFIDk-CHSVB",
        "outputId": "28123be6-ddae-409d-b17c-06be5676b4a2"
      },
      "outputs": [
        {
          "name": "stdout",
          "output_type": "stream",
          "text": [
            "[[37  0]\n",
            " [ 8  5]]\n",
            "              precision    recall  f1-score   support\n",
            "\n",
            "           0       0.82      1.00      0.90        37\n",
            "           1       1.00      0.38      0.56        13\n",
            "\n",
            "    accuracy                           0.84        50\n",
            "   macro avg       0.91      0.69      0.73        50\n",
            "weighted avg       0.87      0.84      0.81        50\n",
            "\n"
          ]
        },
        {
          "data": {
            "text/plain": [
              "0.38461538461538464"
            ]
          },
          "execution_count": 21,
          "metadata": {},
          "output_type": "execute_result"
        }
      ],
      "source": [
        "xgb_clf(XGBClassifier(), nrows=200)"
      ]
    },
    {
      "cell_type": "code",
      "execution_count": null,
      "metadata": {
        "id": "Qs0FvBGzHSVB",
        "outputId": "6c7c286d-ed04-4092-81f4-32cdc4feca44"
      },
      "outputs": [
        {
          "name": "stdout",
          "output_type": "stream",
          "text": [
            "[[6 2]\n",
            " [5 6]]\n",
            "              precision    recall  f1-score   support\n",
            "\n",
            "           0       0.55      0.75      0.63         8\n",
            "           1       0.75      0.55      0.63        11\n",
            "\n",
            "    accuracy                           0.63        19\n",
            "   macro avg       0.65      0.65      0.63        19\n",
            "weighted avg       0.66      0.63      0.63        19\n",
            "\n"
          ]
        },
        {
          "data": {
            "text/plain": [
              "0.5454545454545454"
            ]
          },
          "execution_count": 22,
          "metadata": {},
          "output_type": "execute_result"
        }
      ],
      "source": [
        "xgb_clf(XGBClassifier(), nrows=74)"
      ]
    },
    {
      "cell_type": "markdown",
      "metadata": {
        "id": "CCkbZ6R9HSVB"
      },
      "source": [
        "### 오버샘플링"
      ]
    },
    {
      "cell_type": "code",
      "execution_count": 18,
      "metadata": {
        "id": "InBw960bHSVC"
      },
      "outputs": [],
      "source": [
        "# 오버샘플링 -> 소수 클래스의 샘플을 늘리는 것 \n",
        "\n",
        "df_train = pd.merge(y_train, X_train, left_index=True, right_index=True)"
      ]
    },
    {
      "cell_type": "code",
      "execution_count": null,
      "metadata": {
        "id": "PxF4Y1X2HSVC",
        "outputId": "10cda883-efbe-499e-ca81-d9f32ce2571c"
      },
      "outputs": [
        {
          "data": {
            "text/plain": [
              "0.0    275\n",
              "1.0    250\n",
              "Name: LABEL, dtype: int64"
            ]
          },
          "execution_count": 24,
          "metadata": {},
          "output_type": "execute_result"
        }
      ],
      "source": [
        "newdf = pd.DataFrame(np.repeat(df_train[df_train['LABEL']==1].values,\n",
        "                               9,axis=0))\n",
        "newdf.columns = df_train.columns\n",
        "df_train_resample = pd.concat([df_train, newdf])\n",
        "\n",
        "df_train_resample['LABEL'].value_counts()"
      ]
    },
    {
      "cell_type": "code",
      "execution_count": null,
      "metadata": {
        "id": "_CTV50vMHSVC"
      },
      "outputs": [],
      "source": [
        "X_train_resample = df_train_resample.iloc[:,1:]\n",
        "y_train_resample = df_train_resample.iloc[:,0]"
      ]
    },
    {
      "cell_type": "code",
      "execution_count": null,
      "metadata": {
        "id": "bc2moDn_HSVD",
        "outputId": "cb472f9c-d805-44eb-caf6-3ae79a0b778e"
      },
      "outputs": [
        {
          "name": "stdout",
          "output_type": "stream",
          "text": [
            "[[86  2]\n",
            " [ 8  4]]\n",
            "              precision    recall  f1-score   support\n",
            "\n",
            "           0       0.91      0.98      0.95        88\n",
            "           1       0.67      0.33      0.44        12\n",
            "\n",
            "    accuracy                           0.90       100\n",
            "   macro avg       0.79      0.66      0.69       100\n",
            "weighted avg       0.89      0.90      0.88       100\n",
            "\n",
            "0.3333333333333333\n"
          ]
        }
      ],
      "source": [
        "# XGBClassifier를 초기화합니다.\n",
        "model = XGBClassifier()\n",
        "\n",
        "# 훈련 세트로 모델을 훈련합니다.\n",
        "model.fit(X_train_resample, y_train_resample)\n",
        "\n",
        "# 테스트 세트에 대해 예측을 만듭니다.\n",
        "y_pred = model.predict(X_test)\n",
        "\n",
        "score = recall_score(y_test, y_pred)\n",
        "\n",
        "print(confusion_matrix(y_test, y_pred))\n",
        "\n",
        "print(classification_report(y_test, y_pred))\n",
        "\n",
        "print(score)"
      ]
    },
    {
      "cell_type": "markdown",
      "metadata": {
        "id": "ZYkXT8DaHSVD"
      },
      "source": [
        "## XGBClassifier 튜닝\n",
        "\n",
        "### 가중치 조정하기\n",
        "\n",
        "#### replace 메서드"
      ]
    },
    {
      "cell_type": "code",
      "execution_count": 19,
      "metadata": {
        "colab": {
          "base_uri": "https://localhost:8080/"
        },
        "id": "c9wx3_pVHSVD",
        "outputId": "30947ae7-94cc-4be8-ab05-2cfdcb8976d0"
      },
      "outputs": [
        {
          "output_type": "execute_result",
          "data": {
            "text/plain": [
              "0    363\n",
              "1     37\n",
              "Name: LABEL, dtype: int64"
            ]
          },
          "metadata": {},
          "execution_count": 19
        }
      ],
      "source": [
        "df['LABEL'] = df['LABEL'].replace(1, 0)\n",
        "df['LABEL'] = df['LABEL'].replace(2, 1)\n",
        "\n",
        "df['LABEL'].value_counts()"
      ]
    },
    {
      "cell_type": "markdown",
      "metadata": {
        "id": "8RDkwpViHSVE"
      },
      "source": [
        "#### scale_pos_weight"
      ]
    },
    {
      "cell_type": "code",
      "execution_count": 20,
      "metadata": {
        "id": "XYXx1yq6HSVE"
      },
      "outputs": [],
      "source": [
        "# 데이터를 X와 y로 나눕니다.\n",
        "X = df.iloc[:,1:]\n",
        "y = df.iloc[:,0]\n",
        "\n",
        "# 데이터를 훈련 세트와 테스트 세트로 나눕니다.\n",
        "X_train, X_test, y_train, y_test = train_test_split(X, y, random_state=2)"
      ]
    },
    {
      "cell_type": "code",
      "execution_count": 21,
      "metadata": {
        "colab": {
          "base_uri": "https://localhost:8080/"
        },
        "id": "BCIKtgEwHSVE",
        "outputId": "b3082661-f750-4a58-c908-b9bd0301bd6c"
      },
      "outputs": [
        {
          "output_type": "stream",
          "name": "stdout",
          "text": [
            "[[86  2]\n",
            " [ 8  4]]\n",
            "              precision    recall  f1-score   support\n",
            "\n",
            "           0       0.91      0.98      0.95        88\n",
            "           1       0.67      0.33      0.44        12\n",
            "\n",
            "    accuracy                           0.90       100\n",
            "   macro avg       0.79      0.66      0.69       100\n",
            "weighted avg       0.89      0.90      0.88       100\n",
            "\n",
            "0.3333333333333333\n"
          ]
        }
      ],
      "source": [
        "model = XGBClassifier(scale_pos_weight=10)\n",
        "\n",
        "model.fit(X_train, y_train)\n",
        "\n",
        "# 테스트 세트에 대한 예측을 만듭니다.\n",
        "y_pred = model.predict(X_test)\n",
        "\n",
        "score = recall_score(y_test, y_pred)\n",
        "\n",
        "print(confusion_matrix(y_test, y_pred))\n",
        "\n",
        "print(classification_report(y_test, y_pred))\n",
        "\n",
        "print(score)"
      ]
    },
    {
      "cell_type": "markdown",
      "metadata": {
        "id": "bf9boRmQHSVE"
      },
      "source": [
        "### XGBClassifier 튜닝\n",
        "\n",
        "#### 기준 모델"
      ]
    },
    {
      "cell_type": "code",
      "execution_count": 22,
      "metadata": {
        "id": "1gE-s46gHSVF"
      },
      "outputs": [],
      "source": [
        "from sklearn.model_selection import GridSearchCV, RandomizedSearchCV,StratifiedKFold, cross_val_score"
      ]
    },
    {
      "cell_type": "code",
      "execution_count": 23,
      "metadata": {
        "scrolled": true,
        "colab": {
          "base_uri": "https://localhost:8080/"
        },
        "id": "jBdihVDHHSVF",
        "outputId": "4d10a4ce-b753-4c96-a9da-a14b7739a820"
      },
      "outputs": [
        {
          "output_type": "stream",
          "name": "stdout",
          "text": [
            "재현율:  [0.10526316 0.27777778]\n",
            "재현율 평균:  0.1915204678362573\n"
          ]
        }
      ],
      "source": [
        "kfold = StratifiedKFold(n_splits=2, shuffle=True, random_state=2)\n",
        "\n",
        "model = XGBClassifier(scale_pos_weight=10)\n",
        "\n",
        "# 교차 검증 점수를 계산합니다.\n",
        "scores = cross_val_score(model, X, y, cv=kfold, scoring='recall')\n",
        "\n",
        "# 재현율을 출력합니다.\n",
        "print('재현율: ', scores)\n",
        "\n",
        "# 재현율의 평균을 출력합니다.\n",
        "print('재현율 평균: ', scores.mean())"
      ]
    },
    {
      "cell_type": "markdown",
      "metadata": {
        "id": "FNRnXb81HSVF"
      },
      "source": [
        "#### grid_search"
      ]
    },
    {
      "cell_type": "code",
      "execution_count": 24,
      "metadata": {
        "id": "ohtrsQVvHSVF"
      },
      "outputs": [],
      "source": [
        "def grid_search(params, random=False, X=X, y=y, \n",
        "                model=XGBClassifier(scale_pos_weight=10, random_state=2)): \n",
        "    \n",
        "    xgb = model\n",
        "    \n",
        "    if random:\n",
        "        grid = RandomizedSearchCV(xgb, params, cv=kfold, n_jobs=-1, \n",
        "                                  random_state=2, scoring='recall')\n",
        "    else:\n",
        "        # 그리드 서치 객체를 초기화합니다.\n",
        "        grid = GridSearchCV(xgb, params, cv=kfold, n_jobs=-1, scoring='recall')\n",
        "    \n",
        "    # X_train와 y_train으로 훈련합니다.\n",
        "    grid.fit(X, y)\n",
        "\n",
        "    # 최상의 매개변수를 추출합니다.\n",
        "    best_params = grid.best_params_\n",
        "\n",
        "    # 최상의 매개변수를 출력합니다.\n",
        "    print(\"최상의 매개변수:\", best_params)\n",
        "    \n",
        "    # 최상의 점수를 추출합니다.\n",
        "    best_score = grid.best_score_\n",
        "\n",
        "    # 최상의 점수를 출력합니다.\n",
        "    print(\"최상의 점수: {:.5f}\".format(best_score))"
      ]
    },
    {
      "cell_type": "code",
      "execution_count": null,
      "metadata": {
        "id": "v-y_ZKgYHSVG",
        "outputId": "9d6ab316-0cfe-48f7-c208-1a74628a388d"
      },
      "outputs": [
        {
          "name": "stdout",
          "output_type": "stream",
          "text": [
            "최상의 매개변수: {'n_estimators': 50}\n",
            "최상의 점수: 0.19152\n"
          ]
        }
      ],
      "source": [
        "grid_search(params={'n_estimators':[50, 200, 400, 800]})"
      ]
    },
    {
      "cell_type": "code",
      "execution_count": null,
      "metadata": {
        "scrolled": true,
        "id": "9Rmi2rAqHSVG",
        "outputId": "021d42d9-241a-4a2b-9d03-bfecfc928ab6"
      },
      "outputs": [
        {
          "name": "stdout",
          "output_type": "stream",
          "text": [
            "최상의 매개변수: {'learning_rate': 0.01}\n",
            "최상의 점수: 0.40351\n"
          ]
        }
      ],
      "source": [
        "grid_search(params={'learning_rate':[0.01, 0.05, 0.2, 0.3]})"
      ]
    },
    {
      "cell_type": "code",
      "execution_count": null,
      "metadata": {
        "id": "pBoJfAbpHSVG",
        "outputId": "8399c3fe-1d2f-4819-af7b-0506a452e010"
      },
      "outputs": [
        {
          "name": "stdout",
          "output_type": "stream",
          "text": [
            "최상의 매개변수: {'max_depth': 2}\n",
            "최상의 점수: 0.24415\n"
          ]
        }
      ],
      "source": [
        "grid_search(params={'max_depth':[1, 2, 4, 8]})"
      ]
    },
    {
      "cell_type": "code",
      "execution_count": null,
      "metadata": {
        "id": "lTYuCPrxHSVG",
        "outputId": "0170c744-54af-467f-f55d-9b44f5916c0e"
      },
      "outputs": [
        {
          "name": "stdout",
          "output_type": "stream",
          "text": [
            "최상의 매개변수: {'subsample': 0.3}\n",
            "최상의 점수: 0.24561\n"
          ]
        }
      ],
      "source": [
        "grid_search(params={'subsample':[0.3, 0.5, 0.7, 0.9]})"
      ]
    },
    {
      "cell_type": "code",
      "execution_count": null,
      "metadata": {
        "id": "FlDiM8rJHSVG",
        "outputId": "06e9c97c-0037-42a5-b301-952542ba70ba"
      },
      "outputs": [
        {
          "name": "stdout",
          "output_type": "stream",
          "text": [
            "최상의 매개변수: {'gamma': 0.05}\n",
            "최상의 점수: 0.24415\n"
          ]
        }
      ],
      "source": [
        "grid_search(params={'gamma':[0.05, 0.1, 0.5, 1]})"
      ]
    },
    {
      "cell_type": "code",
      "execution_count": null,
      "metadata": {
        "id": "T8aCn-WQHSVG",
        "outputId": "aa9b74a5-a222-4e4e-a652-00c605b34421"
      },
      "outputs": [
        {
          "name": "stdout",
          "output_type": "stream",
          "text": [
            "최상의 매개변수: {'gamma': 0.025, 'learning_rate': 0.001, 'max_depth': 2}\n",
            "최상의 점수: 0.53509\n"
          ]
        }
      ],
      "source": [
        "grid_search(params={'learning_rate':[0.001, 0.01, 0.03], \n",
        "                    'max_depth':[1, 2], 'gamma':[0.025, 0.05, 0.5]})"
      ]
    },
    {
      "cell_type": "code",
      "execution_count": null,
      "metadata": {
        "id": "lucfYpdSHSVH",
        "outputId": "ed7d04de-5271-4342-a72a-952c26c753f8"
      },
      "outputs": [
        {
          "name": "stdout",
          "output_type": "stream",
          "text": [
            "최상의 매개변수: {'max_delta_step': 1}\n",
            "최상의 점수: 0.24415\n"
          ]
        }
      ],
      "source": [
        "grid_search(params={'max_delta_step':[1, 3, 5, 7]})"
      ]
    },
    {
      "cell_type": "code",
      "execution_count": null,
      "metadata": {
        "id": "j9YlkXVTHSVH",
        "outputId": "48607388-9d67-4318-d5c2-483c4f10d84c"
      },
      "outputs": [
        {
          "name": "stdout",
          "output_type": "stream",
          "text": [
            "최상의 매개변수: {'subsample': 0.3, 'colsample_bytree': 0.7, 'colsample_bynode': 0.7, 'colsample_bylevel': 1}\n",
            "최상의 점수: 0.37865\n"
          ]
        }
      ],
      "source": [
        "grid_search(params={'subsample':[0.3, 0.5, 0.7, 0.9, 1], \n",
        "                    'colsample_bylevel':[0.3, 0.5, 0.7, 0.9, 1], \n",
        "                    'colsample_bynode':[0.3, 0.5, 0.7, 0.9, 1], \n",
        "                    'colsample_bytree':[0.3, 0.5, 0.7, 0.9, 1]}, random=True)"
      ]
    },
    {
      "cell_type": "markdown",
      "metadata": {
        "id": "dkdq62GeHSVH"
      },
      "source": [
        "#### 균형잡힌 서브셋"
      ]
    },
    {
      "cell_type": "code",
      "execution_count": null,
      "metadata": {
        "id": "v5abnFvQHSVH"
      },
      "outputs": [],
      "source": [
        "X_short = X.iloc[:74, :]\n",
        "y_short = y.iloc[:74]"
      ]
    },
    {
      "cell_type": "code",
      "execution_count": null,
      "metadata": {
        "scrolled": true,
        "id": "kN03T_gtHSVH",
        "outputId": "867f4e0f-339d-4883-899a-d0770c702a87"
      },
      "outputs": [
        {
          "name": "stdout",
          "output_type": "stream",
          "text": [
            "최상의 매개변수: {'colsample_bynode': 0.5, 'max_depth': 1}\n",
            "최상의 점수: 0.65205\n"
          ]
        }
      ],
      "source": [
        "grid_search(params={'max_depth':[1, 2, 3], \n",
        "                    'colsample_bynode':[0.5, 0.75, 1]}, \n",
        "            X=X_short, y=y_short, \n",
        "            model=XGBClassifier(random_state=2))"
      ]
    },
    {
      "cell_type": "markdown",
      "metadata": {
        "id": "A_tzPLDrHSVH"
      },
      "source": [
        "#### 전체 데이터로 튜닝하기"
      ]
    },
    {
      "cell_type": "code",
      "execution_count": null,
      "metadata": {
        "id": "Ph2q0_XeHSVH"
      },
      "outputs": [],
      "source": [
        "df_all = pd.read_csv('exoplanets.csv')\n",
        "df_all['LABEL'] = df_all['LABEL'].replace(1, 0)\n",
        "df_all['LABEL'] = df_all['LABEL'].replace(2, 1)\n",
        "\n",
        "X_all = df_all.iloc[:,1:]\n",
        "y_all = df_all.iloc[:,0]"
      ]
    },
    {
      "cell_type": "code",
      "execution_count": null,
      "metadata": {
        "id": "Uq35lW7KHSVH",
        "outputId": "efba9710-5ed9-4649-fdc1-234b7d7c2f5e"
      },
      "outputs": [
        {
          "data": {
            "text/plain": [
              "0    5050\n",
              "1      37\n",
              "Name: LABEL, dtype: int64"
            ]
          },
          "execution_count": 44,
          "metadata": {},
          "output_type": "execute_result"
        }
      ],
      "source": [
        "df_all['LABEL'].value_counts()"
      ]
    },
    {
      "cell_type": "code",
      "execution_count": null,
      "metadata": {
        "id": "_PaWKNjdHSVH"
      },
      "outputs": [],
      "source": [
        "weight = int(5050/37)"
      ]
    },
    {
      "cell_type": "code",
      "execution_count": null,
      "metadata": {
        "id": "ptREPagCHSVI",
        "outputId": "4e115857-796b-4e4d-cd8c-c0db90c9112c"
      },
      "outputs": [
        {
          "name": "stdout",
          "output_type": "stream",
          "text": [
            "재현율: [0.10526316 0.        ]\n",
            "재현율 평균: 0.05263157894736842\n"
          ]
        }
      ],
      "source": [
        "model = XGBClassifier(scale_pos_weight=weight)\n",
        "\n",
        "# 교차 검증 점수를 계산합니다.\n",
        "scores = cross_val_score(model, X_all, y_all, cv=kfold, scoring='recall')\n",
        "\n",
        "# 재현율을 출력합니다.\n",
        "print('재현율:', scores)\n",
        "\n",
        "# 재현율의 평균을 출력합니다.\n",
        "print('재현율 평균:', scores.mean())"
      ]
    },
    {
      "cell_type": "code",
      "execution_count": null,
      "metadata": {
        "id": "p6GYrZSxHSVI",
        "outputId": "91c4bac6-1eea-4e8d-cc76-3bf26b48d77a"
      },
      "outputs": [
        {
          "name": "stdout",
          "output_type": "stream",
          "text": [
            "최상의 매개변수: {'learning_rate': 0.001}\n",
            "최상의 점수: 0.26316\n"
          ]
        }
      ],
      "source": [
        "grid_search(params={'learning_rate':[0.001, 0.01]}, X=X_all, y=y_all, \n",
        "            model=XGBClassifier(scale_pos_weight=weight))"
      ]
    },
    {
      "cell_type": "code",
      "execution_count": null,
      "metadata": {
        "id": "Yf25SzbSHSVI",
        "outputId": "0a4a7031-4fdd-4733-9ca0-2f88fbe07f8e"
      },
      "outputs": [
        {
          "name": "stdout",
          "output_type": "stream",
          "text": [
            "최상의 매개변수: {'learning_rate': 0.001, 'max_depth': 2}\n",
            "최상의 점수: 0.53509\n"
          ]
        }
      ],
      "source": [
        "grid_search(params={'max_depth':[1, 2],'learning_rate':[0.001]}, X=X_all, y=y_all, \n",
        "            model=XGBClassifier(scale_pos_weight=weight))"
      ]
    },
    {
      "cell_type": "markdown",
      "metadata": {
        "id": "_DfuGbFDHSVI"
      },
      "source": [
        "### 결과 통합"
      ]
    },
    {
      "cell_type": "code",
      "execution_count": null,
      "metadata": {
        "id": "LoXrcXjBHSVI"
      },
      "outputs": [],
      "source": [
        "def final_model(X, y, model):\n",
        "    model.fit(X, y)\n",
        "    y_pred = model.predict(X_all)\n",
        "    score = recall_score(y_all, y_pred)\n",
        "    print(score)\n",
        "    print(confusion_matrix(y_all, y_pred))\n",
        "    print(classification_report(y_all, y_pred))"
      ]
    },
    {
      "cell_type": "markdown",
      "metadata": {
        "id": "sDcAxkD2HSVI"
      },
      "source": [
        "#### 74개 샘플"
      ]
    },
    {
      "cell_type": "code",
      "execution_count": null,
      "metadata": {
        "id": "3AB396F0HSVI",
        "outputId": "6996323f-8e59-48d4-df7a-d69df1ed6ad3"
      },
      "outputs": [
        {
          "name": "stdout",
          "output_type": "stream",
          "text": [
            "1.0\n",
            "[[3588 1462]\n",
            " [   0   37]]\n",
            "              precision    recall  f1-score   support\n",
            "\n",
            "           0       1.00      0.71      0.83      5050\n",
            "           1       0.02      1.00      0.05        37\n",
            "\n",
            "    accuracy                           0.71      5087\n",
            "   macro avg       0.51      0.86      0.44      5087\n",
            "weighted avg       0.99      0.71      0.83      5087\n",
            "\n"
          ]
        }
      ],
      "source": [
        "final_model(X_short, y_short, \n",
        "            XGBClassifier(max_depth=2, colsample_by_node=0.5, \n",
        "                          random_state=2))"
      ]
    },
    {
      "cell_type": "markdown",
      "metadata": {
        "id": "IxzJcv8yHSVJ"
      },
      "source": [
        "#### 400개 샘플"
      ]
    },
    {
      "cell_type": "code",
      "execution_count": null,
      "metadata": {
        "id": "CnC3biVJHSVJ",
        "outputId": "1441aa76-6299-49c3-b0fc-fbb47697f591"
      },
      "outputs": [
        {
          "name": "stdout",
          "output_type": "stream",
          "text": [
            "1.0\n",
            "[[4897  153]\n",
            " [   0   37]]\n",
            "              precision    recall  f1-score   support\n",
            "\n",
            "           0       1.00      0.97      0.98      5050\n",
            "           1       0.19      1.00      0.33        37\n",
            "\n",
            "    accuracy                           0.97      5087\n",
            "   macro avg       0.60      0.98      0.66      5087\n",
            "weighted avg       0.99      0.97      0.98      5087\n",
            "\n"
          ]
        }
      ],
      "source": [
        "final_model(X, y, \n",
        "            XGBClassifier(max_depth=2, colsample_bynode=0.5, \n",
        "                          scale_pos_weight=10, random_state=2))"
      ]
    },
    {
      "cell_type": "markdown",
      "metadata": {
        "id": "VqclqrhvHSVJ"
      },
      "source": [
        "#### 5,050개 샘플"
      ]
    },
    {
      "cell_type": "code",
      "execution_count": null,
      "metadata": {
        "tags": [],
        "id": "OvMS3l1QHSVJ",
        "outputId": "c8279922-472b-4a43-fd53-411de5f92fea"
      },
      "outputs": [
        {
          "name": "stdout",
          "output_type": "stream",
          "text": [
            "1.0\n",
            "[[5050    0]\n",
            " [   0   37]]\n",
            "              precision    recall  f1-score   support\n",
            "\n",
            "           0       1.00      1.00      1.00      5050\n",
            "           1       1.00      1.00      1.00        37\n",
            "\n",
            "    accuracy                           1.00      5087\n",
            "   macro avg       1.00      1.00      1.00      5087\n",
            "weighted avg       1.00      1.00      1.00      5087\n",
            "\n"
          ]
        }
      ],
      "source": [
        "final_model(X_all, y_all, \n",
        "            XGBClassifier(max_depth=2, colsample_bynode=0.5, \n",
        "                          scale_pos_weight=weight, random_state=2))\n",
        "\n",
        "\n",
        "# 정밀도, 재현율이 1이다? \n",
        "# + 과대적합의 가능성 조심하기! "
      ]
    }
  ],
  "metadata": {
    "kernelspec": {
      "display_name": "default:Python",
      "language": "python",
      "name": "conda-env-default-py"
    },
    "language_info": {
      "codemirror_mode": {
        "name": "ipython",
        "version": 3
      },
      "file_extension": ".py",
      "mimetype": "text/x-python",
      "name": "python",
      "nbconvert_exporter": "python",
      "pygments_lexer": "ipython3",
      "version": "3.9.12"
    },
    "colab": {
      "provenance": [],
      "collapsed_sections": []
    }
  },
  "nbformat": 4,
  "nbformat_minor": 0
}